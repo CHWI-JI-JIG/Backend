{
 "cells": [
  {
   "cell_type": "code",
   "execution_count": 3,
   "metadata": {},
   "outputs": [],
   "source": [
    "import __init__\n",
    "from abc import ABCMeta, abstractmethod\n",
    "from typing import Optional, Tuple, List\n",
    "from result import Result, Ok, Err\n",
    "\n",
    "from uuid import uuid4, UUID\n",
    "\n",
    "from Domains.Members import *\n",
    "from Domains.Sessions import *\n",
    "from Builders.Members import *\n",
    "from Repositories.Members import *\n",
    "from Applications.Members.ExtentionMethod import hashing_passwd\n",
    "from datetime import datetime, timedelta\n",
    "from Repositories.Sessions import *\n",
    "\n",
    "from Storages.Sessions import *\n",
    "from Storages.Members import *\n",
    "\n",
    "from Applications.Members import *\n",
    "\n",
    "from icecream import ic"
   ]
  },
  {
   "cell_type": "code",
   "execution_count": 4,
   "metadata": {},
   "outputs": [
    {
     "data": {
      "text/plain": [
       "Ok((MemberSession(key=UUID('25dc4d09-1334-401b-9063-2847092c2dd1'), owner_id=UUID('015dc8e9-efdc-4fc0-896f-e7827d9dc11d'), create_time=datetime.datetime(2024, 3, 25, 20, 1, 58), use_count=0, name='관리자', role=<RoleType.ADMIN: 'admin'>, account='admin', member_id=MemberID(uuid=UUID('015dc8e9-efdc-4fc0-896f-e7827d9dc11d'), sequence=-1)), False))"
      ]
     },
     "execution_count": 4,
     "metadata": {},
     "output_type": "execute_result"
    }
   ],
   "source": [
    "# 테스트 전 값 변경\n",
    "# App > Members > LoginMemberService.py > check_passwd_change\n",
    "# days_to_check = (초)\n",
    "# time_since_last_change = current_date - last_changed_date\n",
    "# return time_since_last_change.total_seconds() > days_to_check\n",
    "\n",
    "login_service = AuthenticationMemberService(\n",
    "            auth_member_repo=MySqlLoginAuthentication(),\n",
    "            session_repo=MySqlMakeSaveMemberSession(),\n",
    "        )\n",
    "login_service.login(\"admin\", \"admin\")"
   ]
  }
 ],
 "metadata": {
  "kernelspec": {
   "display_name": "Python 3",
   "language": "python",
   "name": "python3"
  },
  "language_info": {
   "codemirror_mode": {
    "name": "ipython",
    "version": 3
   },
   "file_extension": ".py",
   "mimetype": "text/x-python",
   "name": "python",
   "nbconvert_exporter": "python",
   "pygments_lexer": "ipython3",
   "version": "3.12.0"
  }
 },
 "nbformat": 4,
 "nbformat_minor": 2
}
