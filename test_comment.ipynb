{
 "cells": [
  {
   "cell_type": "code",
   "execution_count": 1,
   "metadata": {},
   "outputs": [],
   "source": [
    "import __init__\n",
    "import unittest\n",
    "import sys\n",
    "\n",
    "from get_config_data import get_db_padding\n",
    "from result import Result, Ok, Err, is_ok\n",
    "from icecream import ic\n",
    "from uuid import uuid4\n",
    "\n",
    "from Storages.Products import MySqlSaveProduct\n",
    "from Storages.Comments import MySqlSaveComment\n",
    "from Domains.Comments import *\n",
    "from Migrations import MySqlCreateProduct, MySqlCreateComments\n"
   ]
  },
  {
   "cell_type": "code",
   "execution_count": 6,
   "metadata": {},
   "outputs": [],
   "source": [
    "sql=MySqlCreateComments(get_db_padding())"
   ]
  },
  {
   "cell_type": "code",
   "execution_count": 7,
   "metadata": {},
   "outputs": [],
   "source": [
    "sql.create_comments()"
   ]
  },
  {
   "cell_type": "code",
   "execution_count": null,
   "metadata": {},
   "outputs": [],
   "source": []
  },
  {
   "cell_type": "code",
   "execution_count": 3,
   "metadata": {},
   "outputs": [
    {
     "name": "stderr",
     "output_type": "stream",
     "text": [
      "ic| comment: Comment(id=CommentID(uuid=UUID('733cc9b7-893f-4dfc-a339-114bf22de075'),\n",
      "                                  sequence=-1),\n",
      "                     product_id='product456',\n",
      "                     writer_id='writer123',\n",
      "                     writer_account='1q2w',\n",
      "                     seller_account='61402060298',\n",
      "                     answer='This is an answer.',\n",
      "                     question='This is a question.')\n"
     ]
    },
    {
     "data": {
      "text/plain": [
       "Err('(1054, \"Unknown column \\'writer_account\\' in \\'field list\\'\")')"
      ]
     },
     "execution_count": 3,
     "metadata": {},
     "output_type": "execute_result"
    }
   ],
   "source": [
    "sql=MySqlSaveComment(get_db_padding())\n",
    "comment_data = {\n",
    "    \"id\": CommentID(uuid=uuid4()),\n",
    "    \"writer_id\": \"writer123\",\n",
    "    \"writer_account\": \"1q2w\",\n",
    "    \"product_id\": \"product456\",\n",
    "    \"seller_account\": \"61402060298\",\n",
    "    \"answer\": \"This is an answer.\",\n",
    "    \"question\": \"This is a question.\"\n",
    "}\n",
    "comment = Comment(**comment_data)\n",
    "ic(comment)\n",
    "sql.save_comment(comment)"
   ]
  },
  {
   "cell_type": "markdown",
   "metadata": {},
   "source": []
  },
  {
   "cell_type": "code",
   "execution_count": 9,
   "metadata": {},
   "outputs": [
    {
     "ename": "AttributeError",
     "evalue": "'MySqlSaveComment' object has no attribute 'check_exist_comments'",
     "output_type": "error",
     "traceback": [
      "\u001b[1;31m---------------------------------------------------------------------------\u001b[0m",
      "\u001b[1;31mAttributeError\u001b[0m                            Traceback (most recent call last)",
      "Cell \u001b[1;32mIn[9], line 1\u001b[0m\n\u001b[1;32m----> 1\u001b[0m \u001b[43msql\u001b[49m\u001b[38;5;241;43m.\u001b[39;49m\u001b[43mcheck_exist_comments\u001b[49m()\n",
      "\u001b[1;31mAttributeError\u001b[0m: 'MySqlSaveComment' object has no attribute 'check_exist_comments'"
     ]
    }
   ],
   "source": [
    "sql.check_exist_comments()"
   ]
  },
  {
   "cell_type": "code",
   "execution_count": null,
   "metadata": {},
   "outputs": [],
   "source": [
    "sql.delete_comments()"
   ]
  }
 ],
 "metadata": {
  "kernelspec": {
   "display_name": "Python 3",
   "language": "python",
   "name": "python3"
  },
  "language_info": {
   "codemirror_mode": {
    "name": "ipython",
    "version": 3
   },
   "file_extension": ".py",
   "mimetype": "text/x-python",
   "name": "python",
   "nbconvert_exporter": "python",
   "pygments_lexer": "ipython3",
   "version": "3.12.0"
  }
 },
 "nbformat": 4,
 "nbformat_minor": 2
}
