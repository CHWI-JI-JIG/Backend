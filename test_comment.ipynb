{
 "cells": [
  {
   "cell_type": "code",
   "execution_count": 23,
   "metadata": {},
   "outputs": [],
   "source": [
    "import __init__\n",
    "import unittest\n",
    "import sys\n",
    "\n",
    "from get_config_data import get_db_padding\n",
    "from result import Result, Ok, Err, is_ok\n",
    "from icecream import ic\n",
    "from uuid import uuid4\n",
    "\n",
    "from Storages.Products import MySqlSaveProduct\n",
    "from Storages.Comments import MySqlSaveComment\n",
    "from Domains.Comments import *\n",
    "from Migrations import MySqlCreateProduct, MySqlCreateComments\n"
   ]
  },
  {
   "cell_type": "code",
   "execution_count": 24,
   "metadata": {},
   "outputs": [],
   "source": [
    "sql=MySqlCreateComments(get_db_padding())"
   ]
  },
  {
   "cell_type": "code",
   "execution_count": 25,
   "metadata": {},
   "outputs": [],
   "source": [
    "sql.create_comments()"
   ]
  },
  {
   "cell_type": "code",
   "execution_count": 28,
   "metadata": {},
   "outputs": [
    {
     "name": "stderr",
     "output_type": "stream",
     "text": [
      "ic| 2540341076.py:12 in <module> at 13:54:03.820\n",
      "ic| comment: Comment(id=CommentID(uuid=UUID('184df291-1f58-449c-81cb-98d89f6288e8'),\n",
      "                                  sequence=-1),\n",
      "                     product_id='61402060298',\n",
      "                     writer_id='ryugyoseo',\n",
      "                     writer_account='1q2w',\n",
      "                     seller_account='61402060298',\n",
      "                     answer='The disappearing mist flowers vanish into the evening dew.',\n",
      "                     question=\"It's a beautiful sentence.\")\n"
     ]
    },
    {
     "data": {
      "text/plain": [
       "Err('(1054, \"Unknown column \\'writer_account\\' in \\'field list\\'\")')"
      ]
     },
     "execution_count": 28,
     "metadata": {},
     "output_type": "execute_result"
    }
   ],
   "source": [
    "sql=MySqlSaveComment(get_db_padding())\n",
    "comment_data = {\n",
    "    \"id\": CommentID(uuid=uuid4()),\n",
    "    \"answer\": \"The disappearing mist flowers vanish into the evening dew.\", \n",
    "    \"question\": \"It's a beautiful sentence.\",\n",
    "    \"writer_account\": \"1q2w\",\n",
    "    \"product_id\": \"61402060298\",\n",
    "    \"writer_id\" : \"ryugyoseo\",\n",
    "    \"seller_account\" : \"61402060298\"\n",
    "}\n",
    "comment = Comment(**comment_data)\n",
    "ic()\n",
    "ic(comment)\n",
    "sql.save_comment(comment)"
   ]
  },
  {
   "cell_type": "markdown",
   "metadata": {},
   "source": []
  },
  {
   "cell_type": "code",
   "execution_count": null,
   "metadata": {},
   "outputs": [],
   "source": [
    "sql.check_exist_comments()"
   ]
  },
  {
   "cell_type": "code",
   "execution_count": null,
   "metadata": {},
   "outputs": [],
   "source": [
    "sql.delete_comments()"
   ]
  }
 ],
 "metadata": {
  "kernelspec": {
   "display_name": "Python 3",
   "language": "python",
   "name": "python3"
  },
  "language_info": {
   "codemirror_mode": {
    "name": "ipython",
    "version": 3
   },
   "file_extension": ".py",
   "mimetype": "text/x-python",
   "name": "python",
   "nbconvert_exporter": "python",
   "pygments_lexer": "ipython3",
   "version": "3.12.0"
  }
 },
 "nbformat": 4,
 "nbformat_minor": 2
}
