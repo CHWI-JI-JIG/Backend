{
 "cells": [
  {
   "cell_type": "code",
   "execution_count": 4,
   "metadata": {},
   "outputs": [],
   "source": [
    "import __init__\n",
    "import unittest\n",
    "import sys\n",
    "\n",
    "from get_config_data import get_db_padding\n",
    "from result import Result, Ok, Err, is_ok\n",
    "from icecream import ic\n",
    "from uuid import uuid4\n",
    "\n",
    "from Storages.Products import MySqlSaveProduct\n",
    "from Storages.Comments import MySqlSaveComment\n",
    "from Domains.Comments import *\n",
    "from Migrations import MySqlCreateProduct, MySqlCreateComments\n"
   ]
  },
  {
   "cell_type": "markdown",
   "metadata": {},
   "source": []
  },
  {
   "cell_type": "code",
   "execution_count": 5,
   "metadata": {},
   "outputs": [],
   "source": [
    "sql=MySqlCreateComments(get_db_padding())"
   ]
  },
  {
   "cell_type": "code",
   "execution_count": 6,
   "metadata": {},
   "outputs": [],
   "source": [
    "sql.create_comments()"
   ]
  },
  {
   "cell_type": "code",
   "execution_count": 7,
   "metadata": {},
   "outputs": [
    {
     "name": "stderr",
     "output_type": "stream",
     "text": [
      "ic| 658732956.py:12 in <module> at 16:56:54.027\n"
     ]
    },
    {
     "name": "stderr",
     "output_type": "stream",
     "text": [
      "ic| comment: Comment(id=CommentID(uuid=UUID('cfb928ee-690f-4abf-b97e-913947c8fee2'),\n",
      "                                  sequence=-1),\n",
      "                     product_id='b34b3fc337a943c88497413e64a4f63d',\n",
      "                     writer_id='4cb4c99e6ee04466a0a40f37a7e2e56a',\n",
      "                     writer_account='ryugyoseo',\n",
      "                     seller_account='61402060298',\n",
      "                     answer='The disappearing mist flowers vanish into the evening dew.',\n",
      "                     question=\"It's a beautiful sentence.\")\n"
     ]
    },
    {
     "data": {
      "text/plain": [
       "Ok(UUID('cfb928ee-690f-4abf-b97e-913947c8fee2'))"
      ]
     },
     "execution_count": 7,
     "metadata": {},
     "output_type": "execute_result"
    }
   ],
   "source": [
    "sql=MySqlSaveComment(get_db_padding())\n",
    "comment_data = {\n",
    "    \"id\": CommentID(uuid=uuid4()),\n",
    "    \"answer\": \"The disappearing mist flowers vanish into the evening dew.\", \n",
    "    \"question\": \"It's a beautiful sentence.\",\n",
    "    \"writer_id\": \"4cb4c99e6ee04466a0a40f37a7e2e56a\",\n",
    "    \"product_id\": \"b34b3fc337a943c88497413e64a4f63d\",\n",
    "    \"writer_account\" : \"ryugyoseo\",\n",
    "    \"seller_account\" : \"61402060298\"\n",
    "}\n",
    "comment = Comment(**comment_data)\n",
    "ic()\n",
    "ic(comment)\n",
    "sql.save_comment(comment)"
   ]
  },
  {
   "cell_type": "code",
   "execution_count": 8,
   "metadata": {},
   "outputs": [
    {
     "ename": "AttributeError",
     "evalue": "'MySqlSaveComment' object has no attribute 'check_exist_comments'",
     "output_type": "error",
     "traceback": [
      "\u001b[1;31m---------------------------------------------------------------------------\u001b[0m",
      "\u001b[1;31mAttributeError\u001b[0m                            Traceback (most recent call last)",
      "Cell \u001b[1;32mIn[8], line 1\u001b[0m\n\u001b[1;32m----> 1\u001b[0m \u001b[43msql\u001b[49m\u001b[38;5;241;43m.\u001b[39;49m\u001b[43mcheck_exist_comments\u001b[49m()\n",
      "\u001b[1;31mAttributeError\u001b[0m: 'MySqlSaveComment' object has no attribute 'check_exist_comments'"
     ]
    }
   ],
   "source": []
  },
  {
   "cell_type": "code",
   "execution_count": null,
   "metadata": {},
   "outputs": [],
   "source": [
    "sql.delete_comments()"
   ]
  }
 ],
 "metadata": {
  "kernelspec": {
   "display_name": "Python 3",
   "language": "python",
   "name": "python3"
  },
  "language_info": {
   "codemirror_mode": {
    "name": "ipython",
    "version": 3
   },
   "file_extension": ".py",
   "mimetype": "text/x-python",
   "name": "python",
   "nbconvert_exporter": "python",
   "pygments_lexer": "ipython3",
   "version": "3.12.0"
  }
 },
 "nbformat": 4,
 "nbformat_minor": 2
}
