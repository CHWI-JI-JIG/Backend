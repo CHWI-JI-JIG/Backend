{
 "cells": [
  {
   "cell_type": "code",
   "execution_count": 1,
   "metadata": {},
   "outputs": [],
   "source": [
    "import __init__\n",
    "import unittest\n",
    "import sys\n",
    "\n",
    "from get_config_data import get_db_padding\n",
    "from result import Result, Ok, Err, is_ok\n",
    "from icecream import ic\n",
    "from uuid import uuid4\n",
    "\n",
    "from Storages.Products import MySqlSaveProduct\n",
    "from Storages.Comments import MySqlSaveComment\n",
    "from Domains.Comments import *\n",
    "from Migrations import MySqlCreateProduct, MySqlCreateComments\n",
    "from Builders.Comments import *\n",
    "from Builders.Members import *\n",
    "from Domains.Sessions import *\n"
   ]
  },
  {
   "cell_type": "code",
   "execution_count": 2,
   "metadata": {},
   "outputs": [],
   "source": [
    "sql=MySqlCreateComments(get_db_padding())"
   ]
  },
  {
   "cell_type": "code",
   "execution_count": 3,
   "metadata": {},
   "outputs": [],
   "source": [
    "sql.create_comments()"
   ]
  },
  {
   "cell_type": "code",
   "execution_count": 4,
   "metadata": {},
   "outputs": [
    {
     "name": "stderr",
     "output_type": "stream",
     "text": [
      "ic| 3727696941.py:12 in <module> at 00:52:05.336\n",
      "ic| comment: Comment(id=CommentID(uuid=UUID('40b276d3-b5ec-4aad-885f-1e23e24b3c18'),\n",
      "                                  sequence=-1),\n",
      "                     product_id='2cc60cb80b8d40a0b76ffb7c37a8b014',\n",
      "                     writer_id='6c21091534e34363827b1b58f394e468',\n",
      "                     writer_account='ryugyoseo',\n",
      "                     seller_account='61402060298',\n",
      "                     answer='The disappearing mist flowers vanish into the evening dew.',\n",
      "                     question=\"It's a beautiful sentence.\")\n"
     ]
    },
    {
     "data": {
      "text/plain": [
       "Err(\"'str' object has no attribute 'get_id'\")"
      ]
     },
     "execution_count": 4,
     "metadata": {},
     "output_type": "execute_result"
    }
   ],
   "source": [
    "sql=MySqlSaveComment(get_db_padding())\n",
    "comment_data = {\n",
    "    \"id\": CommentID(uuid=uuid4()),\n",
    "    \"answer\": \"The disappearing mist flowers vanish into the evening dew.\", \n",
    "    \"question\": \"It's a beautiful sentence.\",\n",
    "    \"writer_id\": \"6c21091534e34363827b1b58f394e468\",\n",
    "    \"product_id\": \"2cc60cb80b8d40a0b76ffb7c37a8b014\",\n",
    "    \"writer_account\" : \"ryugyoseo\",\n",
    "    \"seller_account\" : \"61402060298\"\n",
    "}\n",
    "comment = Comment(**comment_data)\n",
    "ic()\n",
    "ic(comment)\n",
    "sql.save_comment(comment)"
   ]
  },
  {
   "cell_type": "code",
   "execution_count": 8,
   "metadata": {},
   "outputs": [
    {
     "ename": "AttributeError",
     "evalue": "'MySqlSaveComment' object has no attribute 'check_exist_comments'",
     "output_type": "error",
     "traceback": [
      "\u001b[1;31m---------------------------------------------------------------------------\u001b[0m",
      "\u001b[1;31mAttributeError\u001b[0m                            Traceback (most recent call last)",
      "Cell \u001b[1;32mIn[8], line 1\u001b[0m\n\u001b[1;32m----> 1\u001b[0m \u001b[43msql\u001b[49m\u001b[38;5;241;43m.\u001b[39;49m\u001b[43mcheck_exist_comments\u001b[49m()\n",
      "\u001b[1;31mAttributeError\u001b[0m: 'MySqlSaveComment' object has no attribute 'check_exist_comments'"
     ]
    }
   ],
   "source": []
  },
  {
   "cell_type": "code",
   "execution_count": 2,
   "metadata": {},
   "outputs": [
    {
     "ename": "NameError",
     "evalue": "name 'sql' is not defined",
     "output_type": "error",
     "traceback": [
      "\u001b[1;31m---------------------------------------------------------------------------\u001b[0m",
      "\u001b[1;31mNameError\u001b[0m                                 Traceback (most recent call last)",
      "Cell \u001b[1;32mIn[2], line 1\u001b[0m\n\u001b[1;32m----> 1\u001b[0m \u001b[43msql\u001b[49m\u001b[38;5;241m.\u001b[39mdelete_comments()\n",
      "\u001b[1;31mNameError\u001b[0m: name 'sql' is not defined"
     ]
    }
   ],
   "source": [
    "sql.delete_comments()"
   ]
  },
  {
   "cell_type": "code",
   "execution_count": 3,
   "metadata": {},
   "outputs": [],
   "source": [
    "sql=MySqlSaveComment(get_db_padding())"
   ]
  },
  {
   "cell_type": "code",
   "execution_count": 8,
   "metadata": {},
   "outputs": [
    {
     "ename": "AttributeError",
     "evalue": "'Ok' object has no attribute 'build'",
     "output_type": "error",
     "traceback": [
      "\u001b[1;31m---------------------------------------------------------------------------\u001b[0m",
      "\u001b[1;31mAttributeError\u001b[0m                            Traceback (most recent call last)",
      "Cell \u001b[1;32mIn[8], line 1\u001b[0m\n\u001b[1;32m----> 1\u001b[0m sql\u001b[38;5;241m.\u001b[39mupdate_answer(\u001b[43mCommentIDBuilder\u001b[49m\u001b[43m(\u001b[49m\u001b[43m)\u001b[49m\u001b[38;5;241;43m.\u001b[39;49m\u001b[43mset_uuid\u001b[49m\u001b[43m(\u001b[49m\u001b[38;5;124;43m\"\u001b[39;49m\u001b[38;5;124;43m775a545d0e594c35abfbfda9d4bc35b3\u001b[39;49m\u001b[38;5;124;43m\"\u001b[39;49m\u001b[43m)\u001b[49m\u001b[38;5;241;43m.\u001b[39;49m\u001b[43mbuild\u001b[49m(),\u001b[38;5;124m\"\u001b[39m\u001b[38;5;124m쌀을 넣고 버튼을 누르세요.\u001b[39m\u001b[38;5;124m\"\u001b[39m,\u001b[38;5;124m\"\u001b[39m\u001b[38;5;124md4d942ad13f547efa82df97596cd9235\u001b[39m\u001b[38;5;124m\"\u001b[39m)\n",
      "\u001b[1;31mAttributeError\u001b[0m: 'Ok' object has no attribute 'build'"
     ]
    }
   ],
   "source": [
    "sql.update_answer(CommentIDBuilder().set_uuid(\"775a545d0e594c35abfbfda9d4bc35b3\").build(),\"쌀을 넣고 버튼을 누르세요.\",\"d4d942ad13f547efa82df97596cd9235\")"
   ]
  },
  {
   "cell_type": "code",
   "execution_count": 5,
   "metadata": {},
   "outputs": [
    {
     "ename": "TypeError",
     "evalue": "CommentID.__init__() missing 1 required positional argument: 'uuid'",
     "output_type": "error",
     "traceback": [
      "\u001b[1;31m---------------------------------------------------------------------------\u001b[0m",
      "\u001b[1;31mTypeError\u001b[0m                                 Traceback (most recent call last)",
      "Cell \u001b[1;32mIn[5], line 1\u001b[0m\n\u001b[1;32m----> 1\u001b[0m sql\u001b[38;5;241m.\u001b[39mupdate_answer(\u001b[43mCommentID\u001b[49m\u001b[43m(\u001b[49m\u001b[43m)\u001b[49m\u001b[38;5;241m.\u001b[39muuid(\u001b[38;5;124m\"\u001b[39m\u001b[38;5;124m775a545d0e594c35abfbfda9d4bc35b3\u001b[39m\u001b[38;5;124m\"\u001b[39m),\u001b[38;5;124m\"\u001b[39m\u001b[38;5;124m쌀을 넣고 버튼을 누르세요.\u001b[39m\u001b[38;5;124m\"\u001b[39m,MemberSessionBuilder()\u001b[38;5;241m.\u001b[39mset_deserialize_key(\u001b[38;5;124m\"\u001b[39m\u001b[38;5;124mcb73c9ff82d749f0a77ae715c9e7a9de\u001b[39m\u001b[38;5;124m\"\u001b[39m)\u001b[38;5;241m.\u001b[39mbuild())\n",
      "\u001b[1;31mTypeError\u001b[0m: CommentID.__init__() missing 1 required positional argument: 'uuid'"
     ]
    }
   ],
   "source": [
    "sql.update_answer(CommentIDBuilder().set_uuid(\"775a545d0e594c35abfbfda9d4bc35b3\").build(),\"쌀을 넣고 버튼을 누르세요.\",MemberSessionBuilder().set_deserialize_key(\"cb73c9ff82d749f0a77ae715c9e7a9de\").build())"
   ]
  },
  {
   "cell_type": "code",
   "execution_count": 3,
   "metadata": {},
   "outputs": [
    {
     "ename": "AttributeError",
     "evalue": "'Ok' object has no attribute 'build'",
     "output_type": "error",
     "traceback": [
      "\u001b[1;31m---------------------------------------------------------------------------\u001b[0m",
      "\u001b[1;31mAttributeError\u001b[0m                            Traceback (most recent call last)",
      "Cell \u001b[1;32mIn[3], line 1\u001b[0m\n\u001b[1;32m----> 1\u001b[0m comment_id \u001b[38;5;241m=\u001b[39m \u001b[43mCommentIDBuilder\u001b[49m\u001b[43m(\u001b[49m\u001b[43m)\u001b[49m\u001b[38;5;241;43m.\u001b[39;49m\u001b[43mset_uuid\u001b[49m\u001b[43m(\u001b[49m\u001b[38;5;124;43m\"\u001b[39;49m\u001b[38;5;124;43m775a545d0e594c35abfbfda9d4bc35b3\u001b[39;49m\u001b[38;5;124;43m\"\u001b[39;49m\u001b[43m)\u001b[49m\u001b[38;5;241;43m.\u001b[39;49m\u001b[43mbuild\u001b[49m()\n\u001b[0;32m      2\u001b[0m answer \u001b[38;5;241m=\u001b[39m \u001b[38;5;124m\"\u001b[39m\u001b[38;5;124m쌀을 넣고 버튼을 누르세요.\u001b[39m\u001b[38;5;124m\"\u001b[39m\n\u001b[0;32m      3\u001b[0m member_id \u001b[38;5;241m=\u001b[39m MemberSessionBuilder()\u001b[38;5;241m.\u001b[39mset_deserialize_key(\u001b[38;5;124m\"\u001b[39m\u001b[38;5;124mcb73c9ff82d749f0a77ae715c9e7a9de\u001b[39m\u001b[38;5;124m\"\u001b[39m)\u001b[38;5;241m.\u001b[39mbuild()\n",
      "\u001b[1;31mAttributeError\u001b[0m: 'Ok' object has no attribute 'build'"
     ]
    }
   ],
   "source": [
    "comment_id = CommentIDBuilder().set_uuid(\"775a545d0e594c35abfbfda9d4bc35b3\").build()\n",
    "answer = \"쌀을 넣고 버튼을 누르세요.\"\n",
    "member_id = MemberSessionBuilder().set_deserialize_key(\"cb73c9ff82d749f0a77ae715c9e7a9de\").build()\n",
    "\n",
    "sql.update_answer(comment_id, answer, member_id)"
   ]
  }
 ],
 "metadata": {
  "kernelspec": {
   "display_name": "Python 3",
   "language": "python",
   "name": "python3"
  },
  "language_info": {
   "codemirror_mode": {
    "name": "ipython",
    "version": 3
   },
   "file_extension": ".py",
   "mimetype": "text/x-python",
   "name": "python",
   "nbconvert_exporter": "python",
   "pygments_lexer": "ipython3",
   "version": "3.12.0"
  }
 },
 "nbformat": 4,
 "nbformat_minor": 2
}
