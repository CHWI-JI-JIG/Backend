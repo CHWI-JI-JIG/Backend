{
 "cells": [
  {
   "cell_type": "code",
   "execution_count": 13,
   "metadata": {},
   "outputs": [],
   "source": [
    "\n",
    "import __init__\n",
    "from abc import ABCMeta, abstractmethod\n",
    "from typing import Optional, Tuple, List\n",
    "from result import Result, Ok, Err\n",
    "from get_config_data import get_db_padding\n",
    "\n",
    "from Applications.Members import AuthenticationMemberService\n",
    "from Storages.Members import LoginVerifiableAuthentication\n",
    "\n",
    "from get_config_data import get_db_padding\n",
    "from Migrations import MySqlCreateUser, MySqlCreateSession\n",
    "from Builders.Members import *\n",
    "from Domains.Members import *\n",
    "\n",
    "from icecream import ic\n",
    "from uuid import uuid4, UUID\n",
    "\n",
    "from Domains.Members import *\n",
    "from Domains.Sessions import *\n",
    "from Builders.Members import *\n",
    "from Repositories.Members import *\n",
    "from Applications.Members import CreateMemberService\n",
    "from Applications.Members.ExtentionMethod import hashing_passwd\n",
    "from datetime import datetime, timedelta\n",
    "from Storages.Members import MySqlSaveMember,LoginVerifiableAuthentication\n",
    "from Storages.Sessions import MakeSaveMemberSession\n",
    "from Storages.Sessions.MySqlSaveProductTempSession import MySqlSaveProductTempSession\n",
    "from Repositories.Sessions import IMakeSaveMemberSession\n",
    "from Storages.Sessions.MySqlLoadSession import MySqlLoadSession\n",
    "\n",
    "from Builders.Products.BasicProductBuilder import ProductIDBuilder \n",
    "\n",
    "from Domains.Sessions.ProductSession import ProductSessionBuilder\n",
    "\n",
    "from manage import migrate, delete_storage\n",
    "from get_config_data import set_db_padding"
   ]
  },
  {
   "cell_type": "code",
   "execution_count": 3,
   "metadata": {},
   "outputs": [],
   "source": [
    "set_db_padding(\"log_\")\n",
    "migrate(True)"
   ]
  },
  {
   "cell_type": "code",
   "execution_count": 4,
   "metadata": {},
   "outputs": [
    {
     "data": {
      "text/plain": [
       "Ok(MemberID(uuid=UUID('d1e17ec4-7fd5-472a-8bb7-5bebe9a45682'), sequence=-1))"
      ]
     },
     "execution_count": 4,
     "metadata": {},
     "output_type": "execute_result"
    }
   ],
   "source": [
    "service = CreateMemberService(MySqlSaveMember(get_db_padding()))\n",
    "service.create(\n",
    "    account=\"hohorst\",\n",
    "    passwd=\"456\",\n",
    "    role=\"seller\",\n",
    "    name=\"Lee hohun\",\n",
    "    phone=\"010566788874\",\n",
    "    email=\"vacst@naver.com\",\n",
    "    address=\"서울시 광진구\",\n",
    "    company_registration_number=\"115557936219463\",\n",
    "    pay_account=\"6795943585566187\",\n",
    ")"
   ]
  },
  {
   "cell_type": "code",
   "execution_count": 5,
   "metadata": {},
   "outputs": [
    {
     "data": {
      "text/plain": [
       "Ok(MemberID(uuid=UUID('8bf0425c-4a49-4559-87e8-7b3468ed3019'), sequence=-1))"
      ]
     },
     "execution_count": 5,
     "metadata": {},
     "output_type": "execute_result"
    }
   ],
   "source": [
    "service.create(\n",
    "    account=\"abrst\",\n",
    "    passwd=\"123\",\n",
    "    role=\"buyer\",\n",
    "    name=\"Lee Takgun\",\n",
    "    phone=\"01036574774\",\n",
    "    email=\"vacst@naver.com\",\n",
    "    address=\"서울시 구로구\",\n",
    ")"
   ]
  },
  {
   "cell_type": "code",
   "execution_count": 6,
   "metadata": {},
   "outputs": [],
   "source": [
    "session = AuthenticationMemberService(LoginVerifiableAuthentication(), MakeSaveMemberSession())"
   ]
  },
  {
   "cell_type": "markdown",
   "metadata": {},
   "source": []
  },
  {
   "cell_type": "code",
   "execution_count": 11,
   "metadata": {},
   "outputs": [
    {
     "name": "stderr",
     "output_type": "stream",
     "text": [
      "ic| login_result: Ok(Authentication(id=MemberID(uuid=UUID('2920a4c9-3866-4105-90c1-7d3e57b3f3e9'), sequence=1), last_access=datetime.datetime(2024, 2, 26, 18, 21, 41), fail_count=0, is_sucess=False))\n"
     ]
    },
    {
     "data": {
      "text/plain": [
       "Err('block : 0')"
      ]
     },
     "execution_count": 3,
     "metadata": {},
     "output_type": "execute_result"
    }
   ],
   "source": [
    "session.login(\"hohorst\",hashing_passwd(\"124\"))\n",
    "session.login(\"hohorst\",hashing_passwd(\"124\"))\n",
    "session.login(\"hohorst\",hashing_passwd(\"124\"))\n",
    "session.login(\"hohorst\",hashing_passwd(\"124\"))\n",
    "session.login(\"hohorst\",hashing_passwd(\"124\"))"
   ]
  },
  {
   "cell_type": "code",
   "execution_count": 7,
   "metadata": {},
   "outputs": [],
   "source": [
    "ret=session.login(\"hohorst\",\"456\")"
   ]
  },
  {
   "cell_type": "code",
   "execution_count": 8,
   "metadata": {},
   "outputs": [
    {
     "data": {
      "text/plain": [
       "Ok(MemberSession(key=UUID('ab50c3e2-3de0-4f5b-a14f-d016a8a363e4'), name='Lee hohun', role=<RoleType.SELLER: 'seller'>, member_id=MemberID(uuid=UUID('d1e17ec4-7fd5-472a-8bb7-5bebe9a45682'), sequence=-1)))"
      ]
     },
     "execution_count": 8,
     "metadata": {},
     "output_type": "execute_result"
    }
   ],
   "source": [
    "ret"
   ]
  },
  {
   "cell_type": "code",
   "execution_count": 9,
   "metadata": {},
   "outputs": [],
   "source": [
    "load = MySqlLoadSession()"
   ]
  },
  {
   "cell_type": "code",
   "execution_count": 10,
   "metadata": {},
   "outputs": [
    {
     "data": {
      "text/plain": [
       "Ok('{\"member_id\": \"d1e17ec47fd5472a8bb75bebe9a45682\", \"name\": \"Lee hohun\", \"role\": \"seller\"}')"
      ]
     },
     "execution_count": 10,
     "metadata": {},
     "output_type": "execute_result"
    }
   ],
   "source": [
    "load.load_session(str(ret.ok_value.get_id()))"
   ]
  },
  {
   "cell_type": "code",
   "execution_count": 11,
   "metadata": {},
   "outputs": [
    {
     "data": {
      "text/plain": [
       "'ab50c3e23de04f5ba14fd016a8a363e4'"
      ]
     },
     "execution_count": 11,
     "metadata": {},
     "output_type": "execute_result"
    }
   ],
   "source": [
    "ret.ok_value.get_id()"
   ]
  },
  {
   "cell_type": "code",
   "execution_count": 16,
   "metadata": {},
   "outputs": [
    {
     "ename": "AssertionError",
     "evalue": "Not Set seller_id",
     "output_type": "error",
     "traceback": [
      "\u001b[1;31m---------------------------------------------------------------------------\u001b[0m",
      "\u001b[1;31mAssertionError\u001b[0m                            Traceback (most recent call last)",
      "Cell \u001b[1;32mIn[16], line 2\u001b[0m\n\u001b[0;32m      1\u001b[0m temp \u001b[38;5;241m=\u001b[39m MySqlSaveProductTempSession()\n\u001b[1;32m----> 2\u001b[0m temp\u001b[38;5;241m.\u001b[39mupdate_or_save_product_temp_session(\u001b[43mProductSessionBuilder\u001b[49m\u001b[43m(\u001b[49m\u001b[43m)\u001b[49m\u001b[38;5;241;43m.\u001b[39;49m\u001b[43mset_key\u001b[49m\u001b[43m(\u001b[49m\u001b[38;5;124;43m\"\u001b[39;49m\u001b[38;5;124;43mab50c3e23de04f5ba14fd016a8a363e4\u001b[39;49m\u001b[38;5;124;43m\"\u001b[39;49m\u001b[43m)\u001b[49m\u001b[38;5;241;43m.\u001b[39;49m\u001b[43mbuild\u001b[49m\u001b[43m(\u001b[49m\u001b[43m)\u001b[49m)\n",
      "File \u001b[1;32mc:\\Users\\USER\\source\\Backend\\Domains\\Sessions\\ProductSession.py:248\u001b[0m, in \u001b[0;36mProductSessionBuilder.build\u001b[1;34m(self)\u001b[0m\n\u001b[0;32m    247\u001b[0m \u001b[38;5;28;01mdef\u001b[39;00m \u001b[38;5;21mbuild\u001b[39m(\u001b[38;5;28mself\u001b[39m) \u001b[38;5;241m-\u001b[39m\u001b[38;5;241m>\u001b[39m ProductTempSession:\n\u001b[1;32m--> 248\u001b[0m     \u001b[38;5;28;01massert\u001b[39;00m \u001b[38;5;28misinstance\u001b[39m(\u001b[38;5;28mself\u001b[39m\u001b[38;5;241m.\u001b[39mseller_id, MemberID), \u001b[38;5;124m\"\u001b[39m\u001b[38;5;124mNot Set seller_id\u001b[39m\u001b[38;5;124m\"\u001b[39m\n\u001b[0;32m    250\u001b[0m     \u001b[38;5;28;01mmatch\u001b[39;00m (\u001b[38;5;28mself\u001b[39m\u001b[38;5;241m.\u001b[39mname, \u001b[38;5;28mself\u001b[39m\u001b[38;5;241m.\u001b[39mprice, \u001b[38;5;28mself\u001b[39m\u001b[38;5;241m.\u001b[39mdescription, \u001b[38;5;28mself\u001b[39m\u001b[38;5;241m.\u001b[39mseller_id):\n\u001b[0;32m    251\u001b[0m         \u001b[38;5;28;01mcase\u001b[39;00m\u001b[38;5;250m \u001b[39m(\u001b[38;5;28;01mNone\u001b[39;00m, \u001b[38;5;28;01mNone\u001b[39;00m, \u001b[38;5;28;01mNone\u001b[39;00m, \u001b[38;5;28;01m_\u001b[39;00m):\n",
      "\u001b[1;31mAssertionError\u001b[0m: Not Set seller_id"
     ]
    }
   ],
   "source": [
    "temp = MySqlSaveProductTempSession()\n",
    "temp.update_or_save_product_temp_session(ProductSessionBuilder().set_key(\"ab50c3e23de04f5ba14fd016a8a363e4\").build())"
   ]
  },
  {
   "cell_type": "code",
   "execution_count": 17,
   "metadata": {},
   "outputs": [
    {
     "ename": "AssertionError",
     "evalue": "Not Set seller_id",
     "output_type": "error",
     "traceback": [
      "\u001b[1;31m---------------------------------------------------------------------------\u001b[0m",
      "\u001b[1;31mAssertionError\u001b[0m                            Traceback (most recent call last)",
      "Cell \u001b[1;32mIn[17], line 2\u001b[0m\n\u001b[0;32m      1\u001b[0m temp \u001b[38;5;241m=\u001b[39m MySqlSaveProductTempSession()\n\u001b[1;32m----> 2\u001b[0m temp\u001b[38;5;241m.\u001b[39mupdate_or_save_product_temp_session(\u001b[43mProductSessionBuilder\u001b[49m\u001b[43m(\u001b[49m\u001b[43m)\u001b[49m\u001b[38;5;241;43m.\u001b[39;49m\u001b[43mset_key\u001b[49m\u001b[43m(\u001b[49m\u001b[38;5;124;43m\"\u001b[39;49m\u001b[38;5;124;43m121ca05e5ef44f738e7dcdc10541233a\u001b[39;49m\u001b[38;5;124;43m\"\u001b[39;49m\u001b[43m)\u001b[49m\u001b[38;5;241;43m.\u001b[39;49m\u001b[43mbuild\u001b[49m\u001b[43m(\u001b[49m\u001b[43m)\u001b[49m)\n",
      "File \u001b[1;32mc:\\Users\\USER\\source\\Backend\\Domains\\Sessions\\ProductSession.py:248\u001b[0m, in \u001b[0;36mProductSessionBuilder.build\u001b[1;34m(self)\u001b[0m\n\u001b[0;32m    247\u001b[0m \u001b[38;5;28;01mdef\u001b[39;00m \u001b[38;5;21mbuild\u001b[39m(\u001b[38;5;28mself\u001b[39m) \u001b[38;5;241m-\u001b[39m\u001b[38;5;241m>\u001b[39m ProductTempSession:\n\u001b[1;32m--> 248\u001b[0m     \u001b[38;5;28;01massert\u001b[39;00m \u001b[38;5;28misinstance\u001b[39m(\u001b[38;5;28mself\u001b[39m\u001b[38;5;241m.\u001b[39mseller_id, MemberID), \u001b[38;5;124m\"\u001b[39m\u001b[38;5;124mNot Set seller_id\u001b[39m\u001b[38;5;124m\"\u001b[39m\n\u001b[0;32m    250\u001b[0m     \u001b[38;5;28;01mmatch\u001b[39;00m (\u001b[38;5;28mself\u001b[39m\u001b[38;5;241m.\u001b[39mname, \u001b[38;5;28mself\u001b[39m\u001b[38;5;241m.\u001b[39mprice, \u001b[38;5;28mself\u001b[39m\u001b[38;5;241m.\u001b[39mdescription, \u001b[38;5;28mself\u001b[39m\u001b[38;5;241m.\u001b[39mseller_id):\n\u001b[0;32m    251\u001b[0m         \u001b[38;5;28;01mcase\u001b[39;00m\u001b[38;5;250m \u001b[39m(\u001b[38;5;28;01mNone\u001b[39;00m, \u001b[38;5;28;01mNone\u001b[39;00m, \u001b[38;5;28;01mNone\u001b[39;00m, \u001b[38;5;28;01m_\u001b[39;00m):\n",
      "\u001b[1;31mAssertionError\u001b[0m: Not Set seller_id"
     ]
    }
   ],
   "source": [
    "temp = MySqlSaveProductTempSession()\n",
    "temp.update_or_save_product_temp_session(ProductSessionBuilder().set_key(\"ab50c3e23de04f5ba14fd016a8a363e4\").build())"
   ]
  },
  {
   "cell_type": "code",
   "execution_count": 20,
   "metadata": {},
   "outputs": [
    {
     "name": "stderr",
     "output_type": "stream",
     "text": [
      "ic| ProductSession.py:239 in set_img_path() at 15:55:47.742\n"
     ]
    },
    {
     "name": "stdout",
     "output_type": "stream",
     "text": [
      "Not Implement\n",
      "Not Exsist 'C:\\Users\\USER\\source\\Backend\\Images\\example_img_path.jpg'. img path is not abs path.\n"
     ]
    },
    {
     "ename": "AssertionError",
     "evalue": "Not Set seller_id",
     "output_type": "error",
     "traceback": [
      "\u001b[1;31m---------------------------------------------------------------------------\u001b[0m",
      "\u001b[1;31mAssertionError\u001b[0m                            Traceback (most recent call last)",
      "Cell \u001b[1;32mIn[20], line 5\u001b[0m\n\u001b[0;32m      2\u001b[0m \u001b[38;5;28;01mfrom\u001b[39;00m \u001b[38;5;21;01mDomains\u001b[39;00m\u001b[38;5;21;01m.\u001b[39;00m\u001b[38;5;21;01mSessions\u001b[39;00m\u001b[38;5;21;01m.\u001b[39;00m\u001b[38;5;21;01mProductSession\u001b[39;00m \u001b[38;5;28;01mimport\u001b[39;00m ProductTempSession\n\u001b[0;32m      4\u001b[0m \u001b[38;5;66;03m# ProductTempSession 객체 생성 예시\u001b[39;00m\n\u001b[1;32m----> 5\u001b[0m session_img \u001b[38;5;241m=\u001b[39m \u001b[43mProductSessionBuilder\u001b[49m\u001b[43m(\u001b[49m\u001b[43m)\u001b[49m\u001b[38;5;241;43m.\u001b[39;49m\u001b[43mset_key\u001b[49m\u001b[43m(\u001b[49m\u001b[38;5;124;43m\"\u001b[39;49m\u001b[38;5;124;43mab50c3e23de04f5ba14fd016a8a363e4\u001b[39;49m\u001b[38;5;124;43m\"\u001b[39;49m\u001b[43m)\u001b[49m\u001b[38;5;241;43m.\u001b[39;49m\u001b[43mset_img_path\u001b[49m\u001b[43m(\u001b[49m\u001b[38;5;124;43m\"\u001b[39;49m\u001b[38;5;124;43mexample_img_path.jpg\u001b[39;49m\u001b[38;5;124;43m\"\u001b[39;49m\u001b[43m)\u001b[49m\u001b[38;5;241;43m.\u001b[39;49m\u001b[43munwrap\u001b[49m\u001b[43m(\u001b[49m\u001b[43m)\u001b[49m\u001b[38;5;241;43m.\u001b[39;49m\u001b[43mbuild\u001b[49m\u001b[43m(\u001b[49m\u001b[43m)\u001b[49m\n",
      "File \u001b[1;32mc:\\Users\\USER\\source\\Backend\\Domains\\Sessions\\ProductSession.py:248\u001b[0m, in \u001b[0;36mProductSessionBuilder.build\u001b[1;34m(self)\u001b[0m\n\u001b[0;32m    247\u001b[0m \u001b[38;5;28;01mdef\u001b[39;00m \u001b[38;5;21mbuild\u001b[39m(\u001b[38;5;28mself\u001b[39m) \u001b[38;5;241m-\u001b[39m\u001b[38;5;241m>\u001b[39m ProductTempSession:\n\u001b[1;32m--> 248\u001b[0m     \u001b[38;5;28;01massert\u001b[39;00m \u001b[38;5;28misinstance\u001b[39m(\u001b[38;5;28mself\u001b[39m\u001b[38;5;241m.\u001b[39mseller_id, MemberID), \u001b[38;5;124m\"\u001b[39m\u001b[38;5;124mNot Set seller_id\u001b[39m\u001b[38;5;124m\"\u001b[39m\n\u001b[0;32m    250\u001b[0m     \u001b[38;5;28;01mmatch\u001b[39;00m (\u001b[38;5;28mself\u001b[39m\u001b[38;5;241m.\u001b[39mname, \u001b[38;5;28mself\u001b[39m\u001b[38;5;241m.\u001b[39mprice, \u001b[38;5;28mself\u001b[39m\u001b[38;5;241m.\u001b[39mdescription, \u001b[38;5;28mself\u001b[39m\u001b[38;5;241m.\u001b[39mseller_id):\n\u001b[0;32m    251\u001b[0m         \u001b[38;5;28;01mcase\u001b[39;00m\u001b[38;5;250m \u001b[39m(\u001b[38;5;28;01mNone\u001b[39;00m, \u001b[38;5;28;01mNone\u001b[39;00m, \u001b[38;5;28;01mNone\u001b[39;00m, \u001b[38;5;28;01m_\u001b[39;00m):\n",
      "\u001b[1;31mAssertionError\u001b[0m: Not Set seller_id"
     ]
    }
   ],
   "source": [
    "from Builders.Products.BasicProductBuilder import ProductIDBuilder\n",
    "from Domains.Sessions.ProductSession import ProductTempSession\n",
    "\n",
    "# ProductTempSession 객체 생성 예시\n",
    "session_img = ProductSessionBuilder().set_key(\"ab50c3e23de04f5ba14fd016a8a363e4\").set_img_path(\"example_img_path.jpg\").unwrap().build()\n"
   ]
  },
  {
   "cell_type": "code",
   "execution_count": 2,
   "metadata": {},
   "outputs": [
    {
     "ename": "NameError",
     "evalue": "name 'MySqlSaveProductTempSession' is not defined",
     "output_type": "error",
     "traceback": [
      "\u001b[1;31m---------------------------------------------------------------------------\u001b[0m",
      "\u001b[1;31mNameError\u001b[0m                                 Traceback (most recent call last)",
      "Cell \u001b[1;32mIn[2], line 1\u001b[0m\n\u001b[1;32m----> 1\u001b[0m temp \u001b[38;5;241m=\u001b[39m \u001b[43mMySqlSaveProductTempSession\u001b[49m()\n\u001b[0;32m      3\u001b[0m temp\u001b[38;5;241m.\u001b[39mupdate_or_save_product_temp_session(session_img)\n",
      "\u001b[1;31mNameError\u001b[0m: name 'MySqlSaveProductTempSession' is not defined"
     ]
    }
   ],
   "source": [
    "temp = MySqlSaveProductTempSession()\n",
    "\n",
    "temp.update_or_save_product_temp_session(session_img)"
   ]
  },
  {
   "cell_type": "code",
   "execution_count": 54,
   "metadata": {},
   "outputs": [],
   "source": [
    "from Builders.Products.BasicProductBuilder import ProductIDBuilder\n",
    "from Domains.Sessions.ProductSession import ProductTempSession\n",
    "\n",
    "# ProductTempSession 객체 생성 예시\n",
    "session = ProductTempSession(\n",
    "    key=ProductSessionBuilder().set_key(\"121ca05e5ef44f738e7dcdc10541233a\").build(),\n",
    "    product=None,  # Product 객체를 전달해도 됨\n",
    ")"
   ]
  },
  {
   "cell_type": "code",
   "execution_count": 22,
   "metadata": {},
   "outputs": [
    {
     "name": "stderr",
     "output_type": "stream",
     "text": [
      "ic| ProductSession.py:239 in set_img_path() at 15:56:29.746\n"
     ]
    },
    {
     "name": "stdout",
     "output_type": "stream",
     "text": [
      "Not Implement\n",
      "Not Exsist 'C:\\Users\\USER\\source\\Backend\\Images\\example_img_path.jpg'. img path is not abs path.\n"
     ]
    },
    {
     "ename": "AssertionError",
     "evalue": "Not Set seller_id",
     "output_type": "error",
     "traceback": [
      "\u001b[1;31m---------------------------------------------------------------------------\u001b[0m",
      "\u001b[1;31mAssertionError\u001b[0m                            Traceback (most recent call last)",
      "Cell \u001b[1;32mIn[22], line 2\u001b[0m\n\u001b[0;32m      1\u001b[0m temp \u001b[38;5;241m=\u001b[39m MySqlSaveProductTempSession()\n\u001b[1;32m----> 2\u001b[0m temp\u001b[38;5;241m.\u001b[39mupdate_or_save_product_temp_session(\u001b[43mProductSessionBuilder\u001b[49m\u001b[43m(\u001b[49m\u001b[43m)\u001b[49m\u001b[38;5;241;43m.\u001b[39;49m\u001b[43mset_key\u001b[49m\u001b[43m(\u001b[49m\u001b[38;5;124;43m\"\u001b[39;49m\u001b[38;5;124;43m121ca05e5ef44f738e7dcdc10541233a\u001b[39;49m\u001b[38;5;124;43m\"\u001b[39;49m\u001b[43m)\u001b[49m\u001b[38;5;241;43m.\u001b[39;49m\u001b[43mset_img_path\u001b[49m\u001b[43m(\u001b[49m\u001b[38;5;124;43m\"\u001b[39;49m\u001b[38;5;124;43mexample_img_path.jpg\u001b[39;49m\u001b[38;5;124;43m\"\u001b[39;49m\u001b[43m)\u001b[49m\u001b[38;5;241;43m.\u001b[39;49m\u001b[43munwrap\u001b[49m\u001b[43m(\u001b[49m\u001b[43m)\u001b[49m\u001b[38;5;241;43m.\u001b[39;49m\u001b[43mbuild\u001b[49m\u001b[43m(\u001b[49m\u001b[43m)\u001b[49m)\n",
      "File \u001b[1;32mc:\\Users\\USER\\source\\Backend\\Domains\\Sessions\\ProductSession.py:248\u001b[0m, in \u001b[0;36mProductSessionBuilder.build\u001b[1;34m(self)\u001b[0m\n\u001b[0;32m    247\u001b[0m \u001b[38;5;28;01mdef\u001b[39;00m \u001b[38;5;21mbuild\u001b[39m(\u001b[38;5;28mself\u001b[39m) \u001b[38;5;241m-\u001b[39m\u001b[38;5;241m>\u001b[39m ProductTempSession:\n\u001b[1;32m--> 248\u001b[0m     \u001b[38;5;28;01massert\u001b[39;00m \u001b[38;5;28misinstance\u001b[39m(\u001b[38;5;28mself\u001b[39m\u001b[38;5;241m.\u001b[39mseller_id, MemberID), \u001b[38;5;124m\"\u001b[39m\u001b[38;5;124mNot Set seller_id\u001b[39m\u001b[38;5;124m\"\u001b[39m\n\u001b[0;32m    250\u001b[0m     \u001b[38;5;28;01mmatch\u001b[39;00m (\u001b[38;5;28mself\u001b[39m\u001b[38;5;241m.\u001b[39mname, \u001b[38;5;28mself\u001b[39m\u001b[38;5;241m.\u001b[39mprice, \u001b[38;5;28mself\u001b[39m\u001b[38;5;241m.\u001b[39mdescription, \u001b[38;5;28mself\u001b[39m\u001b[38;5;241m.\u001b[39mseller_id):\n\u001b[0;32m    251\u001b[0m         \u001b[38;5;28;01mcase\u001b[39;00m\u001b[38;5;250m \u001b[39m(\u001b[38;5;28;01mNone\u001b[39;00m, \u001b[38;5;28;01mNone\u001b[39;00m, \u001b[38;5;28;01mNone\u001b[39;00m, \u001b[38;5;28;01m_\u001b[39;00m):\n",
      "\u001b[1;31mAssertionError\u001b[0m: Not Set seller_id"
     ]
    }
   ],
   "source": [
    "temp = MySqlSaveProductTempSession()\n",
    "temp.update_or_save_product_temp_session(ProductSessionBuilder().set_key(\"121ca05e5ef44f738e7dcdc10541233a\").set_img_path(\"example_img_path.jpg\").unwrap().build())"
   ]
  },
  {
   "cell_type": "code",
   "execution_count": 1,
   "metadata": {},
   "outputs": [
    {
     "ename": "NameError",
     "evalue": "name 'MySqlSaveProductTempSession' is not defined",
     "output_type": "error",
     "traceback": [
      "\u001b[1;31m---------------------------------------------------------------------------\u001b[0m",
      "\u001b[1;31mNameError\u001b[0m                                 Traceback (most recent call last)",
      "Cell \u001b[1;32mIn[1], line 1\u001b[0m\n\u001b[1;32m----> 1\u001b[0m temp \u001b[38;5;241m=\u001b[39m \u001b[43mMySqlSaveProductTempSession\u001b[49m()\n\u001b[0;32m      2\u001b[0m temp\u001b[38;5;241m.\u001b[39mupdate_or_save_product_temp_session(ProductSessionBuilder()\u001b[38;5;241m.\u001b[39mset_key(\u001b[38;5;124m\"\u001b[39m\u001b[38;5;124m121ca05e5ef44f738e7dcdc10541233a\u001b[39m\u001b[38;5;124m\"\u001b[39m)\u001b[38;5;241m.\u001b[39mset_name(\u001b[38;5;124m\"\u001b[39m\u001b[38;5;124m전기밥솥\u001b[39m\u001b[38;5;124m\"\u001b[39m)\u001b[38;5;241m.\u001b[39mset_description(\u001b[38;5;124m\"\u001b[39m\u001b[38;5;124m이 밥솥은 효율적이고 간편한 밥을 만들어냅니다. 최고의 맛과 건강을 위해 지금 주문하세요!\u001b[39m\u001b[38;5;124m\"\u001b[39m)\u001b[38;5;241m.\u001b[39mset_price(\u001b[38;5;241m8768\u001b[39m)\u001b[38;5;241m.\u001b[39mset_seller_id(\u001b[38;5;124m\"\u001b[39m\u001b[38;5;124m6fe43fe6435649e79986e3bbf9297f3e\u001b[39m\u001b[38;5;124m\"\u001b[39m)\u001b[38;5;241m.\u001b[39mbuild())\n",
      "\u001b[1;31mNameError\u001b[0m: name 'MySqlSaveProductTempSession' is not defined"
     ]
    }
   ],
   "source": [
    "temp = MySqlSaveProductTempSession()\n",
    "temp.update_or_save_product_temp_session(ProductSessionBuilder().set_key(\"121ca05e5ef44f738e7dcdc10541233a\").set_name(\"전기밥솥\").set_description(\"이 밥솥은 효율적이고 간편한 밥을 만들어냅니다. 최고의 맛과 건강을 위해 지금 주문하세요!\").set_price(8768).set_seller_id(\"6fe43fe6435649e79986e3bbf9297f3e\").build())"
   ]
  }
 ],
 "metadata": {
  "kernelspec": {
   "display_name": "Python 3",
   "language": "python",
   "name": "python3"
  },
  "language_info": {
   "codemirror_mode": {
    "name": "ipython",
    "version": 3
   },
   "file_extension": ".py",
   "mimetype": "text/x-python",
   "name": "python",
   "nbconvert_exporter": "python",
   "pygments_lexer": "ipython3",
   "version": "3.12.0"
  }
 },
 "nbformat": 4,
 "nbformat_minor": 2
}
