{
 "cells": [
  {
   "cell_type": "code",
   "execution_count": 1,
   "metadata": {},
   "outputs": [],
   "source": [
    "\n",
    "import __init__\n",
    "from abc import ABCMeta, abstractmethod\n",
    "from typing import Optional, Tuple, List\n",
    "from result import Result, Ok, Err\n",
    "from get_config_data import get_db_padding\n",
    "\n",
    "from Applications.Members import AuthenticationMemberService\n",
    "from Storages.Members import LoginVerifiableAuthentication\n",
    "\n",
    "from get_config_data import get_db_padding\n",
    "from Migrations import MySqlCreateUser, MySqlCreateSession\n",
    "from Builders.Members import *\n",
    "from Domains.Members import *\n",
    "\n",
    "from icecream import ic\n",
    "from uuid import uuid4, UUID\n",
    "\n",
    "from Domains.Members import *\n",
    "from Domains.Sessions import *\n",
    "from Builders.Members import *\n",
    "from Repositories.Members import *\n",
    "from Applications.Members import CreateMemberService\n",
    "from Applications.Members.ExtentionMethod import hashing_passwd\n",
    "from datetime import datetime, timedelta\n",
    "from Storages.Members import MySqlSaveMember,LoginVerifiableAuthentication\n",
    "from Storages.Sessions import MakeSaveMemberSession\n",
    "from Storages.Sessions.MySqlLoadSession import MySqlSaveSession\n",
    "from Repositories.Sessions import IMakeSaveMemberSession"
   ]
  },
  {
   "cell_type": "code",
   "execution_count": 2,
   "metadata": {},
   "outputs": [],
   "source": [
    "sql=MySqlCreateUser(get_db_padding())\n"
   ]
  },
  {
   "cell_type": "code",
   "execution_count": 6,
   "metadata": {},
   "outputs": [],
   "source": [
    "sqlsession=MySqlCreateSession(get_db_padding())"
   ]
  },
  {
   "cell_type": "code",
   "execution_count": 7,
   "metadata": {},
   "outputs": [],
   "source": [
    "sql.create_user()"
   ]
  },
  {
   "cell_type": "code",
   "execution_count": 8,
   "metadata": {},
   "outputs": [
    {
     "name": "stdout",
     "output_type": "stream",
     "text": [
      "\n",
      "CREATE TABLE IF NOT EXISTS log_session (\n",
      "    seq INT AUTO_INCREMENT PRIMARY KEY,\n",
      "    id VARCHAR(255) UNIQUE NOT NULL,\n",
      "    value VARCHAR(500) NOT NULL  \n",
      ");\n",
      "                \n"
     ]
    }
   ],
   "source": [
    "sqlsession.create_session()"
   ]
  },
  {
   "cell_type": "code",
   "execution_count": 9,
   "metadata": {},
   "outputs": [
    {
     "data": {
      "text/plain": [
       "Ok(UUID('08c24def-a2d4-4c5c-b8c4-2568b553bf94'))"
      ]
     },
     "execution_count": 9,
     "metadata": {},
     "output_type": "execute_result"
    }
   ],
   "source": [
    "service = CreateMemberService(MySqlSaveMember(get_db_padding()))\n",
    "service.create(\n",
    "    account=\"hohorst\",\n",
    "    passwd=\"456\",\n",
    "    role=\"seller\",\n",
    "    name=\"Lee hohun\",\n",
    "    phone=\"010566788874\",\n",
    "    email=\"vacst@naver.com\",\n",
    "    address=\"서울시 광진구\",\n",
    "    company_registration_number=\"115557936219463\",\n",
    "    pay_account=\"6795943585566187\",\n",
    ")"
   ]
  },
  {
   "cell_type": "code",
   "execution_count": 10,
   "metadata": {},
   "outputs": [
    {
     "data": {
      "text/plain": [
       "Ok(UUID('89128583-8f59-4788-b2ce-5f29af6b5ce4'))"
      ]
     },
     "execution_count": 10,
     "metadata": {},
     "output_type": "execute_result"
    }
   ],
   "source": [
    "service.create(\n",
    "    account=\"abrst\",\n",
    "    passwd=\"123\",\n",
    "    role=\"buyer\",\n",
    "    name=\"Lee Takgun\",\n",
    "    phone=\"01036574774\",\n",
    "    email=\"vacst@naver.com\",\n",
    "    address=\"서울시 구로구\",\n",
    ")"
   ]
  },
  {
   "cell_type": "code",
   "execution_count": 3,
   "metadata": {},
   "outputs": [],
   "source": [
    "sql.delete_user()"
   ]
  },
  {
   "cell_type": "code",
   "execution_count": 3,
   "metadata": {},
   "outputs": [],
   "source": [
    "session = AuthenticationMemberService(LoginVerifiableAuthentication(), MakeSaveMemberSession())"
   ]
  },
  {
   "cell_type": "code",
   "execution_count": 9,
   "metadata": {},
   "outputs": [
    {
     "name": "stderr",
     "output_type": "stream",
     "text": [
      "ic| login_result: Ok(Authentication(id=MemberID(uuid=UUID('291f2c77-54fd-47f2-9675-469fdd8e5416'), sequence=1), last_access=datetime.datetime(2024, 2, 26, 16, 10, 40), fail_count=0, is_sucess=False))\n",
      "ic| login_result: Ok(Authentication(id=MemberID(uuid=UUID('291f2c77-54fd-47f2-9675-469fdd8e5416'), sequence=1), last_access=datetime.datetime(2024, 2, 26, 16, 10, 47), fail_count=1, is_sucess=False))\n",
      "ic| login_result: Ok(Authentication(id=MemberID(uuid=UUID('291f2c77-54fd-47f2-9675-469fdd8e5416'), sequence=1), last_access=datetime.datetime(2024, 2, 26, 16, 10, 47), fail_count=2, is_sucess=False))\n"
     ]
    },
    {
     "data": {
      "text/plain": [
       "Err('block : 5')"
      ]
     },
     "execution_count": 9,
     "metadata": {},
     "output_type": "execute_result"
    }
   ],
   "source": [
    "session.login(\"hohorst\",hashing_passwd(\"124\"))\n",
    "session.login(\"hohorst\",hashing_passwd(\"124\"))\n",
    "session.login(\"hohorst\",hashing_passwd(\"124\"))\n",
    "session.login(\"hohorst\",hashing_passwd(\"124\"))\n",
    "session.login(\"hohorst\",hashing_passwd(\"124\"))"
   ]
  },
  {
   "cell_type": "code",
   "execution_count": 4,
   "metadata": {},
   "outputs": [],
   "source": [
    "ret=session.login(\"hohorst\",\"456\")"
   ]
  },
  {
   "cell_type": "code",
   "execution_count": 17,
   "metadata": {},
   "outputs": [
    {
     "data": {
      "text/plain": [
       "Ok(MemberSession(key=UUID('73d888fe-e795-46bb-a841-717b4146937a'), name='Lee hohun', role=<RoleType.SELLER: 'seller'>, member_id=MemberID(uuid=UUID('08c24def-a2d4-4c5c-b8c4-2568b553bf94'), sequence=-1), seq=-1))"
      ]
     },
     "execution_count": 17,
     "metadata": {},
     "output_type": "execute_result"
    }
   ],
   "source": [
    "ret"
   ]
  },
  {
   "cell_type": "code",
   "execution_count": 10,
   "metadata": {},
   "outputs": [],
   "source": [
    "load = MySqlSaveSession()"
   ]
  },
  {
   "cell_type": "code",
   "execution_count": 11,
   "metadata": {},
   "outputs": [
    {
     "data": {
      "text/plain": [
       "Ok('{\"seq\": \"-1\", \"member_id\": \"08c24defa2d44c5cb8c42568b553bf94\", \"name\": \"Lee hohun\", \"role\": \"seller\"}')"
      ]
     },
     "execution_count": 11,
     "metadata": {},
     "output_type": "execute_result"
    }
   ],
   "source": [
    "load.load_session(str(ret.ok_value.get_id()))"
   ]
  },
  {
   "cell_type": "code",
   "execution_count": 8,
   "metadata": {},
   "outputs": [
    {
     "data": {
      "text/plain": [
       "'b98ac3606741455c8dfb3b51855e058a'"
      ]
     },
     "execution_count": 8,
     "metadata": {},
     "output_type": "execute_result"
    }
   ],
   "source": [
    "ret.ok_value.get_id()"
   ]
  }
 ],
 "metadata": {
  "kernelspec": {
   "display_name": "Python 3",
   "language": "python",
   "name": "python3"
  },
  "language_info": {
   "codemirror_mode": {
    "name": "ipython",
    "version": 3
   },
   "file_extension": ".py",
   "mimetype": "text/x-python",
   "name": "python",
   "nbconvert_exporter": "python",
   "pygments_lexer": "ipython3",
   "version": "3.12.0"
  }
 },
 "nbformat": 4,
 "nbformat_minor": 2
}
