{
 "cells": [
  {
   "cell_type": "code",
   "execution_count": 1,
   "metadata": {},
   "outputs": [],
   "source": [
    "\n",
    "import __init__\n",
    "from abc import ABCMeta, abstractmethod\n",
    "from typing import Optional, Tuple, List\n",
    "from result import Result, Ok, Err\n",
    "from get_config_data import get_db_padding\n",
    "\n",
    "from Applications.Members import AuthenticationMemberService\n",
    "from Storages.Members import LoginVerifiableAuthentication\n",
    "\n",
    "from get_config_data import get_db_padding\n",
    "from Migrations import MySqlCreateUser, MySqlCreateSession\n",
    "from Builders.Members import *\n",
    "from Domains.Members import *\n",
    "\n",
    "from icecream import ic\n",
    "from uuid import uuid4, UUID\n",
    "\n",
    "from Domains.Members import *\n",
    "from Domains.Sessions import *\n",
    "from Builders.Members import *\n",
    "from Repositories.Members import *\n",
    "from Applications.Members import CreateMemberService\n",
    "from Applications.Members.ExtentionMethod import hashing_passwd\n",
    "from datetime import datetime, timedelta\n",
    "from Storages.Members import MySqlSaveMember,LoginVerifiableAuthentication\n",
    "from Storages.Sessions import MakeSaveMemberSession\n",
    "from Storages.Sessions.SaveProductTempSession import SaveProductTempSession\n",
    "from Repositories.Sessions import IMakeSaveMemberSession\n",
    "from Storages.Sessions.MySqlLoadSession import MySqlLoadSession\n",
    "\n",
    "from Builders.Products.BasicProductBuilder import ProductIDBuilder \n",
    "\n",
    "from Domains.Sessions.ProductSession import ProductSessionBuilder\n",
    "\n",
    "from manage import migrate, delete_storage\n",
    "from get_config_data import set_db_padding"
   ]
  },
  {
   "cell_type": "code",
   "execution_count": 2,
   "metadata": {},
   "outputs": [],
   "source": [
    "set_db_padding(\"log_\")\n",
    "migrate(True)"
   ]
  },
  {
   "cell_type": "code",
   "execution_count": 3,
   "metadata": {},
   "outputs": [
    {
     "data": {
      "text/plain": [
       "Ok(MemberID(uuid=UUID('7f36ee04-1924-4706-8c82-d18ff36ac7ae'), sequence=-1))"
      ]
     },
     "execution_count": 3,
     "metadata": {},
     "output_type": "execute_result"
    }
   ],
   "source": [
    "service = CreateMemberService(MySqlSaveMember(get_db_padding()))\n",
    "service.create(\n",
    "    account=\"hohorst\",\n",
    "    passwd=\"456\",\n",
    "    role=\"seller\",\n",
    "    name=\"Lee hohun\",\n",
    "    phone=\"010566788874\",\n",
    "    email=\"vacst@naver.com\",\n",
    "    address=\"서울시 광진구\",\n",
    "    company_registration_number=\"115557936219463\",\n",
    "    pay_account=\"6795943585566187\",\n",
    ")"
   ]
  },
  {
   "cell_type": "code",
   "execution_count": 4,
   "metadata": {},
   "outputs": [
    {
     "data": {
      "text/plain": [
       "Ok(MemberID(uuid=UUID('d324d960-3753-411c-a458-f3d0d4dd2d38'), sequence=-1))"
      ]
     },
     "execution_count": 4,
     "metadata": {},
     "output_type": "execute_result"
    }
   ],
   "source": [
    "service.create(\n",
    "    account=\"abrst\",\n",
    "    passwd=\"123\",\n",
    "    role=\"buyer\",\n",
    "    name=\"Lee Takgun\",\n",
    "    phone=\"01036574774\",\n",
    "    email=\"vacst@naver.com\",\n",
    "    address=\"서울시 구로구\",\n",
    ")"
   ]
  },
  {
   "cell_type": "code",
   "execution_count": 34,
   "metadata": {},
   "outputs": [],
   "source": [
    "session = AuthenticationMemberService(LoginVerifiableAuthentication(), MakeSaveMemberSession())"
   ]
  },
  {
   "cell_type": "markdown",
   "metadata": {},
   "source": []
  },
  {
   "cell_type": "code",
   "execution_count": 11,
   "metadata": {},
   "outputs": [
    {
     "name": "stderr",
     "output_type": "stream",
     "text": [
      "ic| login_result: Ok(Authentication(id=MemberID(uuid=UUID('2920a4c9-3866-4105-90c1-7d3e57b3f3e9'), sequence=1), last_access=datetime.datetime(2024, 2, 26, 18, 21, 41), fail_count=0, is_sucess=False))\n"
     ]
    },
    {
     "data": {
      "text/plain": [
       "Err('block : 0')"
      ]
     },
     "execution_count": 3,
     "metadata": {},
     "output_type": "execute_result"
    }
   ],
   "source": [
    "session.login(\"hohorst\",hashing_passwd(\"124\"))\n",
    "session.login(\"hohorst\",hashing_passwd(\"124\"))\n",
    "session.login(\"hohorst\",hashing_passwd(\"124\"))\n",
    "session.login(\"hohorst\",hashing_passwd(\"124\"))\n",
    "session.login(\"hohorst\",hashing_passwd(\"124\"))"
   ]
  },
  {
   "cell_type": "code",
   "execution_count": 35,
   "metadata": {},
   "outputs": [],
   "source": [
    "ret=session.login(\"hohorst\",\"456\")"
   ]
  },
  {
   "cell_type": "code",
   "execution_count": 36,
   "metadata": {},
   "outputs": [
    {
     "data": {
      "text/plain": [
       "Ok(MemberSession(key=UUID('b843797a-48d5-432d-944d-e482d7b67c59'), name='Lee hohun', role=<RoleType.SELLER: 'seller'>, member_id=MemberID(uuid=UUID('7f36ee04-1924-4706-8c82-d18ff36ac7ae'), sequence=-1)))"
      ]
     },
     "execution_count": 36,
     "metadata": {},
     "output_type": "execute_result"
    }
   ],
   "source": [
    "ret"
   ]
  },
  {
   "cell_type": "code",
   "execution_count": 37,
   "metadata": {},
   "outputs": [],
   "source": [
    "load = MySqlLoadSession()"
   ]
  },
  {
   "cell_type": "code",
   "execution_count": 38,
   "metadata": {},
   "outputs": [
    {
     "data": {
      "text/plain": [
       "Ok('{\"member_id\": \"7f36ee04192447068c82d18ff36ac7ae\", \"name\": \"Lee hohun\", \"role\": \"seller\"}')"
      ]
     },
     "execution_count": 38,
     "metadata": {},
     "output_type": "execute_result"
    }
   ],
   "source": [
    "load.load_session(str(ret.ok_value.get_id()))"
   ]
  },
  {
   "cell_type": "code",
   "execution_count": 39,
   "metadata": {},
   "outputs": [
    {
     "data": {
      "text/plain": [
       "'b843797a48d5432d944de482d7b67c59'"
      ]
     },
     "execution_count": 39,
     "metadata": {},
     "output_type": "execute_result"
    }
   ],
   "source": [
    "ret.ok_value.get_id()"
   ]
  },
  {
   "cell_type": "code",
   "execution_count": 40,
   "metadata": {},
   "outputs": [
    {
     "name": "stderr",
     "output_type": "stream",
     "text": [
      "ic| SaveProductTempSession.py:58 in upload_or_save_product_temp_session() at 10:49:11.609\n",
      "ic| SaveProductTempSession.py:61 in upload_or_save_product_temp_session() at 10:49:11.624\n",
      "ic| SaveProductTempSession.py:67 in upload_or_save_product_temp_session() at 10:49:11.636\n"
     ]
    },
    {
     "data": {
      "text/plain": [
       "Ok(ProductTempSession(key=UUID('521ca05e-5ef4-4f73-8e7d-cdc10549c43a'), product=None, img_path=''))"
      ]
     },
     "execution_count": 40,
     "metadata": {},
     "output_type": "execute_result"
    }
   ],
   "source": [
    "temp = SaveProductTempSession()\n",
    "temp.upload_or_save_product_temp_session(ProductSessionBuilder().set_key(\"521ca05e5ef44f738e7dcdc10549c43a\").build())"
   ]
  },
  {
   "cell_type": "code",
   "execution_count": 17,
   "metadata": {},
   "outputs": [
    {
     "name": "stderr",
     "output_type": "stream",
     "text": [
      "ic| SaveProductTempSession.py:58 in upload_or_save_product_temp_session() at 09:56:21.633\n",
      "ic| SaveProductTempSession.py:61 in upload_or_save_product_temp_session() at 09:56:21.655\n",
      "ic| SaveProductTempSession.py:67 in upload_or_save_product_temp_session() at 09:56:21.670\n"
     ]
    },
    {
     "data": {
      "text/plain": [
       "Ok(ProductTempSession(key=UUID('121ca05e-5ef4-4f73-8e7d-cdc10541233a'), product=None, img_path=''))"
      ]
     },
     "execution_count": 17,
     "metadata": {},
     "output_type": "execute_result"
    }
   ],
   "source": [
    "temp = SaveProductTempSession()\n",
    "temp.upload_or_save_product_temp_session(ProductSessionBuilder().set_key(\"121ca05e5ef44f738e7dcdc10541233a\").build())"
   ]
  },
  {
   "cell_type": "code",
   "execution_count": 61,
   "metadata": {},
   "outputs": [
    {
     "name": "stderr",
     "output_type": "stream",
     "text": [
      "ic| ProductSession.py:212 in set_img_path() at 11:05:25.330\n"
     ]
    },
    {
     "name": "stdout",
     "output_type": "stream",
     "text": [
      "Not Implement\n",
      "Not Exsist 'C:\\Users\\USER\\source\\Backend\\Images\\example_img_path.jpg'. img path is not abs path.\n"
     ]
    }
   ],
   "source": [
    "from Builders.Products.BasicProductBuilder import ProductIDBuilder\n",
    "from Domains.Sessions.ProductSession import ProductTempSession\n",
    "\n",
    "# ProductTempSession 객체 생성 예시\n",
    "session_img = ProductSessionBuilder().set_key(\"121ca05e5ef44f738e7dcdc10541233a\").set_img_path(\"example_img_path.jpg\").unwrap().build()\n"
   ]
  },
  {
   "cell_type": "code",
   "execution_count": 60,
   "metadata": {},
   "outputs": [
    {
     "name": "stderr",
     "output_type": "stream",
     "text": [
      "ic| SaveProductTempSession.py:72 in upload_or_save_product_temp_session() at 10:59:31.527\n"
     ]
    },
    {
     "data": {
      "text/plain": [
       "Err(\"'ProductTempSession' object has no attribute 'hex'\")"
      ]
     },
     "execution_count": 60,
     "metadata": {},
     "output_type": "execute_result"
    }
   ],
   "source": [
    "temp = SaveProductTempSession()\n",
    "\n",
    "temp.upload_or_save_product_temp_session(session_img)"
   ]
  },
  {
   "cell_type": "code",
   "execution_count": 54,
   "metadata": {},
   "outputs": [],
   "source": [
    "from Builders.Products.BasicProductBuilder import ProductIDBuilder\n",
    "from Domains.Sessions.ProductSession import ProductTempSession\n",
    "\n",
    "# ProductTempSession 객체 생성 예시\n",
    "session = ProductTempSession(\n",
    "    key=ProductSessionBuilder().set_key(\"121ca05e5ef44f738e7dcdc10541233a\").build(),\n",
    "    product=None,  # Product 객체를 전달해도 됨\n",
    ")"
   ]
  },
  {
   "cell_type": "code",
   "execution_count": 67,
   "metadata": {},
   "outputs": [
    {
     "name": "stderr",
     "output_type": "stream",
     "text": [
      "ic| ProductSession.py:212 in set_img_path() at 11:28:59.568\n",
      "ic| SaveProductTempSession.py:58 in upload_or_save_product_temp_session() at 11:28:59.591\n",
      "ic| SaveProductTempSession.py:61 in upload_or_save_product_temp_session() at 11:28:59.613\n",
      "ic| SaveProductTempSession.py:67 in upload_or_save_product_temp_session() at 11:28:59.636\n"
     ]
    },
    {
     "name": "stdout",
     "output_type": "stream",
     "text": [
      "Not Implement\n",
      "Not Exsist 'C:\\Users\\USER\\source\\Backend\\Images\\example_img_path.jpg'. img path is not abs path.\n"
     ]
    },
    {
     "data": {
      "text/plain": [
       "Ok(ProductTempSession(key=UUID('121ca05e-5ef4-4f73-8e7d-cdc10541233a'), product=None, img_path='example_img_path.jpg'))"
      ]
     },
     "execution_count": 67,
     "metadata": {},
     "output_type": "execute_result"
    }
   ],
   "source": [
    "temp = SaveProductTempSession()\n",
    "temp.upload_or_save_product_temp_session(ProductSessionBuilder().set_key(\"121ca05e5ef44f738e7dcdc10541233a\").set_img_path(\"example_img_path.jpg\").unwrap().build())"
   ]
  },
  {
   "cell_type": "code",
   "execution_count": 68,
   "metadata": {},
   "outputs": [
    {
     "name": "stderr",
     "output_type": "stream",
     "text": [
      "ic| SaveProductTempSession.py:58 in upload_or_save_product_temp_session() at 11:29:06.995\n",
      "ic| SaveProductTempSession.py:61 in upload_or_save_product_temp_session() at 11:29:07.009\n",
      "ic| SaveProductTempSession.py:67 in upload_or_save_product_temp_session() at 11:29:07.038\n"
     ]
    },
    {
     "data": {
      "text/plain": [
       "Ok(ProductTempSession(key=UUID('121ca05e-5ef4-4f73-8e7d-cdc10541233a'), product=Product(id=ProductID(uuid=UUID('b76cd567-8b71-42f8-b9aa-dacc01800f13'), sequence=-1), seller_id=MemberID(uuid=UUID('6fe43fe6-4356-49e7-9986-e3bbf9297f3e'), sequence=-1), name='전기밥솥', img_path='Dump', price=8768, description='이 밥솥은 효율적이고 간편한 밥을 만들어냅니다. 최고의 맛과 건강을 위해 지금 주문하세요!', register_day=datetime.datetime(2024, 2, 29, 11, 29, 6, 988888)), img_path=''))"
      ]
     },
     "execution_count": 68,
     "metadata": {},
     "output_type": "execute_result"
    }
   ],
   "source": [
    "temp = SaveProductTempSession()\n",
    "temp.upload_or_save_product_temp_session(ProductSessionBuilder().set_key(\"121ca05e5ef44f738e7dcdc10541233a\").set_name(\"전기밥솥\").set_description(\"이 밥솥은 효율적이고 간편한 밥을 만들어냅니다. 최고의 맛과 건강을 위해 지금 주문하세요!\").set_price(8768).set_seller_id(\"6fe43fe6435649e79986e3bbf9297f3e\").build())"
   ]
  }
 ],
 "metadata": {
  "kernelspec": {
   "display_name": "Python 3",
   "language": "python",
   "name": "python3"
  },
  "language_info": {
   "codemirror_mode": {
    "name": "ipython",
    "version": 3
   },
   "file_extension": ".py",
   "mimetype": "text/x-python",
   "name": "python",
   "nbconvert_exporter": "python",
   "pygments_lexer": "ipython3",
   "version": "3.12.0"
  }
 },
 "nbformat": 4,
 "nbformat_minor": 2
}
