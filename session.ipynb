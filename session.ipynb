{
 "cells": [
  {
   "cell_type": "code",
   "execution_count": 6,
   "metadata": {},
   "outputs": [],
   "source": [
    "\n",
    "import __init__\n",
    "from abc import ABCMeta, abstractmethod\n",
    "from typing import Optional, Tuple, List\n",
    "from result import Result, Ok, Err\n",
    "from get_config_data import get_db_padding\n",
    "\n",
    "from Applications.Members import AuthenticationMemberService\n",
    "from Storages.Members import LoginVerifiableAuthentication\n",
    "\n",
    "from get_config_data import get_db_padding\n",
    "from Migrations import MySqlCreateUser\n",
    "from Builders.Members import *\n",
    "from Domains.Members import *\n",
    "\n",
    "from icecream import ic\n",
    "from uuid import uuid4, UUID\n",
    "\n",
    "from Domains.Members import *\n",
    "from Domains.Sessions import *\n",
    "from Builders.Members import *\n",
    "from Repositories.Members import *\n",
    "from Applications.Members import CreateMemberService\n",
    "from Applications.Members.ExtentionMethod import hashing_passwd\n",
    "from datetime import datetime, timedelta\n",
    "from Storages.Members import MySqlSaveMember,LoginVerifiableAuthentication\n",
    "from Storages.Sessions import MakeSaveMemberSession\n",
    "from Repositories.Sessions import IMakeSaveMemberSession"
   ]
  },
  {
   "cell_type": "code",
   "execution_count": 7,
   "metadata": {},
   "outputs": [],
   "source": [
    "sql=MySqlCreateUser(get_db_padding())\n"
   ]
  },
  {
   "cell_type": "code",
   "execution_count": 8,
   "metadata": {},
   "outputs": [],
   "source": [
    "sql.create_user()"
   ]
  },
  {
   "cell_type": "code",
   "execution_count": 9,
   "metadata": {},
   "outputs": [
    {
     "data": {
      "text/plain": [
       "Ok(UUID('38b78601-d581-44be-a891-0c0a64000765'))"
      ]
     },
     "execution_count": 9,
     "metadata": {},
     "output_type": "execute_result"
    }
   ],
   "source": [
    "service = CreateMemberService(MySqlSaveMember(get_db_padding()))\n",
    "service.create(\n",
    "    account=\"hohorst\",\n",
    "    passwd=\"456\",\n",
    "    role=\"seller\",\n",
    "    name=\"Lee hohun\",\n",
    "    phone=\"010566788874\",\n",
    "    email=\"vacst@naver.com\",\n",
    "    address=\"서울시 광진구\",\n",
    "    company_registration_number=\"115557936219463\",\n",
    "    pay_account=\"6795943585566187\",\n",
    ")"
   ]
  },
  {
   "cell_type": "code",
   "execution_count": 10,
   "metadata": {},
   "outputs": [
    {
     "data": {
      "text/plain": [
       "Ok(UUID('505ecdc9-9fa2-4804-8d68-192d0b82370a'))"
      ]
     },
     "execution_count": 10,
     "metadata": {},
     "output_type": "execute_result"
    }
   ],
   "source": [
    "service.create(\n",
    "    account=\"abrst\",\n",
    "    passwd=\"123\",\n",
    "    role=\"buyer\",\n",
    "    name=\"Lee Takgun\",\n",
    "    phone=\"01036574774\",\n",
    "    email=\"vacst@naver.com\",\n",
    "    address=\"서울시 구로구\",\n",
    ")"
   ]
  },
  {
   "cell_type": "code",
   "execution_count": 5,
   "metadata": {},
   "outputs": [],
   "source": [
    "sql.delete_user()"
   ]
  },
  {
   "cell_type": "code",
   "execution_count": 11,
   "metadata": {},
   "outputs": [
    {
     "ename": "TypeError",
     "evalue": "Can't instantiate abstract class MakeSaveMemberSession without an implementation for abstract method 'make_and_save_session'",
     "output_type": "error",
     "traceback": [
      "\u001b[1;31m---------------------------------------------------------------------------\u001b[0m",
      "\u001b[1;31mTypeError\u001b[0m                                 Traceback (most recent call last)",
      "Cell \u001b[1;32mIn[11], line 1\u001b[0m\n\u001b[1;32m----> 1\u001b[0m session \u001b[38;5;241m=\u001b[39m AuthenticationMemberService(LoginVerifiableAuthentication(), \u001b[43mMakeSaveMemberSession\u001b[49m\u001b[43m(\u001b[49m\u001b[43m)\u001b[49m)\n",
      "\u001b[1;31mTypeError\u001b[0m: Can't instantiate abstract class MakeSaveMemberSession without an implementation for abstract method 'make_and_save_session'"
     ]
    }
   ],
   "source": [
    "session = AuthenticationMemberService(LoginVerifiableAuthentication(), MakeSaveMemberSession())"
   ]
  },
  {
   "cell_type": "code",
   "execution_count": 16,
   "metadata": {},
   "outputs": [
    {
     "name": "stderr",
     "output_type": "stream",
     "text": [
      "ic| login_result: Ok(Authentication(id=MemberID(uuid=UUID('e7b0045a-c5bf-4d01-b871-c78b6ba78399'), sequence=1), last_access=datetime.datetime("
     ]
    },
    {
     "name": "stderr",
     "output_type": "stream",
     "text": [
      "2024, 2, 24, 15, 15, 7), fail_count=1, is_sucess=False))\n",
      "ic| login_result: Ok(Authentication(id=MemberID(uuid=UUID('e7b0045a-c5bf-4d01-b871-c78b6ba78399'), sequence=1), last_access=datetime.datetime(2024, 2, 24, 15, 15, 17), fail_count=2, is_sucess=False))\n"
     ]
    },
    {
     "data": {
      "text/plain": [
       "Err('block : 5')"
      ]
     },
     "execution_count": 16,
     "metadata": {},
     "output_type": "execute_result"
    }
   ],
   "source": [
    "session.login(\"hohorst\",hashing_passwd(\"124\"))\n",
    "session.login(\"hohorst\",hashing_passwd(\"124\"))\n",
    "session.login(\"hohorst\",hashing_passwd(\"124\"))\n",
    "session.login(\"hohorst\",hashing_passwd(\"124\"))\n",
    "session.login(\"hohorst\",hashing_passwd(\"124\"))"
   ]
  },
  {
   "cell_type": "code",
   "execution_count": 3,
   "metadata": {},
   "outputs": [
    {
     "name": "stderr",
     "output_type": "stream",
     "text": [
      "ic| LoginMemberService.py:46 in login() at 17:53:51.617\n",
      "ic| LoginVerifiableAuthentication.py:42 in identify_and_authenticate() at 17:53:51.648\n",
      "ic| account: 'hohorst'\n",
      "    passwd: 'b3a8e0e1f9ab1bfe3a36f231f676f78bb30a519d2b21e6c530c0eee8ebb4a5d0'\n",
      "ic| result: (1,\n",
      "             '7c8857827da94fb5aaff6e3bc4d82cb2',\n",
      "             'b3a8e0e1f9ab1bfe3a36f231f676f78bb30a519d2b21e6c530c0eee8ebb4a5d0',\n",
      "             datetime.datetime(2024, 2, 24, 17, 50, 26),\n",
      "             0)\n",
      "ic| b.build(): Authentication(id=MemberID(uuid=UUID('7c885782-7da9-4fb5-aaff-6e3bc4d82cb2'),\n",
      "                                          sequence=1),\n",
      "                              last_access=datetime.datetime(2024, 2, 24, 17, 50, 26),\n",
      "                              fail_count=0,\n",
      "                              is_sucess=True)\n",
      "ic| LoginMemberService.py:48 in login() at 17:53:51.707\n",
      "ic| LoginMemberService.py:53 in login() at 17:53:51.714\n",
      "ic| LoginMemberService.py:65 in login() at 17:53:51.725\n",
      "ic| LoginMemberService.py:67 in login() at 17:53:51.735\n",
      "ic| session_result: Ok('{\"seq\": \"10\", \"member_id\": \"d697b39f733a426f96a13fc40c8bf061\", \"name\": \"이탁균\", \"role\": \"buyer\"}')\n",
      "ic| LoginMemberService.py:71 in login() at 17:53:51.768\n"
     ]
    },
    {
     "data": {
      "text/plain": [
       "Ok(MemberSession(key=UUID('7c885782-7da9-4fb5-aaff-6e3bc4d82cb2'), name='이탁균', role=<RoleType.BUYER: 'buyer'>, member_id=MemberID(uuid=UUID('d697b39f-733a-426f-96a1-3fc40c8bf061'), sequence=-1), seq=10))"
      ]
     },
     "execution_count": 3,
     "metadata": {},
     "output_type": "execute_result"
    }
   ],
   "source": [
    "session.login(\"hohorst\",\"456\")"
   ]
  },
  {
   "cell_type": "code",
   "execution_count": 9,
   "metadata": {},
   "outputs": [
    {
     "data": {
      "text/plain": [
       "'b3a8e0e1f9ab1bfe3a36f231f676f78bb30a519d2b21e6c530c0eee8ebb4a5d0'"
      ]
     },
     "execution_count": 9,
     "metadata": {},
     "output_type": "execute_result"
    }
   ],
   "source": [
    "hashing_passwd(\"456\")"
   ]
  },
  {
   "cell_type": "code",
   "execution_count": 4,
   "metadata": {},
   "outputs": [
    {
     "name": "stderr",
     "output_type": "stream",
     "text": [
      "ic| login_result: Ok(Authentication(id=MemberID(uuid=UUID('d1e3e9c4-a507-4ad3-b302-b841e2f960a4'), sequence=1), last_access=datetime.datetime(2024, 2, 24, 17, 0, 2), fail_count=0, is_sucess=False))\n"
     ]
    },
    {
     "data": {
      "text/plain": [
       "Err('비밀번호가 틀렸습니다.')"
      ]
     },
     "execution_count": 4,
     "metadata": {},
     "output_type": "execute_result"
    }
   ],
   "source": [
    "session.login(\"abrst\",hashing_passwd(\"123\"))"
   ]
  },
  {
   "cell_type": "code",
   "execution_count": null,
   "metadata": {},
   "outputs": [],
   "source": []
  }
 ],
 "metadata": {
  "kernelspec": {
   "display_name": "Python 3",
   "language": "python",
   "name": "python3"
  },
  "language_info": {
   "codemirror_mode": {
    "name": "ipython",
    "version": 3
   },
   "file_extension": ".py",
   "mimetype": "text/x-python",
   "name": "python",
   "nbconvert_exporter": "python",
   "pygments_lexer": "ipython3",
   "version": "3.12.0"
  }
 },
 "nbformat": 4,
 "nbformat_minor": 2
}
