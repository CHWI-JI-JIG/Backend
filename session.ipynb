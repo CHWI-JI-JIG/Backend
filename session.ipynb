{
 "cells": [
  {
   "cell_type": "code",
   "execution_count": 4,
   "metadata": {},
   "outputs": [],
   "source": [
    "\n",
    "import __init__\n",
    "from abc import ABCMeta, abstractmethod\n",
    "from typing import Optional, Tuple, List\n",
    "from result import Result, Ok, Err\n",
    "from get_config_data import get_db_padding\n",
    "\n",
    "from Applications.Members import AuthenticationMemberService\n",
    "from Storages.Members import LoginVerifiableAuthentication\n",
    "\n",
    "from get_config_data import get_db_padding\n",
    "from Migrations import MySqlCreateUser, MySqlCreateSession\n",
    "from Builders.Members import *\n",
    "from Domains.Members import *\n",
    "\n",
    "from icecream import ic\n",
    "from uuid import uuid4, UUID\n",
    "\n",
    "from Domains.Members import *\n",
    "from Domains.Sessions import *\n",
    "from Builders.Members import *\n",
    "from Repositories.Members import *\n",
    "from Applications.Members import CreateMemberService\n",
    "from Applications.Members.ExtentionMethod import hashing_passwd\n",
    "from datetime import datetime, timedelta\n",
    "from Storages.Members import MySqlSaveMember,LoginVerifiableAuthentication\n",
    "from Storages.Sessions import MakeSaveMemberSession\n",
    "from Storages.Sessions.MySqlLoadSession import MySqlSaveSession\n",
    "from Repositories.Sessions import IMakeSaveMemberSession\n",
    "\n",
    "from manage import migrate, delete_storage\n",
    "from get_config_data import set_db_padding"
   ]
  },
  {
   "cell_type": "code",
   "execution_count": 5,
   "metadata": {},
   "outputs": [],
   "source": [
    "set_db_padding(\"log_\")\n",
    "migrate(True)"
   ]
  },
  {
   "cell_type": "code",
   "execution_count": 3,
   "metadata": {},
   "outputs": [
    {
     "data": {
      "text/plain": [
       "Ok(UUID('95156d4c-13b6-440a-bd56-7fcae5a94259'))"

      ]
     },
     "execution_count": 3,
     "metadata": {},
     "output_type": "execute_result"
    }
   ],
   "source": [
    "service = CreateMemberService(MySqlSaveMember(get_db_padding()))\n",
    "service.create(\n",
    "    account=\"hohorst\",\n",
    "    passwd=\"456\",\n",
    "    role=\"seller\",\n",
    "    name=\"Lee hohun\",\n",
    "    phone=\"010566788874\",\n",
    "    email=\"vacst@naver.com\",\n",
    "    address=\"서울시 광진구\",\n",
    "    company_registration_number=\"115557936219463\",\n",
    "    pay_account=\"6795943585566187\",\n",
    ")"
   ]
  },
  {
   "cell_type": "code",
   "execution_count": 4,
   "metadata": {},
   "outputs": [
    {
     "data": {
      "text/plain": [
       "Ok(UUID('2bac0d9e-a48c-4d2a-a354-129768b2354e'))"
      ]
     },
     "execution_count": 4,
     "metadata": {},
     "output_type": "execute_result"
    }
   ],
   "source": [
    "service.create(\n",
    "    account=\"abrst\",\n",
    "    passwd=\"123\",\n",
    "    role=\"buyer\",\n",
    "    name=\"Lee Takgun\",\n",
    "    phone=\"01036574774\",\n",
    "    email=\"vacst@naver.com\",\n",
    "    address=\"서울시 구로구\",\n",
    ")"
   ]
  },
  {
   "cell_type": "code",
   "execution_count": 3,
   "metadata": {},
   "outputs": [],
   "source": [
    "session = AuthenticationMemberService(LoginVerifiableAuthentication(), MakeSaveMemberSession())"
   ]
  },
  {
   "cell_type": "markdown",
   "metadata": {},
   "source": []
  },
  {
   "cell_type": "code",
   "execution_count": 11,
   "metadata": {},
   "outputs": [
    {
     "name": "stderr",
     "output_type": "stream",
     "text": [
      "ic| login_result: Ok(Authentication(id=MemberID(uuid=UUID('2920a4c9-3866-4105-90c1-7d3e57b3f3e9'), sequence=1), last_access=datetime.datetime(2024, 2, 26, 18, 21, 41), fail_count=0, is_sucess=False))\n"
     ]
    },
    {
     "data": {
      "text/plain": [
       "Err('block : 0')"
      ]
     },
     "execution_count": 3,
     "metadata": {},
     "output_type": "execute_result"
    }
   ],
   "source": [
    "session.login(\"hohorst\",hashing_passwd(\"124\"))\n",
    "session.login(\"hohorst\",hashing_passwd(\"124\"))\n",
    "session.login(\"hohorst\",hashing_passwd(\"124\"))\n",
    "session.login(\"hohorst\",hashing_passwd(\"124\"))\n",
    "session.login(\"hohorst\",hashing_passwd(\"124\"))"
   ]
  },
  {
   "cell_type": "code",
   "execution_count": 12,
   "metadata": {},
   "outputs": [
    {
     "name": "stderr",
     "output_type": "stream",
     "text": [
      "ic| LoginMemberService.py:60 in login() at 18:41:29.557\n",
      "ic| ret: Authentication(id=MemberID(uuid=UUID('6bd846ac-bb67-41bb-b85b-803a54a971fb'),\n",
      "                                    sequence=1),\n",
      "                        last_access=datetime.datetime(2024, 2, 26, 18, 36, 11),\n",
      "                        fail_count=0,\n",
      "                        is_sucess=True)\n",
      "ic| MakeSaveMemberSession.py:59 in make_and_save_session() at 18:41:29.611\n",
      "ic| member_id: MemberID(uuid=UUID('6bd846ac-bb67-41bb-b85b-803a54a971fb'), sequence=1)\n",
      "ic| member_id.get_id(): '6bd846acbb6741bbb85b803a54a971fb'\n"
     ]
    }
   ],
   "source": [
    "ret=session.login(\"hohorst\",\"456\")"
   ]
  },
  {
   "cell_type": "code",
   "execution_count": 13,

   "metadata": {},
   "outputs": [
    {
     "data": {
      "text/plain": [
       "Ok(MemberSession(key=UUID('4009aab0-7647-4f73-b8d2-b35d6bcf9217'), name='Lee hohun', role=<RoleType.SELLER: 'seller'>, member_id=MemberID(uuid=UUID('95156d4c-13b6-440a-bd56-7fcae5a94259'), sequence=-1), seq=-1))"
      ]
     },
     "execution_count": 13,

     "metadata": {},
     "output_type": "execute_result"
    }
   ],
   "source": [
    "ret"
   ]
  },
  {
   "cell_type": "code",
   "execution_count": 14,
   "metadata": {},
   "outputs": [],
   "source": [
    "load = MySqlSaveSession()"
   ]
  },
  {
   "cell_type": "code",
   "execution_count": 15,
   "metadata": {},
   "outputs": [
    {
     "data": {
      "text/plain": [
       "Ok('{\"seq\": \"-1\", \"member_id\": \"95156d4c13b6440abd567fcae5a94259\", \"name\": \"Lee hohun\", \"role\": \"seller\"}')"
      ]
     },
     "execution_count": 15,
     "metadata": {},
     "output_type": "execute_result"
    }
   ],
   "source": [
    "load.load_session(str(ret.ok_value.get_id()))"
   ]
  },
  {
   "cell_type": "code",
   "execution_count": 16,
   "metadata": {},
   "outputs": [
    {
     "data": {
      "text/plain": [
       "'4009aab076474f73b8d2b35d6bcf9217'"
      ]
     },
     "execution_count": 16,
     "metadata": {},
     "output_type": "execute_result"
    }
   ],
   "source": [
    "ret.ok_value.get_id()"
   ]
  }
 ],
 "metadata": {
  "kernelspec": {
   "display_name": "Python 3",
   "language": "python",
   "name": "python3"
  },
  "language_info": {
   "codemirror_mode": {
    "name": "ipython",
    "version": 3
   },
   "file_extension": ".py",
   "mimetype": "text/x-python",
   "name": "python",
   "nbconvert_exporter": "python",
   "pygments_lexer": "ipython3",
   "version": "3.12.0"
  }
 },
 "nbformat": 4,
 "nbformat_minor": 2
}
