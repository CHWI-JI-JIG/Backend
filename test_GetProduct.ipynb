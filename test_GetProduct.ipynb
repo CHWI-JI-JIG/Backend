{
 "cells": [
  {
   "cell_type": "code",
   "execution_count": 2,
   "metadata": {},
   "outputs": [],
   "source": [
    "import __init__\n",
    "from get_config_data import get_db_padding\n",
    "from Storages.Products import MySqlGetProduct, MySqlSaveProduct\n",
    "from Migrations import MySqlCreateProduct\n",
    "from Builders.Members import *\n",
    "from Builders.Products import *\n",
    "from Domains.Products import *\n",
    "from result import Result,Ok,Err\n",
    "from datetime import datetime\n",
    "\n",
    "from Domains.Members import *\n",
    "from Repositories.Products import *\n",
    "\n",
    "from typing import Optional, List, Tuple\n",
    "\n",
    "from icecream import ic"
   ]
  },
  {
   "cell_type": "code",
   "execution_count": 3,
   "metadata": {},
   "outputs": [],
   "source": [
    "sql=MySqlCreateProduct(get_db_padding())"
   ]
  },
  {
   "cell_type": "code",
   "execution_count": 3,
   "metadata": {},
   "outputs": [],
   "source": [
    "sql.create_product()"
   ]
  },
  {
   "cell_type": "code",
   "execution_count": 4,
   "metadata": {},
   "outputs": [
    {
     "data": {
      "text/plain": [
       "True"
      ]
     },
     "execution_count": 4,
     "metadata": {},
     "output_type": "execute_result"
    }
   ],
   "source": [
    "sql.check_exist_product()"
   ]
  },
  {
   "cell_type": "code",
   "execution_count": 7,
   "metadata": {},
   "outputs": [
    {
     "ename": "OperationalError",
     "evalue": "(3730, \"Cannot drop table 'log_product' referenced by a foreign key constraint 'log_comments_ibfk_2' on table 'log_comments'.\")",
     "output_type": "error",
     "traceback": [
      "\u001b[1;31m---------------------------------------------------------------------------\u001b[0m",
      "\u001b[1;31mOperationalError\u001b[0m                          Traceback (most recent call last)",
      "Cell \u001b[1;32mIn[7], line 1\u001b[0m\n\u001b[1;32m----> 1\u001b[0m \u001b[43msql\u001b[49m\u001b[38;5;241;43m.\u001b[39;49m\u001b[43mdelete_product\u001b[49m\u001b[43m(\u001b[49m\u001b[43m)\u001b[49m\n",
      "File \u001b[1;32mc:\\Users\\USER\\final_Django\\Migrations\\MySqlCreateProduct.py:69\u001b[0m, in \u001b[0;36mMySqlCreateProduct.delete_product\u001b[1;34m(self)\u001b[0m\n\u001b[0;32m     66\u001b[0m \u001b[38;5;28;01mwith\u001b[39;00m connection\u001b[38;5;241m.\u001b[39mcursor() \u001b[38;5;28;01mas\u001b[39;00m cursor:\n\u001b[0;32m     67\u001b[0m     \u001b[38;5;66;03m# \"users\" 테이블 삭제 쿼리\u001b[39;00m\n\u001b[0;32m     68\u001b[0m     drop_table_query \u001b[38;5;241m=\u001b[39m \u001b[38;5;124mf\u001b[39m\u001b[38;5;124m\"\u001b[39m\u001b[38;5;124mDROP TABLE IF EXISTS \u001b[39m\u001b[38;5;132;01m{\u001b[39;00mproduct_table_name\u001b[38;5;132;01m}\u001b[39;00m\u001b[38;5;124m;\u001b[39m\u001b[38;5;124m\"\u001b[39m\n\u001b[1;32m---> 69\u001b[0m     \u001b[43mcursor\u001b[49m\u001b[38;5;241;43m.\u001b[39;49m\u001b[43mexecute\u001b[49m\u001b[43m(\u001b[49m\u001b[43mdrop_table_query\u001b[49m\u001b[43m)\u001b[49m\n\u001b[0;32m     71\u001b[0m     \u001b[38;5;66;03m# 변경 사항을 커밋\u001b[39;00m\n\u001b[0;32m     72\u001b[0m     connection\u001b[38;5;241m.\u001b[39mcommit()\n",
      "File \u001b[1;32mc:\\Users\\USER\\AppData\\Local\\Programs\\Python\\Python312\\Lib\\site-packages\\pymysql\\cursors.py:148\u001b[0m, in \u001b[0;36mCursor.execute\u001b[1;34m(self, query, args)\u001b[0m\n\u001b[0;32m    144\u001b[0m     \u001b[38;5;28;01mpass\u001b[39;00m\n\u001b[0;32m    146\u001b[0m query \u001b[38;5;241m=\u001b[39m \u001b[38;5;28mself\u001b[39m\u001b[38;5;241m.\u001b[39mmogrify(query, args)\n\u001b[1;32m--> 148\u001b[0m result \u001b[38;5;241m=\u001b[39m \u001b[38;5;28;43mself\u001b[39;49m\u001b[38;5;241;43m.\u001b[39;49m\u001b[43m_query\u001b[49m\u001b[43m(\u001b[49m\u001b[43mquery\u001b[49m\u001b[43m)\u001b[49m\n\u001b[0;32m    149\u001b[0m \u001b[38;5;28mself\u001b[39m\u001b[38;5;241m.\u001b[39m_executed \u001b[38;5;241m=\u001b[39m query\n\u001b[0;32m    150\u001b[0m \u001b[38;5;28;01mreturn\u001b[39;00m result\n",
      "File \u001b[1;32mc:\\Users\\USER\\AppData\\Local\\Programs\\Python\\Python312\\Lib\\site-packages\\pymysql\\cursors.py:310\u001b[0m, in \u001b[0;36mCursor._query\u001b[1;34m(self, q)\u001b[0m\n\u001b[0;32m    308\u001b[0m \u001b[38;5;28mself\u001b[39m\u001b[38;5;241m.\u001b[39m_last_executed \u001b[38;5;241m=\u001b[39m q\n\u001b[0;32m    309\u001b[0m \u001b[38;5;28mself\u001b[39m\u001b[38;5;241m.\u001b[39m_clear_result()\n\u001b[1;32m--> 310\u001b[0m \u001b[43mconn\u001b[49m\u001b[38;5;241;43m.\u001b[39;49m\u001b[43mquery\u001b[49m\u001b[43m(\u001b[49m\u001b[43mq\u001b[49m\u001b[43m)\u001b[49m\n\u001b[0;32m    311\u001b[0m \u001b[38;5;28mself\u001b[39m\u001b[38;5;241m.\u001b[39m_do_get_result()\n\u001b[0;32m    312\u001b[0m \u001b[38;5;28;01mreturn\u001b[39;00m \u001b[38;5;28mself\u001b[39m\u001b[38;5;241m.\u001b[39mrowcount\n",
      "File \u001b[1;32mc:\\Users\\USER\\AppData\\Local\\Programs\\Python\\Python312\\Lib\\site-packages\\pymysql\\connections.py:548\u001b[0m, in \u001b[0;36mConnection.query\u001b[1;34m(self, sql, unbuffered)\u001b[0m\n\u001b[0;32m    546\u001b[0m     sql \u001b[38;5;241m=\u001b[39m sql\u001b[38;5;241m.\u001b[39mencode(\u001b[38;5;28mself\u001b[39m\u001b[38;5;241m.\u001b[39mencoding, \u001b[38;5;124m\"\u001b[39m\u001b[38;5;124msurrogateescape\u001b[39m\u001b[38;5;124m\"\u001b[39m)\n\u001b[0;32m    547\u001b[0m \u001b[38;5;28mself\u001b[39m\u001b[38;5;241m.\u001b[39m_execute_command(COMMAND\u001b[38;5;241m.\u001b[39mCOM_QUERY, sql)\n\u001b[1;32m--> 548\u001b[0m \u001b[38;5;28mself\u001b[39m\u001b[38;5;241m.\u001b[39m_affected_rows \u001b[38;5;241m=\u001b[39m \u001b[38;5;28;43mself\u001b[39;49m\u001b[38;5;241;43m.\u001b[39;49m\u001b[43m_read_query_result\u001b[49m\u001b[43m(\u001b[49m\u001b[43munbuffered\u001b[49m\u001b[38;5;241;43m=\u001b[39;49m\u001b[43munbuffered\u001b[49m\u001b[43m)\u001b[49m\n\u001b[0;32m    549\u001b[0m \u001b[38;5;28;01mreturn\u001b[39;00m \u001b[38;5;28mself\u001b[39m\u001b[38;5;241m.\u001b[39m_affected_rows\n",
      "File \u001b[1;32mc:\\Users\\USER\\AppData\\Local\\Programs\\Python\\Python312\\Lib\\site-packages\\pymysql\\connections.py:775\u001b[0m, in \u001b[0;36mConnection._read_query_result\u001b[1;34m(self, unbuffered)\u001b[0m\n\u001b[0;32m    773\u001b[0m \u001b[38;5;28;01melse\u001b[39;00m:\n\u001b[0;32m    774\u001b[0m     result \u001b[38;5;241m=\u001b[39m MySQLResult(\u001b[38;5;28mself\u001b[39m)\n\u001b[1;32m--> 775\u001b[0m     \u001b[43mresult\u001b[49m\u001b[38;5;241;43m.\u001b[39;49m\u001b[43mread\u001b[49m\u001b[43m(\u001b[49m\u001b[43m)\u001b[49m\n\u001b[0;32m    776\u001b[0m \u001b[38;5;28mself\u001b[39m\u001b[38;5;241m.\u001b[39m_result \u001b[38;5;241m=\u001b[39m result\n\u001b[0;32m    777\u001b[0m \u001b[38;5;28;01mif\u001b[39;00m result\u001b[38;5;241m.\u001b[39mserver_status \u001b[38;5;129;01mis\u001b[39;00m \u001b[38;5;129;01mnot\u001b[39;00m \u001b[38;5;28;01mNone\u001b[39;00m:\n",
      "File \u001b[1;32mc:\\Users\\USER\\AppData\\Local\\Programs\\Python\\Python312\\Lib\\site-packages\\pymysql\\connections.py:1156\u001b[0m, in \u001b[0;36mMySQLResult.read\u001b[1;34m(self)\u001b[0m\n\u001b[0;32m   1154\u001b[0m \u001b[38;5;28;01mdef\u001b[39;00m \u001b[38;5;21mread\u001b[39m(\u001b[38;5;28mself\u001b[39m):\n\u001b[0;32m   1155\u001b[0m     \u001b[38;5;28;01mtry\u001b[39;00m:\n\u001b[1;32m-> 1156\u001b[0m         first_packet \u001b[38;5;241m=\u001b[39m \u001b[38;5;28;43mself\u001b[39;49m\u001b[38;5;241;43m.\u001b[39;49m\u001b[43mconnection\u001b[49m\u001b[38;5;241;43m.\u001b[39;49m\u001b[43m_read_packet\u001b[49m\u001b[43m(\u001b[49m\u001b[43m)\u001b[49m\n\u001b[0;32m   1158\u001b[0m         \u001b[38;5;28;01mif\u001b[39;00m first_packet\u001b[38;5;241m.\u001b[39mis_ok_packet():\n\u001b[0;32m   1159\u001b[0m             \u001b[38;5;28mself\u001b[39m\u001b[38;5;241m.\u001b[39m_read_ok_packet(first_packet)\n",
      "File \u001b[1;32mc:\\Users\\USER\\AppData\\Local\\Programs\\Python\\Python312\\Lib\\site-packages\\pymysql\\connections.py:725\u001b[0m, in \u001b[0;36mConnection._read_packet\u001b[1;34m(self, packet_type)\u001b[0m\n\u001b[0;32m    723\u001b[0m     \u001b[38;5;28;01mif\u001b[39;00m \u001b[38;5;28mself\u001b[39m\u001b[38;5;241m.\u001b[39m_result \u001b[38;5;129;01mis\u001b[39;00m \u001b[38;5;129;01mnot\u001b[39;00m \u001b[38;5;28;01mNone\u001b[39;00m \u001b[38;5;129;01mand\u001b[39;00m \u001b[38;5;28mself\u001b[39m\u001b[38;5;241m.\u001b[39m_result\u001b[38;5;241m.\u001b[39munbuffered_active \u001b[38;5;129;01mis\u001b[39;00m \u001b[38;5;28;01mTrue\u001b[39;00m:\n\u001b[0;32m    724\u001b[0m         \u001b[38;5;28mself\u001b[39m\u001b[38;5;241m.\u001b[39m_result\u001b[38;5;241m.\u001b[39munbuffered_active \u001b[38;5;241m=\u001b[39m \u001b[38;5;28;01mFalse\u001b[39;00m\n\u001b[1;32m--> 725\u001b[0m     \u001b[43mpacket\u001b[49m\u001b[38;5;241;43m.\u001b[39;49m\u001b[43mraise_for_error\u001b[49m\u001b[43m(\u001b[49m\u001b[43m)\u001b[49m\n\u001b[0;32m    726\u001b[0m \u001b[38;5;28;01mreturn\u001b[39;00m packet\n",
      "File \u001b[1;32mc:\\Users\\USER\\AppData\\Local\\Programs\\Python\\Python312\\Lib\\site-packages\\pymysql\\protocol.py:221\u001b[0m, in \u001b[0;36mMysqlPacket.raise_for_error\u001b[1;34m(self)\u001b[0m\n\u001b[0;32m    219\u001b[0m \u001b[38;5;28;01mif\u001b[39;00m DEBUG:\n\u001b[0;32m    220\u001b[0m     \u001b[38;5;28mprint\u001b[39m(\u001b[38;5;124m\"\u001b[39m\u001b[38;5;124merrno =\u001b[39m\u001b[38;5;124m\"\u001b[39m, errno)\n\u001b[1;32m--> 221\u001b[0m \u001b[43merr\u001b[49m\u001b[38;5;241;43m.\u001b[39;49m\u001b[43mraise_mysql_exception\u001b[49m\u001b[43m(\u001b[49m\u001b[38;5;28;43mself\u001b[39;49m\u001b[38;5;241;43m.\u001b[39;49m\u001b[43m_data\u001b[49m\u001b[43m)\u001b[49m\n",
      "File \u001b[1;32mc:\\Users\\USER\\AppData\\Local\\Programs\\Python\\Python312\\Lib\\site-packages\\pymysql\\err.py:143\u001b[0m, in \u001b[0;36mraise_mysql_exception\u001b[1;34m(data)\u001b[0m\n\u001b[0;32m    141\u001b[0m \u001b[38;5;28;01mif\u001b[39;00m errorclass \u001b[38;5;129;01mis\u001b[39;00m \u001b[38;5;28;01mNone\u001b[39;00m:\n\u001b[0;32m    142\u001b[0m     errorclass \u001b[38;5;241m=\u001b[39m InternalError \u001b[38;5;28;01mif\u001b[39;00m errno \u001b[38;5;241m<\u001b[39m \u001b[38;5;241m1000\u001b[39m \u001b[38;5;28;01melse\u001b[39;00m OperationalError\n\u001b[1;32m--> 143\u001b[0m \u001b[38;5;28;01mraise\u001b[39;00m errorclass(errno, errval)\n",
      "\u001b[1;31mOperationalError\u001b[0m: (3730, \"Cannot drop table 'log_product' referenced by a foreign key constraint 'log_comments_ibfk_2' on table 'log_comments'.\")"
     ]
    }
   ],
   "source": [
    "sql.delete_product()"
   ]
  },
  {
   "cell_type": "code",
   "execution_count": 11,
   "metadata": {},
   "outputs": [],
   "source": [
    "id = (ProductIDBuilder().set_uuid().set_seqence(1).build())\n",
    "uid = (MemberIDBuilder().set_uuid(\"2bac0d9ea48c4d2aa354129768b2354e\").build())\n",
    "product = Product(\n",
    "    id = id,\n",
    "    seller_id = uid,\n",
    "    name = \"전기밥솥\",\n",
    "    img_path = \"/path/to/image1.jpg\",\n",
    "    price = \"8768\",\n",
    "    description = \"이 밥솥은 효율적이고 간편한 밥을 만들어냅니다. 최고의 맛과 건강을 위해 지금 주문하세요!\",\n",
    "    register_day = \"2024-02-20T08:40:02.890366\"\n",
    "    )\n",
    "\n",
    "id = (ProductIDBuilder().set_uuid().set_seqence(1).build())\n",
    "uid = (MemberIDBuilder().set_uuid(\"2bac0d9ea48c4d2aa354129768b2354e\").build())\n",
    "\n",
    "product = Product(\n",
    "    id = id,\n",
    "    seller_id = uid,\n",
    "    name = \"식기세트\",\n",
    "    img_path = \"/path/to/image2.jpg\",\n",
    "    price = \"3567\",\n",
    "    description = \"이 식기세트로 특별한 식사를 즐겨보세요. 심플하고 우아한 디자인으로 가정의 테이블을 더 아름답게 만들어줍니다.\",\n",
    "    register_day = \"2024-03-23T08:40:02.890387\"\n",
    "    )\n",
    "id = (ProductIDBuilder().set_uuid().set_seqence(1).build())\n",
    "uid = (MemberIDBuilder().set_uuid(\"2bac0d9ea48c4d2aa354129768b2354e\").build())\n",
    "\n",
    "product = Product(    \n",
    "    id = id,\n",
    "    seller_id = uid,\n",
    "    name = \"전기포트\",\n",
    "    img_path = \"/path/to/image3.jpg\",\n",
    "    price = \"5483\",\n",
    "    description = \"강력한 가열 성능과 스타일리시한 디자인으로 이 전기포트는 여러분의 생활을 편리하게 해줍니다. 물을 끓이는 것을 더 즐겁게 만들어줍니다!\",\n",
    "    register_day = \"2024-04-23T08:40:02.890393\"\n",
    "    )\n",
    "id = (ProductIDBuilder().set_uuid().set_seqence(1).build())\n",
    "uid = (MemberIDBuilder().set_uuid(\"2bac0d9ea48c4d2aa354129768b2354e\").build())\n",
    "\n",
    "product = Product(\n",
    "    id = id,\n",
    "    seller_id = uid,\n",
    "    name = \"식기건조대\",\n",
    "    img_path = \"/path/to/image4.jpg\",\n",
    "    price = \"9217\",\n",
    "    description = \"이 식기건조대는 깨끗하고 정리된 주방을 만들어줍니다. 효율적인 공간 활용과 환기 시스템으로 식기를 완벽하게 건조시켜줍니다!\",\n",
    "    register_day = \"2024-04-03T08:40:02.890398\"\n",
    "    )\n",
    "id = (ProductIDBuilder().set_uuid().set_seqence(1).build())\n",
    "uid = (MemberIDBuilder().set_uuid(\"2bac0d9ea48c4d2aa354129768b2354e\").build())\n",
    "\n",
    "product = Product(\n",
    "    id = id,\n",
    "    seller_id = uid,\n",
    "    name = \"숟가락\",\n",
    "    img_path = \"/path/to/image5.jpg\",\n",
    "    price = \"2094\",\n",
    "    description = \"이 숟가락은 튼튼하고 편안한 그립감으로 여러분의 식사를 더욱 편리하게 만들어줍니다. 식기 세트에 꼭 필요한 아이템입니다!\",\n",
    "    register_day = \"2024-05-25T08:40:02.890403\"\n",
    "    )\n",
    "id = (ProductIDBuilder().set_uuid().set_seqence(1).build())\n",
    "uid = (MemberIDBuilder().set_uuid(\"95156d4c13b6440abd567fcae5a94259\").build())\n",
    "\n",
    "product = Product(\n",
    "    id = id,\n",
    "    seller_id = uid,\n",
    "    name = \"컵\",\n",
    "    img_path = \"/path/to/image6.jpg\",\n",
    "    price = \"3121\",\n",
    "    description = \"이 컵은 환경을 생각한 친환경적인 디자인으로 제작되었습니다. 건강하고 안전한 식습관을 위해 지금 사용하세요!\",\n",
    "    register_day = \"2024-01-23T08:40:02.890408\"\n",
    "    )\n",
    "id = (ProductIDBuilder().set_uuid().set_seqence(1).build())\n",
    "uid = (MemberIDBuilder().set_uuid(\"95156d4c13b6440abd567fcae5a94259\").build())\n",
    "\n",
    "product = Product(\n",
    "    id = id,\n",
    "    seller_id = uid,\n",
    "    name = \"식탁\",\n",
    "    img_path = \"/path/to/image7.jpg\",\n",
    "    price = \"6054\",\n",
    "    description = \"이 식탁은 가정의 모임을 더욱 특별하게 만들어줍니다. 품질과 편안함을 동시에 제공하는 최고의 선택입니다!\",\n",
    "    register_day = \"2024-01-31T08:40:02.890413\"\n",
    "    )\n",
    "id = (ProductIDBuilder().set_uuid().set_seqence(1).build())\n",
    "uid = (MemberIDBuilder().set_uuid(\"95156d4c13b6440abd567fcae5a94259\").build())\n",
    "\n",
    "product = Product(\n",
    "    id = id,\n",
    "    seller_id = uid,\n",
    "    name = \"밥공기\",\n",
    "    img_path = \"/path/to/image8.jpg\",\n",
    "    price = \"6028\",\n",
    "    description = \"이 밥공기는 내용물을 따뜻하게 보관해줍니다. 더 나은 식사 경험을 위해 바로 사용하세요!\",\n",
    "    register_day = \"2024-04-16T08:40:02.890418\"\n",
    "    )\n",
    "id = (ProductIDBuilder().set_uuid().set_seqence(1).build())\n",
    "uid = (MemberIDBuilder().set_uuid(\"95156d4c13b6440abd567fcae5a94259\").build())\n",
    "\n",
    "product = Product( \n",
    "    id = id,\n",
    "    seller_id = uid,\n",
    "    name = \"전자렌지\",\n",
    "    img_path = \"/path/to/image9.jpg\",\n",
    "    price = \"5738\",\n",
    "    description = \"이 전자렌지는 간편하고 빠른 조리를 가능하게 합니다. 다양한 요리를 즐기기 위해 지금 바로 사용하세요!\",\n",
    "    register_day = \"2024-07-03T08:40:02.890422\"\n",
    "    )\n",
    "id = (ProductIDBuilder().set_uuid().set_seqence(1).build())\n",
    "uid = (MemberIDBuilder().set_uuid(\"95156d4c13b6440abd567fcae5a94259\").build())\n",
    "\n",
    "product = Product(\n",
    "    id = id,\n",
    "    seller_id = uid,\n",
    "    name = \"식기건조기\",\n",
    "    img_path = \"/path/to/image10.jpg\",\n",
    "    price = \"9531\",\n",
    "    description = \"이 식기건조기는 효율적이고 안전한 방식으로 식기를 건조시켜줍니다. 깨끗하고 청결한 주방을 위해 선택하세요!\",\n",
    "    register_day = \"2024-01-01T08:40:02.890426\"\n",
    "    )\n",
    "id = (ProductIDBuilder().set_uuid().set_seqence(1).build())\n",
    "uid = (MemberIDBuilder().set_uuid(\"95156d4c13b6440abd567fcae5a94259\").build())\n",
    "\n",
    "product = Product(\n",
    "    id = id,\n",
    "    seller_id = uid,\n",
    "    name = \"오븐\",\n",
    "    img_path = \"/path/to/image10.jpg\",\n",
    "    price = \"9531\",\n",
    "    description = \"이 오븐은 효율적이고 안전한 방식으로 음식을 구워줍니다.\",\n",
    "    register_day = \"2024-08-23T08:40:02.890426\"\n",
    "    )\n",
    "id = (ProductIDBuilder().set_uuid().set_seqence(1).build())\n",
    "uid = (MemberIDBuilder().set_uuid(\"95156d4c13b6440abd567fcae5a94259\").build())\n",
    "\n",
    "product = Product(\n",
    "    id = id,\n",
    "    seller_id = uid,\n",
    "    name = \"포크\",\n",
    "    img_path = \"/path/to/image10.jpg\",\n",
    "    price = \"9531\",\n",
    "    description = \"이 포크는 사용성이 아주 좋습니다.\",\n",
    "    register_day = \"2024-06-08T08:40:02.890426\"\n",
    "    )\n",
    "\n",
    "\n",
    "create=MySqlSaveProduct(get_db_padding())\n",
    "create.save_product(product)\n",
    "get=MySqlGetProduct(get_db_padding())\n",
    "get.get_products_by_create_date()\n",
    "get.get_products_by_seller_id(MemberIDBuilder().set_uuid(\"95156d4c13b6440abd567fcae5a94259\").build())"
   ]
  },
  {
   "cell_type": "code",
   "execution_count": 5,
   "metadata": {},
   "outputs": [
    {
     "data": {
      "text/plain": [
       "Ok(UUID('c990fc5d-9506-4f97-9135-c41ffe32954d'))"
      ]
     },
     "execution_count": 5,
     "metadata": {},
     "output_type": "execute_result"
    }
   ],
   "source": [
    "id = (ProductIDBuilder().set_uuid().set_seqence(1).build())\n",
    "uid = (MemberIDBuilder().set_uuid(\"f43c4a43c7ad42b5b331efec8b78a457\").build())\n",
    "\n",
    "product = Product(\n",
    "    id = id,\n",
    "    seller_id = uid,\n",
    "    name = \"젓가락\",\n",
    "    img_path = \"/path/to/image10.jpg\",\n",
    "    price = \"9531\",\n",
    "    description = \"이 젓가락은 사용성이 아주 좋습니다.\",\n",
    "    register_day = \"2024-06-08T08:40:02.890426\"\n",
    "    )\n",
    "\n",
    "\n",
    "create=MySqlSaveProduct(get_db_padding())\n",
    "create.save_product(product)"
   ]
  }
 ],
 "metadata": {
  "kernelspec": {
   "display_name": "Python 3",
   "language": "python",
   "name": "python3"
  },
  "language_info": {
   "codemirror_mode": {
    "name": "ipython",
    "version": 3
   },
   "file_extension": ".py",
   "mimetype": "text/x-python",
   "name": "python",
   "nbconvert_exporter": "python",
   "pygments_lexer": "ipython3",
   "version": "3.12.0"
  }
 },
 "nbformat": 4,
 "nbformat_minor": 2
}
