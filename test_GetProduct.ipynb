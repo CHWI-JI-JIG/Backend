{
 "cells": [
  {
   "cell_type": "code",
   "execution_count": 1,
   "metadata": {},
   "outputs": [],
   "source": [
    "import __init__\n",
    "from get_config_data import get_db_padding\n",
    "from Storages.Products import MySqlGetProduct, MySqlSaveProduct\n",
    "from Migrations import MySqlCreateProduct\n",
    "from Builders.Members import *\n",
    "from Builders.Products import *\n",
    "from Domains.Products import *\n",
    "from result import Result,Ok,Err\n",
    "from datetime import datetime\n",
    "\n",
    "from Domains.Members import *\n",
    "from Repositories.Products import *\n",
    "\n",
    "from typing import Optional, List, Tuple\n",
    "\n",
    "from icecream import ic"
   ]
  },
  {
   "cell_type": "code",
   "execution_count": 71,
   "metadata": {},
   "outputs": [],
   "source": [
    "sql=MySqlCreateProduct(get_db_padding())"
   ]
  },
  {
   "cell_type": "code",
   "execution_count": 72,
   "metadata": {},
   "outputs": [],
   "source": [
    "sql.create_product()"
   ]
  },
  {
   "cell_type": "code",
   "execution_count": 73,
   "metadata": {},
   "outputs": [
    {
     "data": {
      "text/plain": [
       "True"
      ]
     },
     "execution_count": 73,
     "metadata": {},
     "output_type": "execute_result"
    }
   ],
   "source": [
    "sql.check_exist_product()"
   ]
  },
  {
   "cell_type": "code",
   "execution_count": 67,
   "metadata": {},
   "outputs": [],
   "source": [
    "sql.delete_product()"
   ]
  },
  {
   "cell_type": "code",
   "execution_count": 74,
   "metadata": {},
   "outputs": [],
   "source": [
    "id = (ProductIDBuilder().set_uuid().set_seqence(1).build())\n",
    "uid = (MemberIDBuilder().set_uuid(\"2bac0d9ea48c4d2aa354129768b2354e\").build())\n",
    "product = Product(\n",
    "    id = id,\n",
    "    seller_id = uid,\n",
    "    name = \"전기밥솥\",\n",
    "    img_path = \"/path/to/image1.jpg\",\n",
    "    price = \"8768\",\n",
    "    description = \"이 밥솥은 효율적이고 간편한 밥을 만들어냅니다. 최고의 맛과 건강을 위해 지금 주문하세요!\",\n",
    "    register_day = \"2024-02-20T08:40:02.890366\"\n",
    "    )\n"
   ]
  },
  {
   "cell_type": "code",
   "execution_count": 76,
   "metadata": {},
   "outputs": [],
   "source": [
    "id = (ProductIDBuilder().set_uuid().set_seqence(1).build())\n",
    "uid = (MemberIDBuilder().set_uuid(\"2bac0d9ea48c4d2aa354129768b2354e\").build())\n",
    "\n",
    "product = Product(\n",
    "    id = id,\n",
    "    seller_id = uid,\n",
    "    name = \"식기세트\",\n",
    "    img_path = \"/path/to/image2.jpg\",\n",
    "    price = \"3567\",\n",
    "    description = \"이 식기세트로 특별한 식사를 즐겨보세요. 심플하고 우아한 디자인으로 가정의 테이블을 더 아름답게 만들어줍니다.\",\n",
    "    register_day = \"2024-03-23T08:40:02.890387\"\n",
    "    )"
   ]
  },
  {
   "cell_type": "code",
   "execution_count": 78,
   "metadata": {},
   "outputs": [],
   "source": [
    "id = (ProductIDBuilder().set_uuid().set_seqence(1).build())\n",
    "uid = (MemberIDBuilder().set_uuid(\"2bac0d9ea48c4d2aa354129768b2354e\").build())\n",
    "\n",
    "product = Product(    \n",
    "    id = id,\n",
    "    seller_id = uid,\n",
    "    name = \"전기포트\",\n",
    "    img_path = \"/path/to/image3.jpg\",\n",
    "    price = \"5483\",\n",
    "    description = \"강력한 가열 성능과 스타일리시한 디자인으로 이 전기포트는 여러분의 생활을 편리하게 해줍니다. 물을 끓이는 것을 더 즐겁게 만들어줍니다!\",\n",
    "    register_day = \"2024-04-23T08:40:02.890393\"\n",
    "    )"
   ]
  },
  {
   "cell_type": "code",
   "execution_count": 80,
   "metadata": {},
   "outputs": [],
   "source": [
    "id = (ProductIDBuilder().set_uuid().set_seqence(1).build())\n",
    "uid = (MemberIDBuilder().set_uuid(\"2bac0d9ea48c4d2aa354129768b2354e\").build())\n",
    "\n",
    "product = Product(\n",
    "    id = id,\n",
    "    seller_id = uid,\n",
    "    name = \"식기건조대\",\n",
    "    img_path = \"/path/to/image4.jpg\",\n",
    "    price = \"9217\",\n",
    "    description = \"이 식기건조대는 깨끗하고 정리된 주방을 만들어줍니다. 효율적인 공간 활용과 환기 시스템으로 식기를 완벽하게 건조시켜줍니다!\",\n",
    "    register_day = \"2024-04-03T08:40:02.890398\"\n",
    "    )"
   ]
  },
  {
   "cell_type": "code",
   "execution_count": 82,
   "metadata": {},
   "outputs": [],
   "source": [
    "id = (ProductIDBuilder().set_uuid().set_seqence(1).build())\n",
    "uid = (MemberIDBuilder().set_uuid(\"2bac0d9ea48c4d2aa354129768b2354e\").build())\n",
    "\n",
    "product = Product(\n",
    "    id = id,\n",
    "    seller_id = uid,\n",
    "    name = \"숟가락\",\n",
    "    img_path = \"/path/to/image5.jpg\",\n",
    "    price = \"2094\",\n",
    "    description = \"이 숟가락은 튼튼하고 편안한 그립감으로 여러분의 식사를 더욱 편리하게 만들어줍니다. 식기 세트에 꼭 필요한 아이템입니다!\",\n",
    "    register_day = \"2024-05-25T08:40:02.890403\"\n",
    "    )"
   ]
  },
  {
   "cell_type": "code",
   "execution_count": 84,
   "metadata": {},
   "outputs": [],
   "source": [
    "id = (ProductIDBuilder().set_uuid().set_seqence(1).build())\n",
    "uid = (MemberIDBuilder().set_uuid(\"95156d4c13b6440abd567fcae5a94259\").build())\n",
    "\n",
    "product = Product(\n",
    "    id = id,\n",
    "    seller_id = uid,\n",
    "    name = \"컵\",\n",
    "    img_path = \"/path/to/image6.jpg\",\n",
    "    price = \"3121\",\n",
    "    description = \"이 컵은 환경을 생각한 친환경적인 디자인으로 제작되었습니다. 건강하고 안전한 식습관을 위해 지금 사용하세요!\",\n",
    "    register_day = \"2024-01-23T08:40:02.890408\"\n",
    "    )"
   ]
  },
  {
   "cell_type": "code",
   "execution_count": 86,
   "metadata": {},
   "outputs": [],
   "source": [
    "id = (ProductIDBuilder().set_uuid().set_seqence(1).build())\n",
    "uid = (MemberIDBuilder().set_uuid(\"95156d4c13b6440abd567fcae5a94259\").build())\n",
    "\n",
    "product = Product(\n",
    "    id = id,\n",
    "    seller_id = uid,\n",
    "    name = \"식탁\",\n",
    "    img_path = \"/path/to/image7.jpg\",\n",
    "    price = \"6054\",\n",
    "    description = \"이 식탁은 가정의 모임을 더욱 특별하게 만들어줍니다. 품질과 편안함을 동시에 제공하는 최고의 선택입니다!\",\n",
    "    register_day = \"2024-01-31T08:40:02.890413\"\n",
    "    )"
   ]
  },
  {
   "cell_type": "code",
   "execution_count": 88,
   "metadata": {},
   "outputs": [],
   "source": [
    "id = (ProductIDBuilder().set_uuid().set_seqence(1).build())\n",
    "uid = (MemberIDBuilder().set_uuid(\"95156d4c13b6440abd567fcae5a94259\").build())\n",
    "\n",
    "product = Product(\n",
    "    id = id,\n",
    "    seller_id = uid,\n",
    "    name = \"밥공기\",\n",
    "    img_path = \"/path/to/image8.jpg\",\n",
    "    price = \"6028\",\n",
    "    description = \"이 밥공기는 내용물을 따뜻하게 보관해줍니다. 더 나은 식사 경험을 위해 바로 사용하세요!\",\n",
    "    register_day = \"2024-04-16T08:40:02.890418\"\n",
    "    )"
   ]
  },
  {
   "cell_type": "code",
   "execution_count": 90,
   "metadata": {},
   "outputs": [],
   "source": [
    "id = (ProductIDBuilder().set_uuid().set_seqence(1).build())\n",
    "uid = (MemberIDBuilder().set_uuid(\"95156d4c13b6440abd567fcae5a94259\").build())\n",
    "\n",
    "product = Product( \n",
    "    id = id,\n",
    "    seller_id = uid,\n",
    "    name = \"전자렌지\",\n",
    "    img_path = \"/path/to/image9.jpg\",\n",
    "    price = \"5738\",\n",
    "    description = \"이 전자렌지는 간편하고 빠른 조리를 가능하게 합니다. 다양한 요리를 즐기기 위해 지금 바로 사용하세요!\",\n",
    "    register_day = \"2024-07-03T08:40:02.890422\"\n",
    "    )"
   ]
  },
  {
   "cell_type": "code",
   "execution_count": 92,
   "metadata": {},
   "outputs": [],
   "source": [
    "id = (ProductIDBuilder().set_uuid().set_seqence(1).build())\n",
    "uid = (MemberIDBuilder().set_uuid(\"95156d4c13b6440abd567fcae5a94259\").build())\n",
    "\n",
    "product = Product(\n",
    "    id = id,\n",
    "    seller_id = uid,\n",
    "    name = \"식기건조기\",\n",
    "    img_path = \"/path/to/image10.jpg\",\n",
    "    price = \"9531\",\n",
    "    description = \"이 식기건조기는 효율적이고 안전한 방식으로 식기를 건조시켜줍니다. 깨끗하고 청결한 주방을 위해 선택하세요!\",\n",
    "    register_day = \"2024-01-01T08:40:02.890426\"\n",
    "    )"
   ]
  },
  {
   "cell_type": "code",
   "execution_count": 94,
   "metadata": {},
   "outputs": [],
   "source": [
    "id = (ProductIDBuilder().set_uuid().set_seqence(1).build())\n",
    "uid = (MemberIDBuilder().set_uuid(\"95156d4c13b6440abd567fcae5a94259\").build())\n",
    "\n",
    "product = Product(\n",
    "    id = id,\n",
    "    seller_id = uid,\n",
    "    name = \"오븐\",\n",
    "    img_path = \"/path/to/image10.jpg\",\n",
    "    price = \"9531\",\n",
    "    description = \"이 오븐은 효율적이고 안전한 방식으로 음식을 구워줍니다.\",\n",
    "    register_day = \"2024-08-23T08:40:02.890426\"\n",
    "    )"
   ]
  },
  {
   "cell_type": "code",
   "execution_count": 96,
   "metadata": {},
   "outputs": [],
   "source": [
    "id = (ProductIDBuilder().set_uuid().set_seqence(1).build())\n",
    "uid = (MemberIDBuilder().set_uuid(\"95156d4c13b6440abd567fcae5a94259\").build())\n",
    "\n",
    "product = Product(\n",
    "    id = id,\n",
    "    seller_id = uid,\n",
    "    name = \"포크\",\n",
    "    img_path = \"/path/to/image10.jpg\",\n",
    "    price = \"9531\",\n",
    "    description = \"이 포크는 사용성이 아주 좋습니다.\",\n",
    "    register_day = \"2024-06-08T08:40:02.890426\"\n",
    "    )"
   ]
  },
  {
   "cell_type": "code",
   "execution_count": 97,
   "metadata": {},
   "outputs": [
    {
     "data": {
      "text/plain": [
       "Ok(UUID('12d8c129-2afb-4e79-92a9-5b4cc10ac5cd'))"
      ]
     },
     "execution_count": 97,
     "metadata": {},
     "output_type": "execute_result"
    }
   ],
   "source": [
    "create=MySqlSaveProduct(get_db_padding())\n",
    "create.save_product(product)"
   ]
  },
  {
   "cell_type": "code",
   "execution_count": 2,
   "metadata": {},
   "outputs": [],
   "source": [
    "get=MySqlGetProduct(get_db_padding())"
   ]
  },
  {
   "cell_type": "code",
   "execution_count": 5,
   "metadata": {},
   "outputs": [
    {
     "data": {
      "text/plain": [
       "Ok((12, [Product(id=ProductID(uuid=UUID('74aba1d7-e997-43db-bde7-1dc5cd06daf2'), sequence=-1), seller_id=MemberID(uuid=UUID('95156d4c-13b6-440a-bd56-7fcae5a94259'), sequence=-1), name='오븐', img_path='/path/to/image10.jpg', price=9531, description='이 오븐은 효율적이고 안전한 방식으로 음식을 구워줍니다.', register_day=datetime.datetime(2024, 8, 23, 8, 40, 3)), Product(id=ProductID(uuid=UUID('730d3c07-9e5e-42c3-a0b8-ffc1d5217af7'), sequence=-1), seller_id=MemberID(uuid=UUID('95156d4c-13b6-440a-bd56-7fcae5a94259'), sequence=-1), name='전자렌지', img_path='/path/to/image9.jpg', price=5738, description='이 전자렌지는 간편하고 빠른 조리를 가능하게 합니다. 다양한 요리를 즐기기 위해 지금 바로 사용하세요!', register_day=datetime.datetime(2024, 7, 3, 8, 40, 3)), Product(id=ProductID(uuid=UUID('12d8c129-2afb-4e79-92a9-5b4cc10ac5cd'), sequence=-1), seller_id=MemberID(uuid=UUID('95156d4c-13b6-440a-bd56-7fcae5a94259'), sequence=-1), name='포크', img_path='/path/to/image10.jpg', price=9531, description='이 포크는 사용성이 아주 좋습니다.', register_day=datetime.datetime(2024, 6, 8, 8, 40, 3)), Product(id=ProductID(uuid=UUID('ae6a72b3-2036-4eba-ab65-e963881d5c0e'), sequence=-1), seller_id=MemberID(uuid=UUID('2bac0d9e-a48c-4d2a-a354-129768b2354e'), sequence=-1), name='숟가락', img_path='/path/to/image5.jpg', price=2094, description='이 숟가락은 튼튼하고 편안한 그립감으로 여러분의 식사를 더욱 편리하게 만들어줍니다. 식기 세트에 꼭 필요한 아이템입니다!', register_day=datetime.datetime(2024, 5, 25, 8, 40, 3)), Product(id=ProductID(uuid=UUID('59e8d7ce-c5c0-4225-bae9-94574d4ae5cc'), sequence=-1), seller_id=MemberID(uuid=UUID('2bac0d9e-a48c-4d2a-a354-129768b2354e'), sequence=-1), name='전기포트', img_path='/path/to/image3.jpg', price=5483, description='강력한 가열 성능과 스타일리시한 디자인으로 이 전기포트는 여러분의 생활을 편리하게 해줍니다. 물을 끓이는 것을 더 즐겁게 만들어줍니다!', register_day=datetime.datetime(2024, 4, 23, 8, 40, 3)), Product(id=ProductID(uuid=UUID('4dedd812-f00a-4bec-85f6-f855988a1a1d'), sequence=-1), seller_id=MemberID(uuid=UUID('95156d4c-13b6-440a-bd56-7fcae5a94259'), sequence=-1), name='밥공기', img_path='/path/to/image8.jpg', price=6028, description='이 밥공기는 내용물을 따뜻하게 보관해줍니다. 더 나은 식사 경험을 위해 바로 사용하세요!', register_day=datetime.datetime(2024, 4, 16, 8, 40, 3)), Product(id=ProductID(uuid=UUID('64841715-dd0b-4821-8032-d14b43ccafce'), sequence=-1), seller_id=MemberID(uuid=UUID('2bac0d9e-a48c-4d2a-a354-129768b2354e'), sequence=-1), name='식기건조대', img_path='/path/to/image4.jpg', price=9217, description='이 식기건조대는 깨끗하고 정리된 주방을 만들어줍니다. 효율적인 공간 활용과 환기 시스템으로 식기를 완벽하게 건조시켜줍니다!', register_day=datetime.datetime(2024, 4, 3, 8, 40, 3)), Product(id=ProductID(uuid=UUID('6691cea6-0d09-4f31-bc93-7603bf75ef91'), sequence=-1), seller_id=MemberID(uuid=UUID('2bac0d9e-a48c-4d2a-a354-129768b2354e'), sequence=-1), name='식기세트', img_path='/path/to/image2.jpg', price=3567, description='이 식기세트로 특별한 식사를 즐겨보세요. 심플하고 우아한 디자인으로 가정의 테이블을 더 아름답게 만들어줍니다.', register_day=datetime.datetime(2024, 3, 23, 8, 40, 3)), Product(id=ProductID(uuid=UUID('5c73773e-c973-4e05-9c07-d2b0dc6467c8'), sequence=-1), seller_id=MemberID(uuid=UUID('2bac0d9e-a48c-4d2a-a354-129768b2354e'), sequence=-1), name='전기밥솥', img_path='/path/to/image1.jpg', price=8768, description='이 밥솥은 효율적이고 간편한 밥을 만들어냅니다. 최고의 맛과 건강을 위해 지금 주문하세요!', register_day=datetime.datetime(2024, 2, 20, 8, 40, 3)), Product(id=ProductID(uuid=UUID('21b0d3a1-5b90-413d-8bb6-f1ec4cfdfde7'), sequence=-1), seller_id=MemberID(uuid=UUID('95156d4c-13b6-440a-bd56-7fcae5a94259'), sequence=-1), name='식탁', img_path='/path/to/image7.jpg', price=6054, description='이 식탁은 가정의 모임을 더욱 특별하게 만들어줍니다. 품질과 편안함을 동시에 제공하는 최고의 선택입니다!', register_day=datetime.datetime(2024, 1, 31, 8, 40, 3))]))"
      ]
     },
     "execution_count": 5,
     "metadata": {},
     "output_type": "execute_result"
    }
   ],
   "source": [
    "get.get_products_by_create_date()"
   ]
  },
  {
   "cell_type": "code",
   "execution_count": 4,
   "metadata": {},
   "outputs": [
    {
     "data": {
      "text/plain": [
       "Ok((7, [Product(id=ProductID(uuid=UUID('74aba1d7-e997-43db-bde7-1dc5cd06daf2'), sequence=-1), seller_id=MemberID(uuid=UUID('95156d4c-13b6-440a-bd56-7fcae5a94259'), sequence=-1), name='오븐', img_path='/path/to/image10.jpg', price=9531, description='이 오븐은 효율적이고 안전한 방식으로 음식을 구워줍니다.', register_day=datetime.datetime(2024, 8, 23, 8, 40, 3)), Product(id=ProductID(uuid=UUID('730d3c07-9e5e-42c3-a0b8-ffc1d5217af7'), sequence=-1), seller_id=MemberID(uuid=UUID('95156d4c-13b6-440a-bd56-7fcae5a94259'), sequence=-1), name='전자렌지', img_path='/path/to/image9.jpg', price=5738, description='이 전자렌지는 간편하고 빠른 조리를 가능하게 합니다. 다양한 요리를 즐기기 위해 지금 바로 사용하세요!', register_day=datetime.datetime(2024, 7, 3, 8, 40, 3)), Product(id=ProductID(uuid=UUID('12d8c129-2afb-4e79-92a9-5b4cc10ac5cd'), sequence=-1), seller_id=MemberID(uuid=UUID('95156d4c-13b6-440a-bd56-7fcae5a94259'), sequence=-1), name='포크', img_path='/path/to/image10.jpg', price=9531, description='이 포크는 사용성이 아주 좋습니다.', register_day=datetime.datetime(2024, 6, 8, 8, 40, 3)), Product(id=ProductID(uuid=UUID('4dedd812-f00a-4bec-85f6-f855988a1a1d'), sequence=-1), seller_id=MemberID(uuid=UUID('95156d4c-13b6-440a-bd56-7fcae5a94259'), sequence=-1), name='밥공기', img_path='/path/to/image8.jpg', price=6028, description='이 밥공기는 내용물을 따뜻하게 보관해줍니다. 더 나은 식사 경험을 위해 바로 사용하세요!', register_day=datetime.datetime(2024, 4, 16, 8, 40, 3)), Product(id=ProductID(uuid=UUID('21b0d3a1-5b90-413d-8bb6-f1ec4cfdfde7'), sequence=-1), seller_id=MemberID(uuid=UUID('95156d4c-13b6-440a-bd56-7fcae5a94259'), sequence=-1), name='식탁', img_path='/path/to/image7.jpg', price=6054, description='이 식탁은 가정의 모임을 더욱 특별하게 만들어줍니다. 품질과 편안함을 동시에 제공하는 최고의 선택입니다!', register_day=datetime.datetime(2024, 1, 31, 8, 40, 3)), Product(id=ProductID(uuid=UUID('123f2f0a-bc0d-45ef-8f6c-f678925070f0'), sequence=-1), seller_id=MemberID(uuid=UUID('95156d4c-13b6-440a-bd56-7fcae5a94259'), sequence=-1), name='컵', img_path='/path/to/image6.jpg', price=3121, description='이 컵은 환경을 생각한 친환경적인 디자인으로 제작되었습니다. 건강하고 안전한 식습관을 위해 지금 사용하세요!', register_day=datetime.datetime(2024, 1, 23, 8, 40, 3)), Product(id=ProductID(uuid=UUID('aab39651-47f2-4e0a-8d41-1772411fc97d'), sequence=-1), seller_id=MemberID(uuid=UUID('95156d4c-13b6-440a-bd56-7fcae5a94259'), sequence=-1), name='식기건조기', img_path='/path/to/image10.jpg', price=9531, description='이 식기건조기는 효율적이고 안전한 방식으로 식기를 건조시켜줍니다. 깨끗하고 청결한 주방을 위해 선택하세요!', register_day=datetime.datetime(2024, 1, 1, 8, 40, 3))]))"
      ]
     },
     "execution_count": 4,
     "metadata": {},
     "output_type": "execute_result"
    }
   ],
   "source": [
    "get.get_products_by_seller_id(MemberIDBuilder().set_uuid(\"95156d4c13b6440abd567fcae5a94259\").build())"
   ]
  }
 ],
 "metadata": {
  "kernelspec": {
   "display_name": "Python 3",
   "language": "python",
   "name": "python3"
  },
  "language_info": {
   "codemirror_mode": {
    "name": "ipython",
    "version": 3
   },
   "file_extension": ".py",
   "mimetype": "text/x-python",
   "name": "python",
   "nbconvert_exporter": "python",
   "pygments_lexer": "ipython3",
   "version": "3.12.0"
  }
 },
 "nbformat": 4,
 "nbformat_minor": 2
}
