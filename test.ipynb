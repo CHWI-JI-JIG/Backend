{
 "cells": [
  {
   "cell_type": "code",
   "execution_count": 4,
   "metadata": {},
   "outputs": [],
   "source": [
    "import __init__\n",
    "from get_config_data import get_db_padding\n",
    "from Storages.Members import MySqlSaveMember,LoginVerifiableAuthentication\n",
    "from Migrations import MySqlCreateUser\n",
    "from Builders.Members import *\n",
    "from Domains.Members import *\n",
    "from result import Result,Ok,Err\n",
    "\n",
    "from icecream import ic"
   ]
  },
  {
   "cell_type": "code",
   "execution_count": 3,
   "metadata": {},
   "outputs": [
    {
     "name": "stdout",
     "output_type": "stream",
     "text": [
      "Requirement already satisfied: icecream in c:\\users\\user\\appdata\\local\\programs\\python\\python312\\lib\\site-packages (2.1.3)\n",
      "Requirement already satisfied: colorama>=0.3.9 in c:\\users\\user\\appdata\\local\\programs\\python\\python312\\lib\\site-packages (from icecream) (0.4.6)\n",
      "Requirement already satisfied: pygments>=2.2.0 in c:\\users\\user\\appdata\\local\\programs\\python\\python312\\lib\\site-packages (from icecream) (2.17.2)\n",
      "Requirement already satisfied: executing>=0.3.1 in c:\\users\\user\\appdata\\local\\programs\\python\\python312\\lib\\site-packages (from icecream) (2.0.1)\n",
      "Requirement already satisfied: asttokens>=2.0.1 in c:\\users\\user\\appdata\\local\\programs\\python\\python312\\lib\\site-packages (from icecream) (2.4.1)\n",
      "Requirement already satisfied: six>=1.12.0 in c:\\users\\user\\appdata\\local\\programs\\python\\python312\\lib\\site-packages (from asttokens>=2.0.1->icecream) (1.16.0)\n",
      "Note: you may need to restart the kernel to use updated packages.\n"
     ]
    }
   ],
   "source": [
    "pip install icecream\n"
   ]
  },
  {
   "cell_type": "code",
   "execution_count": null,
   "metadata": {},
   "outputs": [],
   "source": [
    "sql=MySqlCreateUser(get_db_padding())\n"
   ]
  },
  {
   "cell_type": "code",
   "execution_count": null,
   "metadata": {},
   "outputs": [],
   "source": [
    "sql.create_user()"
   ]
  },
  {
   "cell_type": "code",
   "execution_count": null,
   "metadata": {},
   "outputs": [],
   "source": [
    "id = (MemberIDBuilder().set_uuid().set_seqence(1).build())\n",
    "\n",
    "\n",
    "member = Member(\n",
    "    id=id,\n",
    "    account=\"jihee\",\n",
    "    passwd=\"jh1234@\",\n",
    "    role=RoleType.BUYER\n",
    ")\n",
    "\n",
    "privacy = Privacy(\n",
    "    id=id,\n",
    "    name=\"김지희\",\n",
    "    phone=\"01012345678\",\n",
    "    email=\"jihee@test.com\",\n",
    "    address=\"서울시 여러분\"\n",
    ")"
   ]
  },
  {
   "cell_type": "markdown",
   "metadata": {},
   "source": []
  },
  {
   "cell_type": "code",
   "execution_count": null,
   "metadata": {},
   "outputs": [],
   "source": [
    "create=MySqlSaveMember(get_db_padding())\n",
    "create.save_member(member, privacy)"
   ]
  },
  {
   "cell_type": "code",
   "execution_count": null,
   "metadata": {},
   "outputs": [],
   "source": [
    "sql.check_exist_user()"
   ]
  },
  {
   "cell_type": "code",
   "execution_count": null,
   "metadata": {},
   "outputs": [],
   "source": [
    "sql.delete_user()"
   ]
  },
  {
   "cell_type": "code",
   "execution_count": null,
   "metadata": {},
   "outputs": [],
   "source": [
    "va=LoginVerifiableAuthentication(get_db_padding())\n",
    "va.identify_and_authenticate('jihee','jh1234@')\n",
    "match va.identify_and_authenticate('jihee','jh1234@--'):\n",
    "    case Ok(auth) :\n",
    "        print(auth)\n",
    "    case Err(e):\n",
    "        print(e)"
   ]
  },
  {
   "cell_type": "code",
   "execution_count": null,
   "metadata": {},
   "outputs": [],
   "source": [
    "va=LoginVerifiableAuthentication(get_db_padding())\n",
    "match va.identify_and_authenticate('jihee','jh1234@--'):\n",
    "    case Ok(auth) :\n",
    "        print(auth)\n",
    "    case Err(e):\n",
    "        print(e)"
   ]
  },
  {
   "cell_type": "code",
   "execution_count": null,
   "metadata": {},
   "outputs": [],
   "source": [
    "from Applications.Members import CreateMemberService\n",
    "from Storages.Members import MySqlSaveMember"
   ]
  },
  {
   "cell_type": "code",
   "execution_count": null,
   "metadata": {},
   "outputs": [],
   "source": [
    "service = CreateMemberService(MySqlSaveMember(get_db_padding()))"
   ]
  },
  {
   "cell_type": "code",
   "execution_count": null,
   "metadata": {},
   "outputs": [],
   "source": [
    "service = CreateMemberService(MySqlSaveMember(get_db_padding()))\n",
    "service.create(\n",
    "    account=\"hohorst\",\n",
    "    passwd=\"456\",\n",
    "    role=\"seller\",\n",
    "    name=\"Lee hohun\",\n",
    "    phone=\"010566788874\",\n",
    "    email=\"vacst@naver.com\",\n",
    "    address=\"서울시 광진구\",\n",
    "    company_registration_number=\"115557936219463\",\n",
    "    pay_account=\"6795943585566187\",\n",
    ")"
   ]
  },
  {
   "cell_type": "code",
   "execution_count": null,
   "metadata": {},
   "outputs": [],
   "source": [
    "service.create(\n",
    "    account=\"abrst\",\n",
    "    passwd=\"123\",\n",
    "    role=\"buyer\",\n",
    "    name=\"Lee Takgun\",\n",
    "    phone=\"01036574774\",\n",
    "    email=\"vacst@naver.com\",\n",
    "    address=\"서울시 구로구\",\n",
    ")"
   ]
  },
  {
   "cell_type": "code",
   "execution_count": null,
   "metadata": {},
   "outputs": [],
   "source": [
    "service.create(\n",
    "        account=\"vbvb\",\n",
    "        passwd=\"12\",\n",
    "        role=\"seller\",\n",
    "        name=\"김지희\",\n",
    "        phone=\"01079143121\",\n",
    "        email=\"jihihi@daum.com\",\n",
    "        address=\"서울시 중량구\",\n",
    "        company_registration_number=\"432157136219462\",\n",
    "        pay_account=\"7952944925564628\",\n",
    "    )"
   ]
  },
  {
   "cell_type": "code",
   "execution_count": null,
   "metadata": {},
   "outputs": [],
   "source": [
    "service.create(\n",
    "        account=\"zxcv\",\n",
    "        passwd=\"1qq1\",\n",
    "        role=\"buyer\",\n",
    "        name=\"장예서\",\n",
    "        phone=\"01067541234\",\n",
    "        email=\"bstax@daum.com\",\n",
    "        address=\"전라북도 익산\",\n",
    "    )"
   ]
  },
  {
   "cell_type": "code",
   "execution_count": null,
   "metadata": {},
   "outputs": [],
   "source": [
    "up=LoginVerifiableAuthentication(get_db_padding())\n",
    "match up.identify_and_authenticate('jihee','jh1234@--'):\n",
    "    case Ok(auth) :\n",
    "        ic(auth)\n",
    "        ic(str(auth.id))\n",
    "        ic(auth.id.get_id())\n",
    "        ic(up.update_access(auth))\n",
    "    case Err(e):\n",
    "        ic(e)"
   ]
  },
  {
   "cell_type": "code",
   "execution_count": null,
   "metadata": {},
   "outputs": [],
   "source": [
    "up=LoginVerifiableAuthentication(get_db_padding())\n",
    "match up.identify_and_authenticate('jihee','jh1234@'):\n",
    "    case Ok(auth) :\n",
    "        ic(auth)\n",
    "        ic(str(auth.id))\n",
    "        ic(auth.id.get_id())\n",
    "        ic(up.update_access(auth))\n",
    "    case Err(e):\n",
    "        ic(e)"
   ]
  },
  {
   "cell_type": "code",
   "execution_count": null,
   "metadata": {},
   "outputs": [],
   "source": [
    "from Builders.Members import *\n",
    "from Storages.Members import MySqlSaveMember,LoginVerifiableAuthentication\n",
    "from Domains.Members import *\n",
    "\n",
    "from Migrations import MySqlCreateUser, MySqlCreateProduct\n",
    "from Applications.Members import CreateMemberService\n",
    "from result import Result,Ok, Err\n",
    "\n",
    "from icecream import ic\n",
    "test_padding = \"test_member_service_\"\n",
    "user_migrate = MySqlCreateUser(test_padding)\n",
    "mysql_save_member = MySqlSaveMember(test_padding)\n",
    "create_service = CreateMemberService(mysql_save_member)\n",
    "l_repo=LoginVerifiableAuthentication(test_padding)\n",
    "user_migrate.create_user()\n",
    "uid = create_service.create(\n",
    "            account=\"seller1\",\n",
    "            passwd=\"123456\",\n",
    "            role=\"seller\",\n",
    "            name=\"김쟌느\",\n",
    "            phone=\"01012349876\",\n",
    "            email=\"seller@naver.com\",\n",
    "            address=\"서울시 동작구\",\n",
    "            company_registration_number=\"1466215462\",\n",
    "            pay_account=\"11255023855646523\",\n",
    "        )\n"
   ]
  },
  {
   "cell_type": "code",
   "execution_count": null,
   "metadata": {},
   "outputs": [],
   "source": [
    "ic(uid)"
   ]
  },
  {
   "cell_type": "code",
   "execution_count": null,
   "metadata": {},
   "outputs": [],
   "source": [
    "login_result = l_repo.identify_and_authenticate('seller1','123456')"
   ]
  },
  {
   "cell_type": "code",
   "execution_count": null,
   "metadata": {},
   "outputs": [],
   "source": [
    "ic(login_result)"
   ]
  },
  {
   "cell_type": "code",
   "execution_count": null,
   "metadata": {},
   "outputs": [],
   "source": [
    "if user_migrate.check_exist_user():\n",
    "    user_migrate.delete_user()"
   ]
  },
  {
   "cell_type": "code",
   "execution_count": 3,
   "metadata": {},
   "outputs": [
    {
     "ename": "NameError",
     "evalue": "name 'ic' is not defined",
     "output_type": "error",
     "traceback": [
      "\u001b[1;31m---------------------------------------------------------------------------\u001b[0m",
      "\u001b[1;31mNameError\u001b[0m                                 Traceback (most recent call last)",
      "Cell \u001b[1;32mIn[3], line 9\u001b[0m\n\u001b[0;32m      6\u001b[0m \u001b[38;5;28;01mfrom\u001b[39;00m \u001b[38;5;21;01mStorages\u001b[39;00m\u001b[38;5;21;01m.\u001b[39;00m\u001b[38;5;21;01mSessions\u001b[39;00m \u001b[38;5;28;01mimport\u001b[39;00m \u001b[38;5;241m*\u001b[39m\n\u001b[0;32m      8\u001b[0m p \u001b[38;5;241m=\u001b[39m MySqlSaveProduct()\n\u001b[1;32m----> 9\u001b[0m \u001b[43mic\u001b[49m(p)\n\u001b[0;32m     10\u001b[0m \u001b[38;5;28missubclass\u001b[39m(\u001b[38;5;28mtype\u001b[39m(p), ISaveableProduct)\n",
      "\u001b[1;31mNameError\u001b[0m: name 'ic' is not defined"
     ]
    }
   ],
   "source": [
    "from Repositories.Members import *\n",
    "from Repositories.Products import *\n",
    "from Repositories.Sessions import *\n",
    "from Storages.Members import *\n",
    "from Storages.Products import *\n",
    "from Storages.Sessions import *\n",
    "\n",
    "p = MySqlSaveProduct()\n",
    "issubclass(type(p), ISaveableProduct)"
   ]
  }
 ],
 "metadata": {
  "kernelspec": {
   "display_name": "Python 3",
   "language": "python",
   "name": "python3"
  },
  "language_info": {
   "codemirror_mode": {
    "name": "ipython",
    "version": 3
   },
   "file_extension": ".py",
   "mimetype": "text/x-python",
   "name": "python",
   "nbconvert_exporter": "python",
   "pygments_lexer": "ipython3",
   "version": "3.12.1"
  }
 },
 "nbformat": 4,
 "nbformat_minor": 2
}
