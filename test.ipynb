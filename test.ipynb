{
 "cells": [
  {
   "cell_type": "code",
   "execution_count": 1,
   "metadata": {},
   "outputs": [],
   "source": [
    "import __init__\n",
    "from get_config_data import get_db_padding\n",
    "from Storages.Members import MySqlSaveMember,LoginVerifiableAuthentication\n",
    "from Migrations import MySqlCreateUser\n",
    "from Builders.Members import *\n",
    "from Domains.Members import *\n",
    "from result import Result,Ok,Err\n",
    "\n",
    "from icecream import ic"
   ]
  },
  {
   "cell_type": "code",
   "execution_count": 2,
   "metadata": {},
   "outputs": [],
   "source": [
    "sql=MySqlCreateUser(get_db_padding())\n"
   ]
  },
  {
   "cell_type": "code",
   "execution_count": 3,
   "metadata": {},
   "outputs": [],
   "source": [
    "sql.create_user()"
   ]
  },
  {
   "cell_type": "code",
   "execution_count": 4,
   "metadata": {},
   "outputs": [],
   "source": [
    "id = (MemberIDBuilder().set_uuid4().set_seqence(1).build())\n",
    "\n",
    "\n",
    "member = Member(\n",
    "    id=id,\n",
    "    account=\"jihee\",\n",
    "    passwd=\"jh1234@\",\n",
    "    role=RoleType.BUYER\n",
    ")\n",
    "\n",
    "privacy = Privacy(\n",
    "    id=id,\n",
    "    name=\"김지희\",\n",
    "    phone=\"01012345678\",\n",
    "    email=\"jihee@test.com\",\n",
    "    address=\"서울시 여러분\"\n",
    ")"
   ]
  },
  {
   "cell_type": "code",
   "execution_count": 5,
   "metadata": {},
   "outputs": [
    {
     "data": {
      "text/plain": [
       "Ok(UUID('cc6cafe2-a8c6-406e-8a98-cccf61aa4a4f'))"
      ]
     },
     "execution_count": 5,
     "metadata": {},
     "output_type": "execute_result"
    }
   ],
   "source": [
    "create=MySqlSaveMember(get_db_padding())\n",
    "create.save_member(member, privacy)"
   ]
  },
  {
   "cell_type": "code",
   "execution_count": 4,
   "metadata": {},
   "outputs": [
    {
     "data": {
      "text/plain": [
       "True"
      ]
     },
     "execution_count": 4,
     "metadata": {},
     "output_type": "execute_result"
    }
   ],
   "source": [
    "sql.check_exist_user()"
   ]
  },
  {
   "cell_type": "code",
   "execution_count": 3,
   "metadata": {},
   "outputs": [],
   "source": [
    "sql.delete_user()"
   ]
  },
  {
   "cell_type": "code",
   "execution_count": 7,
   "metadata": {},
   "outputs": [
    {
     "name": "stderr",
     "output_type": "stream",
     "text": [
      "ic| LoginVerifiableAuthentication.py:42 in identify_and_authenticate() at 17:08:26.989\n",
      "ic| account: 'jihee', passwd: 'jh1234@'\n",
      "ic| result: (3,\n",
      "             'cc6cafe2a8c6406e8a98cccf61aa4a4f',\n",
      "             'jh1234@',\n",
      "             datetime.datetime(2024, 2, 24, 17, 8, 21),\n",
      "             0)\n",
      "ic| b.build(): Authentication(id=MemberID(uuid=UUID('cc6cafe2-a8c6-406e-8a98-cccf61aa4a4f'),\n",
      "                                          sequence=1),\n",
      "                              last_access=datetime.datetime(2024, 2, 24, 17, 8, 21),\n",
      "                              fail_count=0,\n",
      "                              is_sucess=True)\n",
      "ic| LoginVerifiableAuthentication.py:42 in identify_and_authenticate() at 17:08:27.137\n",
      "ic| account: 'jihee', passwd: 'jh1234@--'\n",
      "ic| result: (3,\n",
      "             'cc6cafe2a8c6406e8a98cccf61aa4a4f',\n",
      "             'jh1234@',\n",
      "             datetime.datetime(2024, 2, 24, 17, 8, 21),\n",
      "             0)\n"
     ]
    },
    {
     "name": "stdout",
     "output_type": "stream",
     "text": [
      "Authentication(id=MemberID(uuid=UUID('cc6cafe2-a8c6-406e-8a98-cccf61aa4a4f'), sequence=1), last_access=datetime.datetime(2024, 2, 24, 17, 8, 21), fail_count=0, is_sucess=False)\n"
     ]
    }
   ],
   "source": [
    "va=LoginVerifiableAuthentication(get_db_padding())\n",
    "va.identify_and_authenticate('jihee','jh1234@')\n",
    "match va.identify_and_authenticate('jihee','jh1234@--'):\n",
    "    case Ok(auth) :\n",
    "        print(auth)\n",
    "    case Err(e):\n",
    "        print(e)"
   ]
  },
  {
   "cell_type": "code",
   "execution_count": 9,
   "metadata": {},
   "outputs": [
    {
     "name": "stderr",
     "output_type": "stream",
     "text": [
      "ic| LoginVerifiableAuthentication.py:42 in identify_and_authenticate() at 17:12:14.059\n",
      "ic| account: 'jihee', passwd: 'jh1234@--'\n",
      "ic| result: (3,\n",
      "             'cc6cafe2a8c6406e8a98cccf61aa4a4f',\n",
      "             'jh1234@',\n",
      "             datetime.datetime(2024, 2, 24, 17, 8, 21),\n",
      "             0)\n"
     ]
    },
    {
     "name": "stdout",
     "output_type": "stream",
     "text": [
      "Authentication(id=MemberID(uuid=UUID('cc6cafe2-a8c6-406e-8a98-cccf61aa4a4f'), sequence=1), last_access=datetime.datetime(2024, 2, 24, 17, 8, 21), fail_count=0, is_sucess=False)\n"
     ]
    }
   ],
   "source": [
    "va=LoginVerifiableAuthentication(get_db_padding())\n",
    "match va.identify_and_authenticate('jihee','jh1234@--'):\n",
    "    case Ok(auth) :\n",
    "        print(auth)\n",
    "    case Err(e):\n",
    "        print(e)"
   ]
  },
  {
   "cell_type": "code",
   "execution_count": 10,
   "metadata": {},
   "outputs": [],
   "source": [
    "from Applications.Members import CreateMemberService\n",
    "from Storages.Members import MySqlSaveMember"
   ]
  },
  {
   "cell_type": "code",
   "execution_count": 11,
   "metadata": {},
   "outputs": [
    {
     "data": {
      "text/plain": [
       "Ok(None)"
      ]
     },
     "execution_count": 11,
     "metadata": {},
     "output_type": "execute_result"
    }
   ],
   "source": [
    "service = CreateMemberService(MySqlSaveMember(get_db_padding()))\n",
    "service.create(\n",
    "    account=\"hohorst\",\n",
    "    passwd=\"456\",\n",
    "    role=\"seller\",\n",
    "    name=\"Lee hohun\",\n",
    "    phone=\"010566788874\",\n",
    "    email=\"vacst@naver.com\",\n",
    "    address=\"서울시 광진구\",\n",
    "    company_registration_number=\"115557936219463\",\n",
    "    pay_account=\"6795943585566187\",\n",
    ")"
   ]
  },
  {
   "cell_type": "code",
   "execution_count": 12,
   "metadata": {},
   "outputs": [
    {
     "data": {
      "text/plain": [
       "Ok(None)"
      ]
     },
     "execution_count": 12,
     "metadata": {},
     "output_type": "execute_result"
    }
   ],
   "source": [
    "service.create(\n",
    "    account=\"abrst\",\n",
    "    passwd=\"123\",\n",
    "    role=\"buyer\",\n",
    "    name=\"Lee Takgun\",\n",
    "    phone=\"01036574774\",\n",
    "    email=\"vacst@naver.com\",\n",
    "    address=\"서울시 구로구\",\n",
    ")"
   ]
  },
  {
   "cell_type": "code",
   "execution_count": 10,
   "metadata": {},
   "outputs": [
    {
     "name": "stderr",
     "output_type": "stream",
     "text": [
      "ic| LoginVerifiableAuthentication.py:42 in identify_and_authenticate() at 17:23:04.058\n",
      "ic| account: 'jihee', passwd: 'jh1234@--'\n",
      "ic| result: (3,\n",
      "             'cc6cafe2a8c6406e8a98cccf61aa4a4f',\n",
      "             'jh1234@',\n",
      "             datetime.datetime(2024, 2, 24, 17, 8, 21),\n",
      "             0)\n",
      "ic| auth: Authentication(id=MemberID(uuid=UUID('cc6cafe2-a8c6-406e-8a98-cccf61aa4a4f'),\n",
      "                                     sequence=1),\n",
      "                         last_access=datetime.datetime(2024, 2, 24, 17, 8, 21),\n",
      "                         fail_count=0,\n",
      "                         is_sucess=False)\n",
      "ic| str(auth.id): \"MemberID(uuid=UUID('cc6cafe2-a8c6-406e-8a98-cccf61aa4a4f'), sequence=1)\"\n",
      "ic| auth.id.get_id(): 'cc6cafe2a8c6406e8a98cccf61aa4a4f'\n",
      "ic| up.update_access(auth): Ok(None)\n"
     ]
    }
   ],
   "source": [
    "up=LoginVerifiableAuthentication(get_db_padding())\n",
    "match up.identify_and_authenticate('jihee','jh1234@--'):\n",
    "    case Ok(auth) :\n",
    "        ic(auth)\n",
    "        ic(str(auth.id))\n",
    "        ic(auth.id.get_id())\n",
    "        ic(up.update_access(auth))\n",
    "    case Err(e):\n",
    "        ic(e)"
   ]
  },
  {
   "cell_type": "code",
   "execution_count": 11,
   "metadata": {},
   "outputs": [
    {
     "name": "stderr",
     "output_type": "stream",
     "text": [
      "ic| LoginVerifiableAuthentication.py:42 in identify_and_authenticate() at 17:23:54.650\n",
      "ic| account: 'jihee', passwd: 'jh1234@'\n",
      "ic| result: (3,\n",
      "             'cc6cafe2a8c6406e8a98cccf61aa4a4f',\n",
      "             'jh1234@',\n",
      "             datetime.datetime(2024, 2, 24, 17, 23, 4),\n",
      "             1)\n",
      "ic| b.build(): Authentication(id=MemberID(uuid=UUID('cc6cafe2-a8c6-406e-8a98-cccf61aa4a4f'),\n",
      "                                          sequence=1),\n",
      "                              last_access=datetime.datetime(2024, 2, 24, 17, 23, 4),\n",
      "                              fail_count=1,\n",
      "                              is_sucess=True)\n",
      "ic| auth: Authentication(id=MemberID(uuid=UUID('cc6cafe2-a8c6-406e-8a98-cccf61aa4a4f'),\n",
      "                                     sequence=1),\n",
      "                         last_access=datetime.datetime(2024, 2, 24, 17, 23, 4),\n",
      "                         fail_count=1,\n",
      "                         is_sucess=True)\n",
      "ic| str(auth.id): \"MemberID(uuid=UUID('cc6cafe2-a8c6-406e-8a98-cccf61aa4a4f'), sequence=1)\"\n",
      "ic| auth.id.get_id(): 'cc6cafe2a8c6406e8a98cccf61aa4a4f'\n",
      "ic| up.update_access(auth): Ok(None)\n"
     ]
    }
   ],
   "source": [
    "up=LoginVerifiableAuthentication(get_db_padding())\n",
    "match up.identify_and_authenticate('jihee','jh1234@'):\n",
    "    case Ok(auth) :\n",
    "        ic(auth)\n",
    "        ic(str(auth.id))\n",
    "        ic(auth.id.get_id())\n",
    "        ic(up.update_access(auth))\n",
    "    case Err(e):\n",
    "        ic(e)"
   ]
  },
  {
   "cell_type": "code",
   "execution_count": 1,
   "metadata": {},
   "outputs": [],
   "source": [
    "from Builders.Members import *\n",
    "from Storages.Members import MySqlSaveMember,LoginVerifiableAuthentication\n",
    "from Domains.Members import *\n",
    "\n",
    "from Migrations import MySqlCreateUser, MySqlCreateProduct\n",
    "from Applications.Members import CreateMemberService\n",
    "from result import Result,Ok, Err\n",
    "\n",
    "from icecream import ic\n",
    "test_padding = \"test_member_service_\"\n",
    "user_migrate = MySqlCreateUser(test_padding)\n",
    "mysql_save_member = MySqlSaveMember(test_padding)\n",
    "create_service = CreateMemberService(mysql_save_member)\n",
    "l_repo=LoginVerifiableAuthentication(test_padding)\n",
    "user_migrate.create_user()\n",
    "uid = create_service.create(\n",
    "            account=\"seller1\",\n",
    "            passwd=\"123456\",\n",
    "            role=\"seller\",\n",
    "            name=\"김쟌느\",\n",
    "            phone=\"01012349876\",\n",
    "            email=\"seller@naver.com\",\n",
    "            address=\"서울시 동작구\",\n",
    "            company_registration_number=\"1466215462\",\n",
    "            pay_account=\"11255023855646523\",\n",
    "        )\n"
   ]
  },
  {
   "cell_type": "code",
   "execution_count": null,
   "metadata": {},
   "outputs": [],
   "source": [
    "ic(uid)"
   ]
  },
  {
   "cell_type": "code",
   "execution_count": null,
   "metadata": {},
   "outputs": [],
   "source": [
    "login_result = l_repo.identify_and_authenticate('seller1','123456')"
   ]
  },
  {
   "cell_type": "code",
   "execution_count": null,
   "metadata": {},
   "outputs": [],
   "source": [
    "ic(login_result)"
   ]
  },
  {
   "cell_type": "code",
   "execution_count": null,
   "metadata": {},
   "outputs": [],
   "source": [
    "if user_migrate.check_exist_user():\n",
    "    user_migrate.delete_user()"
   ]
  }
 ],
 "metadata": {
  "kernelspec": {
   "display_name": "Python 3",
   "language": "python",
   "name": "python3"
  },
  "language_info": {
   "codemirror_mode": {
    "name": "ipython",
    "version": 3
   },
   "file_extension": ".py",
   "mimetype": "text/x-python",
   "name": "python",
   "nbconvert_exporter": "python",
   "pygments_lexer": "ipython3",
   "version": "3.12.0"
  }
 },
 "nbformat": 4,
 "nbformat_minor": 2
}
