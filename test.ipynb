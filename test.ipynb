{
 "cells": [
  {
   "cell_type": "code",
   "execution_count": 14,
   "metadata": {},
   "outputs": [],
   "source": [
    "from Storages.Members import MySqlSaveMember\n",
    "from Migrations import MySqlCreateUser\n",
    "from Builders.Members import *\n",
    "from Domains.Members import *"
   ]
  },
  {
   "cell_type": "code",
   "execution_count": 15,
   "metadata": {},
   "outputs": [
    {
     "name": "stdout",
     "output_type": "stream",
     "text": [
      "\n",
      "CREATE TABLE IF NOT EXISTS log_user (\n",
      "    seq INT AUTO_INCREMENT PRIMARY KEY,\n",
      "    id VARCHAR(255) UNIQUE,\n",
      "    account VARCHAR(255) NOT NULL,\n",
      "    pay_account VARCHAR(255) NOT NULL,\n",
      "    passwd VARCHAR(255) NOT NULL,\n",
      "    email VARCHAR(255) NOT NULL,\n",
      "    role VARCHAR(255) NOT NULL,\n",
      "    company_registration_number VARCHAR(255),\n",
      "    phone VARCHAR(255) NOT NULL,\n",
      "    address VARCHAR(255) NOT NULL,\n",
      "    name VARCHAR(255) NOT NULL,\n",
      "    last_access DATETIME,\n",
      "    fail_count INT\n",
      ");\n",
      "                \n"
     ]
    }
   ],
   "source": [
    "sql=MySqlCreateUser()\n",
    "sql.create_user()"
   ]
  },
  {
   "cell_type": "code",
   "execution_count": 16,
   "metadata": {},
   "outputs": [],
   "source": [
    "id = (MemberIDBuilder().set_uuid4().set_seqence(1).build())\n",
    "member = Member(\n",
    "    id=id,\n",
    "    account=\"jihee\",\n",
    "    passwd=\"jh1234@\",\n",
    "    role=RoleType.SELLER\n",
    ")\n",
    "privacy = Privacy(\n",
    "    id=id,\n",
    "    name=\"김지희\",\n",
    "    phone=\"01012345678\",\n",
    "    email=\"jihee@test.com\",\n",
    "    address=\"서울시 여러분\",\n",
    "    pay_account = \"123-1234-4567\",\n",
    "    company_registration_number = \"123-45-12345\"\n",
    ")\n",
    "authentication = Authentication(\n",
    "    id=id,\n",
    "    last_access = \"2024-02-22 10:30:00\",\n",
    "    fail_count = 1,\n",
    "    is_sucess=\"\"\n",
    ")"
   ]
  },
  {
   "cell_type": "code",
   "execution_count": 17,
   "metadata": {},
   "outputs": [
    {
     "data": {
      "text/plain": [
       "Ok(None)"
      ]
     },
     "execution_count": 17,
     "metadata": {},
     "output_type": "execute_result"
    }
   ],
   "source": [
    "create=MySqlSaveMember()\n",
    "create.save_member(member, privacy, authentication)"
   ]
  },
  {
   "cell_type": "code",
   "execution_count": 18,
   "metadata": {},
   "outputs": [
    {
     "data": {
      "text/plain": [
       "True"
      ]
     },
     "execution_count": 18,
     "metadata": {},
     "output_type": "execute_result"
    }
   ],
   "source": [
    "sql.check_exist_user()"
   ]
  },
  {
   "cell_type": "code",
   "execution_count": 33,
   "metadata": {},
   "outputs": [],
   "source": [
    "sql.delete_user()"
   ]
  }
 ],
 "metadata": {
  "kernelspec": {
   "display_name": "Python 3",
   "language": "python",
   "name": "python3"
  },
  "language_info": {
   "codemirror_mode": {
    "name": "ipython",
    "version": 3
   },
   "file_extension": ".py",
   "mimetype": "text/x-python",
   "name": "python",
   "nbconvert_exporter": "python",
   "pygments_lexer": "ipython3",
   "version": "3.12.0"
  }
 },
 "nbformat": 4,
 "nbformat_minor": 2
}
