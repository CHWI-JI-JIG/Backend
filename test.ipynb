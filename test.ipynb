{
 "cells": [
  {
   "cell_type": "code",
   "execution_count": 2,
   "metadata": {},
   "outputs": [],
   "source": [
    "from Storages.Members import MySqlSaveMember,LoginVerifiableAuthentication\n",
    "from Migrations import MySqlCreateUser\n",
    "from Builders.Members import *\n",
    "from Domains.Members import *"
   ]
  },
  {
   "cell_type": "code",
   "execution_count": 7,
   "metadata": {},
   "outputs": [],
   "source": [
    "sql=MySqlCreateUser()\n"
   ]
  },
  {
   "cell_type": "code",
   "execution_count": 8,
   "metadata": {},
   "outputs": [
    {
     "name": "stdout",
     "output_type": "stream",
     "text": [
      "\n",
      "CREATE TABLE IF NOT EXISTS log_user (\n",
      "    seq INT AUTO_INCREMENT PRIMARY KEY,\n",
      "    id VARCHAR(255) UNIQUE,\n",
      "    account VARCHAR(255) UNIQUE,\n",
      "    pay_account VARCHAR(255) NOT NULL,\n",
      "    passwd VARCHAR(255) NOT NULL,\n",
      "    email VARCHAR(255) NOT NULL,\n",
      "    role VARCHAR(255) NOT NULL,\n",
      "    company_registration_number VARCHAR(255),\n",
      "    phone VARCHAR(255) NOT NULL,\n",
      "    address VARCHAR(255) NOT NULL,\n",
      "    name VARCHAR(255) NOT NULL,\n",
      "    last_access DATETIME NOT NULL DEFAULT '1900-01-01 01:01:01',\n",
      "    fail_count INT NOT NULL DEFAULT 0\n",
      ");\n",
      "                \n"
     ]
    }
   ],
   "source": [
    "sql.create_user()"
   ]
  },
  {
   "cell_type": "code",
   "execution_count": 9,
   "metadata": {},
   "outputs": [],
   "source": [
    "id = (MemberIDBuilder().set_uuid4().set_seqence(1).build())\n",
    "\n",
    "\n",
    "member = Member(\n",
    "    id=id,\n",
    "    account=\"jihee\",\n",
    "    passwd=\"jh1234@\",\n",
    "    role=RoleType.SELLER\n",
    ")\n",
    "\n",
    "privacy = Privacy(\n",
    "    id=id,\n",
    "    name=\"김지희\",\n",
    "    phone=\"01012345678\",\n",
    "    email=\"jihee@test.com\",\n",
    "    address=\"서울시 여러분\",\n",
    "    pay_account = \"123-1234-4567\",\n",
    "    company_registration_number = \"123-45-12345\"\n",
    ")"
   ]
  },
  {
   "cell_type": "code",
   "execution_count": 2,
   "metadata": {},
   "outputs": [
    {
     "ename": "NameError",
     "evalue": "name 'member' is not defined",
     "output_type": "error",
     "traceback": [
      "\u001b[1;31m---------------------------------------------------------------------------\u001b[0m",
      "\u001b[1;31mNameError\u001b[0m                                 Traceback (most recent call last)",
      "Cell \u001b[1;32mIn[2], line 2\u001b[0m\n\u001b[0;32m      1\u001b[0m create\u001b[38;5;241m=\u001b[39mMySqlSaveMember()\n\u001b[1;32m----> 2\u001b[0m create\u001b[38;5;241m.\u001b[39msave_member(\u001b[43mmember\u001b[49m, privacy)\n",
      "\u001b[1;31mNameError\u001b[0m: name 'member' is not defined"
     ]
    }
   ],
   "source": [
    "create=MySqlSaveMember()\n",
    "create.save_member(member, privacy)"
   ]
  },
  {
   "cell_type": "code",
   "execution_count": 11,
   "metadata": {},
   "outputs": [
    {
     "data": {
      "text/plain": [
       "True"
      ]
     },
     "execution_count": 11,
     "metadata": {},
     "output_type": "execute_result"
    }
   ],
   "source": [
    "sql.check_exist_user()"
   ]
  },
  {
   "cell_type": "code",
   "execution_count": 5,
   "metadata": {},
   "outputs": [],
   "source": [
    "sql.delete_user()"
   ]
  },
  {
   "cell_type": "code",
   "execution_count": 2,
   "metadata": {},
   "outputs": [
    {
     "name": "stderr",
     "output_type": "stream",
     "text": [
      "ic| result[3]: datetime.datetime(2024, 2, 22, 19, 32, 24)\n"
     ]
    },
    {
     "name": "stdout",
     "output_type": "stream",
     "text": [
      "\n",
      "SELECT seq, id, passwd, last_access, fail_count\n",
      "FROM log_user\n",
      "WHERE account = %s;\n",
      "                \n"
     ]
    },
    {
     "data": {
      "text/plain": [
       "Ok(Authentication(id=MemberID(uuid=UUID('80ce407b-c01d-4029-bcdb-57d245d841f2'), sequence=1), last_access=datetime.datetime(2024, 2, 22, 19, 32, 24), fail_count=0, is_sucess=True))"
      ]
     },
     "execution_count": 2,
     "metadata": {},
     "output_type": "execute_result"
    }
   ],
   "source": [
    "va=LoginVerifiableAuthentication()\n",
    "va.identify_and_authenticate('jihee','jh1234@')"
   ]
  },
  {
   "cell_type": "code",
   "execution_count": 5,
   "metadata": {},
   "outputs": [
    {
     "name": "stderr",
     "output_type": "stream",
     "text": [
      "ic| result[3]: datetime.datetime(2024, 2, 22, 19, 32, 24)\n"
     ]
    },
    {
     "name": "stdout",
     "output_type": "stream",
     "text": [
      "\n",
      "SELECT seq, id, passwd, last_access, fail_count\n",
      "FROM log_user\n",
      "WHERE account = %s;\n",
      "                \n"
     ]
    },
    {
     "data": {
      "text/plain": [
       "Err(\"'Ok' object has no attribute 'is_sucess'\")"
      ]
     },
     "execution_count": 5,
     "metadata": {},
     "output_type": "execute_result"
    }
   ],
   "source": [
    "\n",
    "va=LoginVerifiableAuthentication()\n",
    "va.update_access(va.identify_and_authenticate('jihee','jh1234@'))"
   ]
  },
  {
   "cell_type": "code",
   "execution_count": null,
   "metadata": {},
   "outputs": [],
   "source": []
  }
 ],
 "metadata": {
  "kernelspec": {
   "display_name": "Python 3",
   "language": "python",
   "name": "python3"
  },
  "language_info": {
   "codemirror_mode": {
    "name": "ipython",
    "version": 3
   },
   "file_extension": ".py",
   "mimetype": "text/x-python",
   "name": "python",
   "nbconvert_exporter": "python",
   "pygments_lexer": "ipython3",
   "version": "3.12.0"
  }
 },
 "nbformat": 4,
 "nbformat_minor": 2
}
