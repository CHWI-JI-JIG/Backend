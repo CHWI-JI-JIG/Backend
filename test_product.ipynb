{
 "cells": [
  {
   "cell_type": "code",
   "execution_count": 1,
   "metadata": {},
   "outputs": [],
   "source": [
    "import __init__\n",
    "from get_config_data import get_db_padding\n",
    "from Storages.Products import MySqlGetProduct, MySqlSaveProduct\n",
    "from Migrations import MySqlCreateProduct\n",
    "from Builders.Members import *\n",
    "from Builders.Products import *\n",
    "from Domains.Products import *\n",
    "from result import Result,Ok,Err\n",
    "from datetime import datetime\n",
    "\n",
    "from icecream import ic"
   ]
  },
  {
   "cell_type": "code",
   "execution_count": 2,
   "metadata": {},
   "outputs": [],
   "source": [
    "sql=MySqlCreateProduct(get_db_padding())"
   ]
  },
  {
   "cell_type": "code",
   "execution_count": 3,
   "metadata": {},
   "outputs": [],
   "source": [
    "sql.create_product()"
   ]
  },
  {
   "cell_type": "code",
   "execution_count": 4,
   "metadata": {},
   "outputs": [
    {
     "data": {
      "text/plain": [
       "True"
      ]
     },
     "execution_count": 4,
     "metadata": {},
     "output_type": "execute_result"
    }
   ],
   "source": [
    "sql.check_exist_product()"
   ]
  },
  {
   "cell_type": "code",
   "execution_count": 11,
   "metadata": {},
   "outputs": [],
   "source": [
    "sql.delete_product()"
   ]
  },
  {
   "cell_type": "code",
   "execution_count": 5,
   "metadata": {},
   "outputs": [
    {
     "name": "stderr",
     "output_type": "stream",
     "text": [
      "ic| uid: MemberID(uuid=UUID('77ce34e1-6bc3-49b7-a06d-770910384b69'), sequence=-1)\n",
      "ic| id: ProductID(uuid=UUID('ad31f25e-74f5-472b-a54e-82ccac60ff79'), sequence=2)\n",
      "ic| id: ProductID(uuid=UUID('ad31f25e-74f5-472b-a54e-82ccac60ff79'), sequence=2)\n"
     ]
    },
    {
     "data": {
      "text/plain": [
       "ProductID(uuid=UUID('ad31f25e-74f5-472b-a54e-82ccac60ff79'), sequence=2)"
      ]
     },
     "execution_count": 5,
     "metadata": {},
     "output_type": "execute_result"
    }
   ],
   "source": [
    "id = (ProductIDBuilder().set_uuid().set_seqence(2).build())\n",
    "uid = (MemberIDBuilder().set_uuid(\"77ce34e16bc349b7a06d770910384b69\").build())\n",
    "ic(uid)\n",
    "ic(id)\n",
    "product = Product(\n",
    "    id=id,\n",
    "    seller_id=uid,\n",
    "    name=\"쿠쿠밥솥\",\n",
    "    img_path=\"seller\",\n",
    "    price=\"170000\",\n",
    "    description=\"쿠쿠하세요~ 쿠쿠.\",\n",
    "    register_day=datetime.now(),\n",
    ")\n",
    "\n",
    "ic(id)"
   ]
  },
  {
   "cell_type": "code",
   "execution_count": 17,
   "metadata": {},
   "outputs": [
    {
     "ename": "AttributeError",
     "evalue": "'tuple' object has no attribute 'id'",
     "output_type": "error",
     "traceback": [
      "\u001b[1;31m---------------------------------------------------------------------------\u001b[0m",
      "\u001b[1;31mAttributeError\u001b[0m                            Traceback (most recent call last)",
      "Cell \u001b[1;32mIn[17], line 2\u001b[0m\n\u001b[0;32m      1\u001b[0m create\u001b[38;5;241m=\u001b[39mMySqlSaveProduct(get_db_padding())\n\u001b[1;32m----> 2\u001b[0m \u001b[43mcreate\u001b[49m\u001b[38;5;241;43m.\u001b[39;49m\u001b[43msave_product\u001b[49m\u001b[43m(\u001b[49m\u001b[43mproduct\u001b[49m\u001b[43m)\u001b[49m\n",
      "File \u001b[1;32mc:\\Users\\USER\\source\\Backend\\Storages\\Products\\MySqlSaveProduct.py:37\u001b[0m, in \u001b[0;36mMySqlSaveProduct.save_product\u001b[1;34m(self, product)\u001b[0m\n\u001b[0;32m     35\u001b[0m connection \u001b[38;5;241m=\u001b[39m \u001b[38;5;28mself\u001b[39m\u001b[38;5;241m.\u001b[39mconnect()\n\u001b[0;32m     36\u001b[0m product_table_name \u001b[38;5;241m=\u001b[39m \u001b[38;5;28mself\u001b[39m\u001b[38;5;241m.\u001b[39mget_padding_name(\u001b[38;5;124m\"\u001b[39m\u001b[38;5;124mproduct\u001b[39m\u001b[38;5;124m\"\u001b[39m)\n\u001b[1;32m---> 37\u001b[0m \u001b[43mproduct\u001b[49m\u001b[38;5;241;43m.\u001b[39;49m\u001b[43mid\u001b[49m\u001b[38;5;241m.\u001b[39mget_id()\n\u001b[0;32m     38\u001b[0m product\u001b[38;5;241m.\u001b[39mseller_id\u001b[38;5;241m.\u001b[39mget_id()\n\u001b[0;32m     39\u001b[0m \u001b[38;5;28;01mtry\u001b[39;00m:\n\u001b[0;32m     40\u001b[0m     \u001b[38;5;66;03m# 커서 생성\u001b[39;00m\n",
      "\u001b[1;31mAttributeError\u001b[0m: 'tuple' object has no attribute 'id'"
     ]
    }
   ],
   "source": []
  },
  {
   "cell_type": "code",
   "execution_count": null,
   "metadata": {},
   "outputs": [],
   "source": [
    "ic()"
   ]
  },
  {
   "cell_type": "code",
   "execution_count": 6,
   "metadata": {},
   "outputs": [],
   "source": [
    "get = MySqlGetProduct(get_db_padding())\n",
    "get.get_product_by_product_id(ProductIDBuilder().set_uuid(\"5b375a40a7e445618e0446e3960645c8\").build())"
   ]
  }
 ],
 "metadata": {
  "kernelspec": {
   "display_name": "Python 3",
   "language": "python",
   "name": "python3"
  },
  "language_info": {
   "codemirror_mode": {
    "name": "ipython",
    "version": 3
   },
   "file_extension": ".py",
   "mimetype": "text/x-python",
   "name": "python",
   "nbconvert_exporter": "python",
   "pygments_lexer": "ipython3",
   "version": "3.12.0"
  }
 },
 "nbformat": 4,
 "nbformat_minor": 2
}
