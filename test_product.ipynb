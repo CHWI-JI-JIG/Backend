{
 "cells": [
  {
   "cell_type": "code",
   "execution_count": 1,
   "metadata": {},
   "outputs": [],
   "source": [
    "import __init__\n",
    "from get_config_data import get_db_padding\n",
    "from Storages.Products import MySqlGetProduct, MySqlSaveProduct\n",
    "from Storages.Members import MySqlEditMember\n",
    "from Migrations import MySqlCreateProduct\n",
    "from Builders.Members import *\n",
    "from Builders.Products import *\n",
    "from Domains.Products import *\n",
    "from Domains.Members import *\n",
    "#from result import Result,Ok,Err\n",
    "from datetime import datetime\n",
    "from init_data import *\n",
    "from Repositories.Members import IEditableMember\n",
    "#from icecream import ic"
   ]
  },
  {
   "cell_type": "code",
   "execution_count": 2,
   "metadata": {},
   "outputs": [],
   "source": [
    "sql=MySqlCreateProduct(get_db_padding())"
   ]
  },
  {
   "cell_type": "code",
   "execution_count": 3,
   "metadata": {},
   "outputs": [],
   "source": [
    "sql.create_product()"
   ]
  },
  {
   "cell_type": "code",
   "execution_count": 4,
   "metadata": {},
   "outputs": [
    {
     "data": {
      "text/plain": [
       "True"
      ]
     },
     "execution_count": 4,
     "metadata": {},
     "output_type": "execute_result"
    }
   ],
   "source": [
    "sql.check_exist_product()"
   ]
  },
  {
   "cell_type": "code",
   "execution_count": null,
   "metadata": {},
   "outputs": [],
   "source": [
    "sql.delete_product()"
   ]
  },
  {
   "cell_type": "code",
   "execution_count": 2,
   "metadata": {},
   "outputs": [
    {
     "name": "stderr",
     "output_type": "stream",
     "text": [
      "ic| uid: MemberID(uuid=UUID('77ce34e1-6bc3-49b7-a06d-770910384b69'), sequence=-1)\n",
      "ic| id: ProductID(uuid=UUID('5a9a44d9-d8f5-42e4-9afe-69d27311990c'), sequence=2)\n",
      "ic| id: ProductID(uuid=UUID('5a9a44d9-d8f5-42e4-9afe-69d27311990c'), sequence=2)\n"
     ]
    },
    {
     "data": {
      "text/plain": [
       "ProductID(uuid=UUID('5a9a44d9-d8f5-42e4-9afe-69d27311990c'), sequence=2)"
      ]
     },
     "execution_count": 2,
     "metadata": {},
     "output_type": "execute_result"
    }
   ],
   "source": [
    "id = (ProductIDBuilder().set_uuid().set_seqence(2).build())\n",
    "uid = (MemberIDBuilder().set_uuid(\"77ce34e16bc349b7a06d770910384b69\").build())\n",
    "ic(uid)\n",
    "ic(id)\n",
    "product = Product(\n",
    "    id=id,\n",
    "    seller_id=uid,\n",
    "    name=\"쿠쿠밥솥\",\n",
    "    img_path=\"seller\",\n",
    "    price=\"170000\",\n",
    "    description=\"쿠쿠하세요~ 쿠쿠.\",\n",
    "    register_day=datetime.now(),\n",
    ")\n",
    "\n",
    "ic(id)"
   ]
  },
  {
   "cell_type": "code",
   "execution_count": null,
   "metadata": {},
   "outputs": [
    {
     "ename": "AttributeError",
     "evalue": "'tuple' object has no attribute 'id'",
     "output_type": "error",
     "traceback": [
      "\u001b[1;31m---------------------------------------------------------------------------\u001b[0m",
      "\u001b[1;31mAttributeError\u001b[0m                            Traceback (most recent call last)",
      "Cell \u001b[1;32mIn[17], line 2\u001b[0m\n\u001b[0;32m      1\u001b[0m create\u001b[38;5;241m=\u001b[39mMySqlSaveProduct(get_db_padding())\n\u001b[1;32m----> 2\u001b[0m \u001b[43mcreate\u001b[49m\u001b[38;5;241;43m.\u001b[39;49m\u001b[43msave_product\u001b[49m\u001b[43m(\u001b[49m\u001b[43mproduct\u001b[49m\u001b[43m)\u001b[49m\n",
      "File \u001b[1;32mc:\\Users\\USER\\source\\Backend\\Storages\\Products\\MySqlSaveProduct.py:37\u001b[0m, in \u001b[0;36mMySqlSaveProduct.save_product\u001b[1;34m(self, product)\u001b[0m\n\u001b[0;32m     35\u001b[0m connection \u001b[38;5;241m=\u001b[39m \u001b[38;5;28mself\u001b[39m\u001b[38;5;241m.\u001b[39mconnect()\n\u001b[0;32m     36\u001b[0m product_table_name \u001b[38;5;241m=\u001b[39m \u001b[38;5;28mself\u001b[39m\u001b[38;5;241m.\u001b[39mget_padding_name(\u001b[38;5;124m\"\u001b[39m\u001b[38;5;124mproduct\u001b[39m\u001b[38;5;124m\"\u001b[39m)\n\u001b[1;32m---> 37\u001b[0m \u001b[43mproduct\u001b[49m\u001b[38;5;241;43m.\u001b[39;49m\u001b[43mid\u001b[49m\u001b[38;5;241m.\u001b[39mget_id()\n\u001b[0;32m     38\u001b[0m product\u001b[38;5;241m.\u001b[39mseller_id\u001b[38;5;241m.\u001b[39mget_id()\n\u001b[0;32m     39\u001b[0m \u001b[38;5;28;01mtry\u001b[39;00m:\n\u001b[0;32m     40\u001b[0m     \u001b[38;5;66;03m# 커서 생성\u001b[39;00m\n",
      "\u001b[1;31mAttributeError\u001b[0m: 'tuple' object has no attribute 'id'"
     ]
    }
   ],
   "source": []
  },
  {
   "cell_type": "code",
   "execution_count": null,
   "metadata": {},
   "outputs": [],
   "source": [
    "ic()"
   ]
  },
  {
   "cell_type": "code",
   "execution_count": 2,
   "metadata": {},
   "outputs": [
    {
     "data": {
      "text/plain": [
       "Product(id=ProductID(uuid=UUID('93225437-d68d-4db7-8d32-15cbe794136f'), sequence=-1), seller_id=MemberID(uuid=UUID('e0859688-1853-4d70-b7ec-2b0abad1ff0f'), sequence=-1), name='제벤 디지털 마카롱 밥솥 민트 2~3인용 EURO-RM300K', img_path='img03.png', price=33510, description='세련된 디자인의 디지털 마카롱 밥솥으로 소가구에 적합합니다. 2~3인 가정을 위한 적당한 용량과 다양한 기능을 제공합니다.', register_day=datetime.datetime(2024, 3, 21, 17, 1, 15))"
      ]
     },
     "execution_count": 2,
     "metadata": {},
     "output_type": "execute_result"
    }
   ],
   "source": [
    "get = MySqlGetProduct(get_db_padding())\n",
    "get.get_product_by_product_id(ProductIDBuilder().set_uuid(\"93225437d68d4db78d3215cbe794136f\").unwrap().build())"
   ]
  },
  {
   "cell_type": "code",
   "execution_count": 4,
   "metadata": {},
   "outputs": [],
   "source": [
    "import __init__\n",
    "from get_config_data import get_db_padding\n",
    "from Storages.Products import MySqlGetProduct, MySqlSaveProduct\n",
    "from Migrations import MySqlCreateProduct\n",
    "from Builders.Members import *\n",
    "from Builders.Products import *\n",
    "from Domains.Products import *\n",
    "from Domains.Members import *\n",
    "#from result import Result,Ok,Err\n",
    "from datetime import datetime\n",
    "from init_data import *\n",
    "from Repositories.Members import IEditableMember\n",
    "#from icecream import ic"
   ]
  },
  {
   "cell_type": "code",
   "execution_count": 6,
   "metadata": {},
   "outputs": [
    {
     "ename": "TypeError",
     "evalue": "MySqlEditMember.update_role() missing 1 required positional argument: 'role'",
     "output_type": "error",
     "traceback": [
      "\u001b[1;31m---------------------------------------------------------------------------\u001b[0m",
      "\u001b[1;31mTypeError\u001b[0m                                 Traceback (most recent call last)",
      "Cell \u001b[1;32mIn[6], line 10\u001b[0m\n\u001b[0;32m      3\u001b[0m member \u001b[38;5;241m=\u001b[39m Member(\n\u001b[0;32m      4\u001b[0m     \u001b[38;5;28mid\u001b[39m \u001b[38;5;241m=\u001b[39m uuid,\n\u001b[0;32m      5\u001b[0m     account\u001b[38;5;241m=\u001b[39m\u001b[38;5;124m\"\u001b[39m\u001b[38;5;124mzxcv\u001b[39m\u001b[38;5;124m\"\u001b[39m,\n\u001b[0;32m      6\u001b[0m     role\u001b[38;5;241m=\u001b[39m\u001b[38;5;124m\"\u001b[39m\u001b[38;5;124mbuyer\u001b[39m\u001b[38;5;124m\"\u001b[39m\n\u001b[0;32m      7\u001b[0m )\n\u001b[0;32m      9\u001b[0m edit_instance \u001b[38;5;241m=\u001b[39m MySqlEditMember()\n\u001b[1;32m---> 10\u001b[0m edit_result \u001b[38;5;241m=\u001b[39m \u001b[43medit_instance\u001b[49m\u001b[38;5;241;43m.\u001b[39;49m\u001b[43mupdate_role\u001b[49m\u001b[43m(\u001b[49m\u001b[43mmember\u001b[49m\u001b[43m)\u001b[49m\n",
      "\u001b[1;31mTypeError\u001b[0m: MySqlEditMember.update_role() missing 1 required positional argument: 'role'"
     ]
    }
   ],
   "source": [
    "from Storages.Members.MySqlEditMember import MySqlEditMember\n",
    "uuid = (MemberIDBuilder().set_uuid(\"7817935ad2e74e769ac3239f362680eb\").build())\n",
    "member = Member(\n",
    "    id = uuid,\n",
    "    account=\"zxcv\",\n",
    "    role=\"buyer\"\n",
    ")\n",
    "\n",
    "edit_instance = MySqlEditMember()\n",
    "edit_result = edit_instance.update_role(member)"
   ]
  },
  {
   "cell_type": "code",
   "execution_count": 7,
   "metadata": {},
   "outputs": [
    {
     "data": {
      "text/plain": [
       "Err('(1146, \"Table \\'cjj.log_comments\\' doesn\\'t exist\")')"
      ]
     },
     "execution_count": 7,
     "metadata": {},
     "output_type": "execute_result"
    }
   ],
   "source": [
    "from Storages.Comments.MySqlGetComment import MySqlGetComment\n",
    "comment_instance = MySqlGetComment()\n",
    "product_id = \"ea5d152bae0840f4bf83333275c9c9a0\"\n",
    "#product_id = \"96cfda8561dc48bfa01b9ad171a6c6d0\"\n",
    "comment_instance.get_comments_by_product_id(product_id)"
   ]
  },
  {
   "cell_type": "code",
   "execution_count": 1,
   "metadata": {},
   "outputs": [],
   "source": [
    "import __init__\n",
    "from get_config_data import get_db_padding\n",
    "from Storages.Products import MySqlGetProduct, MySqlSaveProduct\n",
    "from Migrations import MySqlCreateProduct\n",
    "from Builders.Members import *\n",
    "from Builders.Products import *\n",
    "from Builders.Comments import *\n",
    "from Domains.Products import *\n",
    "from Domains.Members import *\n",
    "#from result import Result,Ok,Err\n",
    "from datetime import datetime\n",
    "from init_data import *\n",
    "from Repositories.Members import IEditableMember\n",
    "#from icecream import ic"
   ]
  },
  {
   "cell_type": "code",
   "execution_count": 26,
   "metadata": {},
   "outputs": [
    {
     "name": "stdout",
     "output_type": "stream",
     "text": [
      "Ok(UUID('73177482-c65c-4630-ae12-f22323936c05'))\n"
     ]
    }
   ],
   "source": [
    "id = CommentIDBuilder().set_uuid().build()\n",
    "pid = (ProductIDBuilder().set_uuid('b55353b39ff64928a54558f6cd425180').build())\n",
    "mid = MemberIDBuilder().set_uuid('126331412cea40beb3aec8849e56f372').build()\n",
    "comment= Comment(\n",
    "    id= id,\n",
    "    product_id= pid,\n",
    "    writer_id= mid,\n",
    "    writer_account= \"asdf\",\n",
    "    answer= \"\",\n",
    "    question= \"배송 언제2\"\n",
    ")\n",
    "from Storages.Comments.MySqlSaveComment import MySqlSaveComment\n",
    "answer_create = MySqlSaveComment()\n",
    "result = answer_create.save_comment(comment)\n",
    "print(result)"
   ]
  },
  {
   "cell_type": "markdown",
   "metadata": {},
   "source": []
  },
  {
   "cell_type": "code",
   "execution_count": 5,
   "metadata": {},
   "outputs": [
    {
     "name": "stdout",
     "output_type": "stream",
     "text": [
      "CommentID(uuid=UUID('50a1f16e-50b8-4546-a58f-63529fbfcde8'), sequence=-1)\n",
      "50a1f16e50b84546a58f63529fbfcde8\n",
      "Ok('50a1f16e50b84546a58f63529fbfcde8')\n"
     ]
    }
   ],
   "source": [
    "id = CommentIDBuilder().set_uuid('50a1f16e50b84546a58f63529fbfcde8').build()\n",
    "print(id)\n",
    "print(id.uuid.hex)\n",
    "from Storages.Comments.MySqlSaveComment import MySqlSaveComment\n",
    "answer_update = MySqlSaveComment()\n",
    "result = answer_update.update_comment(id.uuid.hex, \"답이다\")\n",
    "print(result)"
   ]
  }
 ],
 "metadata": {
  "kernelspec": {
   "display_name": "Python 3",
   "language": "python",
   "name": "python3"
  },
  "language_info": {
   "codemirror_mode": {
    "name": "ipython",
    "version": 3
   },
   "file_extension": ".py",
   "mimetype": "text/x-python",
   "name": "python",
   "nbconvert_exporter": "python",
   "pygments_lexer": "ipython3",
   "version": "3.12.0"
  }
 },
 "nbformat": 4,
 "nbformat_minor": 2
}
