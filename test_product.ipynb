{
 "cells": [
  {
   "cell_type": "code",
   "execution_count": 1,
   "metadata": {},
   "outputs": [],
   "source": [
    "import __init__\n",
    "from get_config_data import get_db_padding\n",
    "from Storages.Products import MySqlGetProduct, MySqlSaveProduct\n",
    "from Storages.Members import MySqlEditMember\n",
    "from Migrations import MySqlCreateProduct\n",
    "from Builders.Members import *\n",
    "from Builders.Products import *\n",
    "from Domains.Products import *\n",
    "from Domains.Members import *\n",
    "#from result import Result,Ok,Err\n",
    "from datetime import datetime\n",
    "from init_data import *\n",
    "from Repositories.Members import IEditableMember\n",
    "#from icecream import ic"
   ]
  },
  {
   "cell_type": "code",
   "execution_count": 2,
   "metadata": {},
   "outputs": [],
   "source": [
    "sql=MySqlCreateProduct(get_db_padding())"
   ]
  },
  {
   "cell_type": "code",
   "execution_count": 3,
   "metadata": {},
   "outputs": [],
   "source": [
    "sql.create_product()"
   ]
  },
  {
   "cell_type": "code",
   "execution_count": 4,
   "metadata": {},
   "outputs": [
    {
     "data": {
      "text/plain": [
       "True"
      ]
     },
     "execution_count": 4,
     "metadata": {},
     "output_type": "execute_result"
    }
   ],
   "source": [
    "sql.check_exist_product()"
   ]
  },
  {
   "cell_type": "code",
   "execution_count": null,
   "metadata": {},
   "outputs": [],
   "source": [
    "sql.delete_product()"
   ]
  },
  {
   "cell_type": "code",
   "execution_count": 5,
   "metadata": {},
   "outputs": [
    {
     "name": "stderr",
     "output_type": "stream",
     "text": [
      "ic| uid: MemberID(uuid=UUID('77ce34e1-6bc3-49b7-a06d-770910384b69'), sequence=-1)\n",
      "ic| id: ProductID(uuid=UUID('ad31f25e-74f5-472b-a54e-82ccac60ff79'), sequence=2)\n",
      "ic| id: ProductID(uuid=UUID('ad31f25e-74f5-472b-a54e-82ccac60ff79'), sequence=2)\n"
     ]
    },
    {
     "data": {
      "text/plain": [
       "ProductID(uuid=UUID('ad31f25e-74f5-472b-a54e-82ccac60ff79'), sequence=2)"
      ]
     },
     "execution_count": 5,
     "metadata": {},
     "output_type": "execute_result"
    }
   ],
   "source": [
    "id = (ProductIDBuilder().set_uuid().set_seqence(2).build())\n",
    "uid = (MemberIDBuilder().set_uuid(\"77ce34e16bc349b7a06d770910384b69\").build())\n",
    "ic(uid)\n",
    "ic(id)\n",
    "product = Product(\n",
    "    id=id,\n",
    "    seller_id=uid,\n",
    "    name=\"쿠쿠밥솥\",\n",
    "    img_path=\"seller\",\n",
    "    price=\"170000\",\n",
    "    description=\"쿠쿠하세요~ 쿠쿠.\",\n",
    "    register_day=datetime.now(),\n",
    ")\n",
    "\n",
    "ic(id)"
   ]
  },
  {
   "cell_type": "code",
   "execution_count": null,
   "metadata": {},
   "outputs": [
    {
     "ename": "AttributeError",
     "evalue": "'tuple' object has no attribute 'id'",
     "output_type": "error",
     "traceback": [
      "\u001b[1;31m---------------------------------------------------------------------------\u001b[0m",
      "\u001b[1;31mAttributeError\u001b[0m                            Traceback (most recent call last)",
      "Cell \u001b[1;32mIn[17], line 2\u001b[0m\n\u001b[0;32m      1\u001b[0m create\u001b[38;5;241m=\u001b[39mMySqlSaveProduct(get_db_padding())\n\u001b[1;32m----> 2\u001b[0m \u001b[43mcreate\u001b[49m\u001b[38;5;241;43m.\u001b[39;49m\u001b[43msave_product\u001b[49m\u001b[43m(\u001b[49m\u001b[43mproduct\u001b[49m\u001b[43m)\u001b[49m\n",
      "File \u001b[1;32mc:\\Users\\USER\\source\\Backend\\Storages\\Products\\MySqlSaveProduct.py:37\u001b[0m, in \u001b[0;36mMySqlSaveProduct.save_product\u001b[1;34m(self, product)\u001b[0m\n\u001b[0;32m     35\u001b[0m connection \u001b[38;5;241m=\u001b[39m \u001b[38;5;28mself\u001b[39m\u001b[38;5;241m.\u001b[39mconnect()\n\u001b[0;32m     36\u001b[0m product_table_name \u001b[38;5;241m=\u001b[39m \u001b[38;5;28mself\u001b[39m\u001b[38;5;241m.\u001b[39mget_padding_name(\u001b[38;5;124m\"\u001b[39m\u001b[38;5;124mproduct\u001b[39m\u001b[38;5;124m\"\u001b[39m)\n\u001b[1;32m---> 37\u001b[0m \u001b[43mproduct\u001b[49m\u001b[38;5;241;43m.\u001b[39;49m\u001b[43mid\u001b[49m\u001b[38;5;241m.\u001b[39mget_id()\n\u001b[0;32m     38\u001b[0m product\u001b[38;5;241m.\u001b[39mseller_id\u001b[38;5;241m.\u001b[39mget_id()\n\u001b[0;32m     39\u001b[0m \u001b[38;5;28;01mtry\u001b[39;00m:\n\u001b[0;32m     40\u001b[0m     \u001b[38;5;66;03m# 커서 생성\u001b[39;00m\n",
      "\u001b[1;31mAttributeError\u001b[0m: 'tuple' object has no attribute 'id'"
     ]
    }
   ],
   "source": []
  },
  {
   "cell_type": "code",
   "execution_count": null,
   "metadata": {},
   "outputs": [],
   "source": [
    "ic()"
   ]
  },
  {
   "cell_type": "code",
   "execution_count": 6,
   "metadata": {},
   "outputs": [],
   "source": [
    "get = MySqlGetProduct(get_db_padding())\n",
    "get.get_product_by_product_id(ProductIDBuilder().set_uuid(\"5b375a40a7e445618e0446e3960645c8\").build())"
   ]
  },
  {
   "cell_type": "code",
   "execution_count": 7,
   "metadata": {},
   "outputs": [],
   "source": [
    "import __init__\n",
    "from get_config_data import get_db_padding\n",
    "from Storages.Products import MySqlGetProduct, MySqlSaveProduct\n",
    "from Migrations import MySqlCreateProduct\n",
    "from Builders.Members import *\n",
    "from Builders.Products import *\n",
    "from Domains.Products import *\n",
    "from Domains.Members import *\n",
    "#from result import Result,Ok,Err\n",
    "from datetime import datetime\n",
    "from init_data import *\n",
    "from Repositories.Members import IEditableMember\n",
    "#from icecream import ic"
   ]
  },
  {
   "cell_type": "code",
   "execution_count": 8,
   "metadata": {},
   "outputs": [],
   "source": [
    "from Storages.Members.MySqlEditMember import MySqlEditMember\n"
   ]
  },
  {
   "cell_type": "code",
   "execution_count": 10,
   "metadata": {},
   "outputs": [],
   "source": [
    "uuid = (MemberIDBuilder().set_uuid(\"7817935ad2e74e769ac3239f362680eb\").build())\n",
    "member = Member(\n",
    "    id = uuid,\n",
    "    account=\"zxcv\",\n",
    "    role=\"buyer\"\n",
    ")\n",
    "\n"
   ]
  },
  {
   "cell_type": "code",
   "execution_count": 11,
   "metadata": {},
   "outputs": [],
   "source": [
    "edit_instance = MySqlEditMember()\n",
    "edit_result = edit_instance.update_member(member)\n"
   ]
  },
  {
   "cell_type": "code",
   "execution_count": 12,
   "metadata": {},
   "outputs": [],
   "source": [
    "from init_data import *"
   ]
  },
  {
   "cell_type": "code",
   "execution_count": 14,
   "metadata": {},
   "outputs": [
    {
     "ename": "AssertionError",
     "evalue": "Fail Create Member:Err('(1062, \"Duplicate entry \\'1q2w\\' for key \\'log_user.account\\'\")')",
     "output_type": "error",
     "traceback": [
      "\u001b[1;31m---------------------------------------------------------------------------\u001b[0m",
      "\u001b[1;31mAssertionError\u001b[0m                            Traceback (most recent call last)",
      "Cell \u001b[1;32mIn[14], line 1\u001b[0m\n\u001b[1;32m----> 1\u001b[0m \u001b[43minit_member\u001b[49m\u001b[43m(\u001b[49m\u001b[43m)\u001b[49m\n\u001b[0;32m      2\u001b[0m init_product()\n",
      "File \u001b[1;32mc:\\Backend\\init_data.py:42\u001b[0m, in \u001b[0;36minit_member\u001b[1;34m()\u001b[0m\n\u001b[0;32m     40\u001b[0m         member_list\u001b[38;5;241m.\u001b[39mappend(member)\n\u001b[0;32m     41\u001b[0m     \u001b[38;5;28;01mcase\u001b[39;00m a:\n\u001b[1;32m---> 42\u001b[0m         \u001b[38;5;28;01massert\u001b[39;00m \u001b[38;5;28;01mFalse\u001b[39;00m, \u001b[38;5;124mf\u001b[39m\u001b[38;5;124m\"\u001b[39m\u001b[38;5;124mFail Create Member:\u001b[39m\u001b[38;5;132;01m{\u001b[39;00ma\u001b[38;5;132;01m}\u001b[39;00m\u001b[38;5;124m\"\u001b[39m\n\u001b[0;32m     44\u001b[0m \u001b[38;5;28;01mmatch\u001b[39;00m service\u001b[38;5;241m.\u001b[39mcreate(\n\u001b[0;32m     45\u001b[0m     account\u001b[38;5;241m=\u001b[39m\u001b[38;5;124m\"\u001b[39m\u001b[38;5;124mvbvb\u001b[39m\u001b[38;5;124m\"\u001b[39m,\n\u001b[0;32m     46\u001b[0m     passwd\u001b[38;5;241m=\u001b[39m\u001b[38;5;124m\"\u001b[39m\u001b[38;5;124m12\u001b[39m\u001b[38;5;124m\"\u001b[39m,\n\u001b[1;32m   (...)\u001b[0m\n\u001b[0;32m     53\u001b[0m     pay_account\u001b[38;5;241m=\u001b[39m\u001b[38;5;124m\"\u001b[39m\u001b[38;5;124m7952944925564628\u001b[39m\u001b[38;5;124m\"\u001b[39m,\n\u001b[0;32m     54\u001b[0m ):\n\u001b[0;32m     55\u001b[0m     \u001b[38;5;28;01mcase\u001b[39;00m Ok(member):\n",
      "\u001b[1;31mAssertionError\u001b[0m: Fail Create Member:Err('(1062, \"Duplicate entry \\'1q2w\\' for key \\'log_user.account\\'\")')"
     ]
    }
   ],
   "source": [
    "init_member()\n",
    "init_product()"
   ]
  },
  {
   "cell_type": "code",
   "execution_count": 48,
   "metadata": {},
   "outputs": [
    {
     "ename": "IndexError",
     "evalue": "list index out of range",
     "output_type": "error",
     "traceback": [
      "\u001b[1;31m---------------------------------------------------------------------------\u001b[0m",
      "\u001b[1;31mIndexError\u001b[0m                                Traceback (most recent call last)",
      "Cell \u001b[1;32mIn[48], line 1\u001b[0m\n\u001b[1;32m----> 1\u001b[0m \u001b[43minit_comment\u001b[49m\u001b[43m(\u001b[49m\u001b[43m)\u001b[49m\n",
      "File \u001b[1;32mc:\\Backend\\init_data.py:318\u001b[0m, in \u001b[0;36minit_comment\u001b[1;34m()\u001b[0m\n\u001b[0;32m    309\u001b[0m create \u001b[38;5;241m=\u001b[39m MySqlSaveComment(get_db_padding())\n\u001b[0;32m    311\u001b[0m \u001b[38;5;28mid\u001b[39m \u001b[38;5;241m=\u001b[39m CommentIDBuilder()\u001b[38;5;241m.\u001b[39mset_uuid()\u001b[38;5;241m.\u001b[39mset_seqence(\u001b[38;5;241m1\u001b[39m)\u001b[38;5;241m.\u001b[39mbuild()\n\u001b[0;32m    313\u001b[0m \u001b[38;5;28;01mmatch\u001b[39;00m create\u001b[38;5;241m.\u001b[39msave_comment(\n\u001b[0;32m    314\u001b[0m     Comment(\n\u001b[0;32m    315\u001b[0m         \u001b[38;5;28mid\u001b[39m\u001b[38;5;241m=\u001b[39m\u001b[38;5;28mid\u001b[39m,\n\u001b[0;32m    316\u001b[0m         answer\u001b[38;5;241m=\u001b[39m\u001b[38;5;28;01mNone\u001b[39;00m,  \u001b[38;5;66;03m# 목아프다...춥다..아프다..\u001b[39;00m\n\u001b[0;32m    317\u001b[0m         question\u001b[38;5;241m=\u001b[39m\u001b[38;5;124m\"\u001b[39m\u001b[38;5;124m요즘 어떤가요?\u001b[39m\u001b[38;5;124m\"\u001b[39m,\n\u001b[1;32m--> 318\u001b[0m         writer_id\u001b[38;5;241m=\u001b[39m\u001b[43mmember_list\u001b[49m\u001b[43m[\u001b[49m\u001b[38;5;241;43m2\u001b[39;49m\u001b[43m]\u001b[49m,\n\u001b[0;32m    319\u001b[0m         product_id\u001b[38;5;241m=\u001b[39mproduct_list[\u001b[38;5;241m0\u001b[39m],\n\u001b[0;32m    320\u001b[0m         writer_account\u001b[38;5;241m=\u001b[39m\u001b[38;5;124m\"\u001b[39m\u001b[38;5;124m\"\u001b[39m,\n\u001b[0;32m    321\u001b[0m         seller_account\u001b[38;5;241m=\u001b[39m\u001b[38;5;124m\"\u001b[39m\u001b[38;5;124m\"\u001b[39m,\n\u001b[0;32m    322\u001b[0m     )\n\u001b[0;32m    323\u001b[0m ):\n\u001b[0;32m    324\u001b[0m     \u001b[38;5;28;01mcase\u001b[39;00m Ok(comment):\n\u001b[0;32m    325\u001b[0m         comment_list\u001b[38;5;241m.\u001b[39mappend(comment)\n",
      "\u001b[1;31mIndexError\u001b[0m: list index out of range"
     ]
    }
   ],
   "source": [
    "init_comment()"
   ]
  },
  {
   "cell_type": "code",
   "execution_count": 83,
   "metadata": {},
   "outputs": [],
   "source": [
    "member_list: List[MemberID]\n",
    "member_list.append(\"zxcv\")\n",
    "member_list.append(\"zxcv\")\n",
    "member_list.append(\"zxcv\")"
   ]
  },
  {
   "cell_type": "code",
   "execution_count": 50,
   "metadata": {},
   "outputs": [
    {
     "name": "stdout",
     "output_type": "stream",
     "text": [
      "['zxcv', 'zxcv', 'zxcv', 'zxcv']\n"
     ]
    }
   ],
   "source": [
    "print(member_list)"
   ]
  },
  {
   "cell_type": "code",
   "execution_count": 62,
   "metadata": {},
   "outputs": [],
   "source": [
    "from Storages.Comments.MySqlGetComment import MySqlGetComment"
   ]
  },
  {
   "cell_type": "code",
   "execution_count": null,
   "metadata": {},
   "outputs": [],
   "source": []
  },
  {
   "cell_type": "code",
   "execution_count": 84,
   "metadata": {},
   "outputs": [
    {
     "name": "stdout",
     "output_type": "stream",
     "text": [
      "(1064, \"You have an error in your SQL syntax; check the manual that corresponds to your MySQL server version for the right syntax to use near 'INNER JOIN Member AS member\\n    ON comment.writer_account = member.account\\nLIMIT' at line 4\")\n"
     ]
    }
   ],
   "source": [
    "from Storages.Comments.MySqlGetComment import MySqlGetComment\n",
    "comment_instance = MySqlGetComment()\n",
    "product_id = \"ea5d152bae0840f4bf83333275c9c9a0\"\n",
    "result = comment_instance.get_comments_by_product_id(product_id,0,10)"
   ]
  }
 ],
 "metadata": {
  "kernelspec": {
   "display_name": "Python 3",
   "language": "python",
   "name": "python3"
  },
  "language_info": {
   "codemirror_mode": {
    "name": "ipython",
    "version": 3
   },
   "file_extension": ".py",
   "mimetype": "text/x-python",
   "name": "python",
   "nbconvert_exporter": "python",
   "pygments_lexer": "ipython3",
   "version": "3.12.0"
  }
 },
 "nbformat": 4,
 "nbformat_minor": 2
}
