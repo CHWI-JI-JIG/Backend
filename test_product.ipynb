{
 "cells": [
  {
   "cell_type": "code",
   "execution_count": 1,
   "metadata": {},
   "outputs": [],
   "source": [
    "import __init__\n",
    "from get_config_data import get_db_padding\n",
    "from Storages.Products import MySqlGetProduct, MySqlSaveProduct\n",
    "from Migrations import MySqlCreateProduct\n",
    "from Builders.Members import *\n",
    "from Builders.Products import *\n",
    "from Domains.Products import *\n",
    "from result import Result,Ok,Err\n",
    "from datetime import datetime\n",
    "\n",
    "from icecream import ic"
   ]
  },
  {
   "cell_type": "code",
   "execution_count": 2,
   "metadata": {},
   "outputs": [],
   "source": [
    "sql=MySqlCreateProduct(get_db_padding())"
   ]
  },
  {
   "cell_type": "code",
   "execution_count": 3,
   "metadata": {},
   "outputs": [],
   "source": [
    "sql.create_product()"
   ]
  },
  {
   "cell_type": "code",
   "execution_count": 7,
   "metadata": {},
   "outputs": [
    {
     "data": {
      "text/plain": [
       "True"
      ]
     },
     "execution_count": 7,
     "metadata": {},
     "output_type": "execute_result"
    }
   ],
   "source": [
    "sql.check_exist_product()"
   ]
  },
  {
   "cell_type": "code",
   "execution_count": 3,
   "metadata": {},
   "outputs": [],
   "source": [
    "sql.delete_product()"
   ]
  },
  {
   "cell_type": "code",
   "execution_count": 13,
   "metadata": {},
   "outputs": [
    {
     "name": "stderr",
     "output_type": "stream",
     "text": [
      "ic| uid: MemberID(uuid=UUID('77ce34e1-6bc3-49b7-a06d-770910384b69'), sequence=-1)\n",
      "ic| id: ProductID(uuid=UUID('37cde7bf-e833-4e9f-861c-2ceb5577da4a'), sequence=2)\n"
     ]
    },
    {
     "data": {
      "text/plain": [
       "Ok(UUID('37cde7bf-e833-4e9f-861c-2ceb5577da4a'))"
      ]
     },
     "execution_count": 13,
     "metadata": {},
     "output_type": "execute_result"
    }
   ],
   "source": [
    "id = (ProductIDBuilder().set_uuid().set_seqence(2).build())\n",
    "uid = (MemberIDBuilder().set_uuid(\"77ce34e16bc349b7a06d770910384b69\").build())\n",
    "ic(uid)\n",
    "ic(id)\n",
    "product = Product(\n",
    "    id=id,\n",
    "    seller_id=uid,\n",
    "    name=\"쿠쿠밥솥\",\n",
    "    img_path=\"seller\",\n",
    "    price=\"170000\",\n",
    "    description=\"쿠쿠하세요~ 쿠쿠.\",\n",
    "    register_day=datetime.now(),\n",
    ")\n",
    "create=MySqlSaveProduct(get_db_padding())\n",
    "create.save_product(product)"
   ]
  },
  {
   "cell_type": "code",
   "execution_count": 9,
   "metadata": {},
   "outputs": [
    {
     "data": {
      "text/plain": [
       "Err(\"(1452, 'Cannot add or update a child row: a foreign key constraint fails (`bodboard`.`log_product`, CONSTRAINT `log_product_ibfk_1` FOREIGN KEY (`seller_id`) REFERENCES `log_user` (`id`))')\")"
      ]
     },
     "execution_count": 9,
     "metadata": {},
     "output_type": "execute_result"
    }
   ],
   "source": []
  },
  {
   "cell_type": "code",
   "execution_count": null,
   "metadata": {},
   "outputs": [],
   "source": [
    "ic()"
   ]
  },
  {
   "cell_type": "code",
   "execution_count": 3,
   "metadata": {},
   "outputs": [
    {
     "data": {
      "text/plain": [
       "Product(id=ProductID(uuid=UUID('5b375a40-a7e4-4561-8e04-46e3960645c8'), sequence=-1), seller_id=MemberID(uuid=UUID('2bac0d9e-a48c-4d2a-a354-129768b2354e'), sequence=-1), name='쿠쿠밥솥', img_path='seller', price=170000, description='쿠쿠하세요~ 쿠쿠.', register_day=datetime.datetime(2024, 2, 27, 10, 40, 30))"
      ]
     },
     "execution_count": 3,
     "metadata": {},
     "output_type": "execute_result"
    }
   ],
   "source": [
    "get = MySqlGetProduct(get_db_padding())\n",
    "get.get_product_by_product_id(ProductIDBuilder().set_uuid(\"5b375a40a7e445618e0446e3960645c8\").build())"
   ]
  }
 ],
 "metadata": {
  "kernelspec": {
   "display_name": "Python 3",
   "language": "python",
   "name": "python3"
  },
  "language_info": {
   "codemirror_mode": {
    "name": "ipython",
    "version": 3
   },
   "file_extension": ".py",
   "mimetype": "text/x-python",
   "name": "python",
   "nbconvert_exporter": "python",
   "pygments_lexer": "ipython3",
   "version": "3.12.0"
  }
 },
 "nbformat": 4,
 "nbformat_minor": 2
}
