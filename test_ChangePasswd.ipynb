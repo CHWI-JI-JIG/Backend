{
 "cells": [
  {
   "cell_type": "code",
   "execution_count": 5,
   "metadata": {},
   "outputs": [],
   "source": [
    "import __init__\n",
    "from abc import ABCMeta, abstractmethod\n",
    "from typing import Optional, Tuple, List\n",
    "from result import Result, Ok, Err\n",
    "\n",
    "from uuid import uuid4, UUID\n",
    "\n",
    "from Domains.Members import *\n",
    "from Domains.Sessions import *\n",
    "from Builders.Members import *\n",
    "from Repositories.Members import *\n",
    "from Applications.Members.ExtentionMethod import hashing_passwd\n",
    "from datetime import datetime, timedelta\n",
    "from Repositories.Sessions import *\n",
    "\n",
    "from Storages.Sessions import *\n",
    "from Storages.Members import *\n",
    "\n",
    "from Applications.Members import *\n",
    "\n",
    "from icecream import ic"
   ]
  },
  {
   "cell_type": "code",
   "execution_count": 6,
   "metadata": {},
   "outputs": [
    {
     "name": "stdout",
     "output_type": "stream",
     "text": [
      "MemberSession(key=UUID('b6025686-0280-40c6-9fee-805219342fc5'), owner_id=UUID('5999e098-2a5c-4f2d-9ae4-14ccaab3c721'), create_time=datetime.datetime(2024, 3, 25, 15, 5, 52), use_count=0, name='관리자', role=<RoleType.ADMIN: 'admin'>, account='admin', member_id=MemberID(uuid=UUID('5999e098-2a5c-4f2d-9ae4-14ccaab3c721'), sequence=-1))\n"
     ]
    }
   ],
   "source": [
    "# 로그인\n",
    "login_service = AuthenticationMemberService(\n",
    "            auth_member_repo=MySqlLoginAuthentication(),\n",
    "            session_repo=MySqlMakeSaveMemberSession(),\n",
    "        )\n",
    "match login_service.login(\"admin\", \"admin\"):\n",
    "    case Ok(session):\n",
    "        login_session = session\n",
    "        print(login_session)\n",
    "    case e:\n",
    "        assert False, f\"{e}\""
   ]
  },
  {
   "cell_type": "code",
   "execution_count": 7,
   "metadata": {},
   "outputs": [],
   "source": [
    "change_pw = ChangePasswdService(MySqlChangePasswd(),MySqlLoadSession(),MySqlLoginAuthentication())\n",
    "old_pw = \"admin\"\n",
    "new_pw = \"new\"\n",
    "change_pw.change_expired_pw(login_session.get_id(), old_pw, new_pw)"
   ]
  },
  {
   "cell_type": "code",
   "execution_count": 8,
   "metadata": {},
   "outputs": [
    {
     "name": "stdout",
     "output_type": "stream",
     "text": [
      "MemberSession(key=UUID('7fee8fc7-898f-407e-98f5-b33ebdf0f1f6'), owner_id=UUID('5999e098-2a5c-4f2d-9ae4-14ccaab3c721'), create_time=datetime.datetime(2024, 3, 25, 15, 6, 8), use_count=0, name='관리자', role=<RoleType.ADMIN: 'admin'>, account='admin', member_id=MemberID(uuid=UUID('5999e098-2a5c-4f2d-9ae4-14ccaab3c721'), sequence=-1))\n"
     ]
    }
   ],
   "source": [
    "# 로그인\n",
    "login_service = AuthenticationMemberService(\n",
    "            auth_member_repo=MySqlLoginAuthentication(),\n",
    "            session_repo=MySqlMakeSaveMemberSession(),\n",
    "        )\n",
    "match login_service.login(\"admin\", \"new\"):\n",
    "    case Ok(session):\n",
    "        login_session = session\n",
    "        print(login_session)\n",
    "    case e:\n",
    "        assert False, f\"{e}\""
   ]
  }
 ],
 "metadata": {
  "kernelspec": {
   "display_name": "Python 3",
   "language": "python",
   "name": "python3"
  },
  "language_info": {
   "codemirror_mode": {
    "name": "ipython",
    "version": 3
   },
   "file_extension": ".py",
   "mimetype": "text/x-python",
   "name": "python",
   "nbconvert_exporter": "python",
   "pygments_lexer": "ipython3",
   "version": "3.12.0"
  }
 },
 "nbformat": 4,
 "nbformat_minor": 2
}
