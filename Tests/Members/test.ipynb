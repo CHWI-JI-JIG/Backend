{
 "cells": [
  {
   "cell_type": "code",
   "execution_count": 4,
   "metadata": {},
   "outputs": [],
   "source": [
    "import __init__\n",
    "from get_config_data import get_db_padding\n",
    "from Storages.Members import MySqlSaveMember,LoginVerifiableAuthentication\n",
    "from Migrations import MySqlCreateUser\n",
    "from Builders.Members import *\n",
    "from Domains.Members import *"
   ]
  },
  {
   "cell_type": "code",
   "execution_count": 5,
   "metadata": {},
   "outputs": [],
   "source": [
    "sql=MySqlCreateUser(get_db_padding())\n"
   ]
  },
  {
   "cell_type": "code",
   "execution_count": 6,
   "metadata": {},
   "outputs": [],
   "source": [
    "sql.create_user()"
   ]
  },
  {
   "cell_type": "code",
   "execution_count": 6,
   "metadata": {},
   "outputs": [],
   "source": [
    "id = (MemberIDBuilder().set_uuid4().set_seqence(1).build())\n",
    "\n",
    "\n",
    "member = Member(\n",
    "    id=id,\n",
    "    account=\"jihee\",\n",
    "    passwd=\"jh1234@\",\n",
    "    role=RoleType.SELLER\n",
    ")\n",
    "\n",
    "privacy = Privacy(\n",
    "    id=id,\n",
    "    name=\"김지희\",\n",
    "    phone=\"01012345678\",\n",
    "    email=\"jihee@test.com\",\n",
    "    address=\"서울시 여러분\",\n",
    "    pay_account = \"123-1234-4567\",\n",
    "    company_registration_number = \"123-45-12345\"\n",
    ")"
   ]
  },
  {
   "cell_type": "code",
   "execution_count": 12,
   "metadata": {},
   "outputs": [
    {
     "data": {
      "text/plain": [
       "Ok(None)"
      ]
     },
     "execution_count": 12,
     "metadata": {},
     "output_type": "execute_result"
    }
   ],
   "source": [
    "create=MySqlSaveMember(get_db_padding())\n",
    "create.save_member(member, privacy)"
   ]
  },
  {
   "cell_type": "code",
   "execution_count": 7,
   "metadata": {},
   "outputs": [
    {
     "data": {
      "text/plain": [
       "True"
      ]
     },
     "execution_count": 7,
     "metadata": {},
     "output_type": "execute_result"
    }
   ],
   "source": [
    "sql.check_exist_user()"
   ]
  },
  {
   "cell_type": "code",
   "execution_count": 9,
   "metadata": {},
   "outputs": [],
   "source": [
    "sql.delete_user()"
   ]
  },
  {
   "cell_type": "code",
   "execution_count": 13,
   "metadata": {},
   "outputs": [
    {
     "name": "stdout",
     "output_type": "stream",
     "text": [
      "\n",
      "SELECT seq, id, passwd, last_access, fail_count\n",
      "FROM ChiJiJiG_user\n",
      "WHERE account = %s;\n",
      "                \n"
     ]
    },
    {
     "data": {
      "text/plain": [
       "Ok(Authentication(id=MemberID(uuid=UUID('83d7627d-f6c5-4446-a2f7-37bed215f656'), sequence=1), last_access=datetime.datetime(2024, 2, 22, 20, 29, 32), fail_count=0, is_sucess=True))"
      ]
     },
     "execution_count": 13,
     "metadata": {},
     "output_type": "execute_result"
    }
   ],
   "source": [
    "va=LoginVerifiableAuthentication(get_db_padding())\n",
    "va.identify_and_authenticate('jihee','jh1234@')"
   ]
  },
  {
   "cell_type": "code",
   "execution_count": 14,
   "metadata": {},
   "outputs": [
    {
     "name": "stdout",
     "output_type": "stream",
     "text": [
      "\n",
      "SELECT seq, id, passwd, last_access, fail_count\n",
      "FROM ChiJiJiG_user\n",
      "WHERE account = %s;\n",
      "                \n"
     ]
    },
    {
     "data": {
      "text/plain": [
       "Ok(Authentication(id=MemberID(uuid=UUID('83d7627d-f6c5-4446-a2f7-37bed215f656'), sequence=1), last_access=datetime.datetime(2024, 2, 22, 20, 29, 32), fail_count=0, is_sucess=False))"
      ]
     },
     "execution_count": 14,
     "metadata": {},
     "output_type": "execute_result"
    }
   ],
   "source": [
    "va=LoginVerifiableAuthentication(get_db_padding())\n",
    "va.identify_and_authenticate('jihee','jh1234@--')"
   ]
  },
  {
   "cell_type": "code",
   "execution_count": 8,
   "metadata": {},
   "outputs": [],
   "source": [
    "from Applications.Members import CreateMemberService\n",
    "from Storages.Members import MySqlSaveMember"
   ]
  },
  {
   "cell_type": "code",
   "execution_count": 9,
   "metadata": {},
   "outputs": [
    {
     "data": {
      "text/plain": [
       "Ok(None)"
      ]
     },
     "execution_count": 9,
     "metadata": {},
     "output_type": "execute_result"
    }
   ],
   "source": [
    "service = CreateMemberService(MySqlSaveMember(get_db_padding()))\n",
    "service.create(\n",
    "    account=\"hohorst\",\n",
    "    passwd=\"456\",\n",
    "    role=\"seller\",\n",
    "    name=\"Lee hohun\",\n",
    "    phone=\"010566788874\",\n",
    "    email=\"vacst@naver.com\",\n",
    "    address=\"서울시 광진구\",\n",
    "    company_registration_number=\"115557936219463\",\n",
    "    pay_account=\"6795943585566187\",\n",
    ")"
   ]
  },
  {
   "cell_type": "code",
   "execution_count": 10,
   "metadata": {},
   "outputs": [
    {
     "data": {
      "text/plain": [
       "Err('(1048, \"Column \\'pay_account\\' cannot be null\")')"
      ]
     },
     "execution_count": 10,
     "metadata": {},
     "output_type": "execute_result"
    }
   ],
   "source": [
    "service.create(\n",
    "    account=\"abrst\",\n",
    "    passwd=\"123\",\n",
    "    role=\"buyer\",\n",
    "    name=\"Lee Takgun\",\n",
    "    phone=\"01036574774\",\n",
    "    email=\"vacst@naver.com\",\n",
    "    address=\"서울시 구로구\",\n",
    ")"
   ]
  }
 ],
 "metadata": {
  "kernelspec": {
   "display_name": "Python 3",
   "language": "python",
   "name": "python3"
  },
  "language_info": {
   "codemirror_mode": {
    "name": "ipython",
    "version": 3
   },
   "file_extension": ".py",
   "mimetype": "text/x-python",
   "name": "python",
   "nbconvert_exporter": "python",
   "pygments_lexer": "ipython3",
   "version": "3.12.1"
  }
 },
 "nbformat": 4,
 "nbformat_minor": 2
}
