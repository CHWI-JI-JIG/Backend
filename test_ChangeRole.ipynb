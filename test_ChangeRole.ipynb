{
 "cells": [
  {
   "cell_type": "code",
   "execution_count": 1,
   "metadata": {},
   "outputs": [],
   "source": [
    "import __init__\n",
    "from abc import ABCMeta, abstractmethod\n",
    "from typing import Optional, Tuple, List\n",
    "from result import Result, Ok, Err\n",
    "from datetime import datetime, timedelta\n",
    "\n",
    "from uuid import uuid4, UUID\n",
    "\n",
    "from Domains.Members import *\n",
    "from Domains.Products import *\n",
    "from Domains.Sessions import *\n",
    "from Builders.Members import *\n",
    "from Builders.Products import *\n",
    "from Repositories.Members import *\n",
    "from Repositories.Products import *\n",
    "from Repositories.Sessions import *\n",
    "from Applications.Members import *\n",
    "\n",
    "from Storages.Sessions import *\n",
    "from Storages.Members import *\n",
    "\n",
    "from Applications.Members import AdminService\n",
    "\n",
    "from icecream import ic"
   ]
  },
  {
   "cell_type": "code",
   "execution_count": 2,
   "metadata": {},
   "outputs": [
    {
     "name": "stdout",
     "output_type": "stream",
     "text": [
      "MemberSession(key=UUID('bfb5f0f2-a36d-41c5-8b63-93ac36e3d3e1'), name='관리자', role=<RoleType.ADMIN: 'admin'>, member_id=MemberID(uuid=UUID('5fbbbb86-9705-4890-8635-b95564e3c3a7'), sequence=-1))\n"
     ]
    }
   ],
   "source": [
    "# 로그인\n",
    "login_service = AuthenticationMemberService(\n",
    "            auth_member_repo=MySqlLoginAuthentication(),\n",
    "            session_repo=MySqlMakeSaveMemberSession(),\n",
    "        )\n",
    "match login_service.login(\"admin\", \"admin\"):\n",
    "    case Ok(session):\n",
    "        login_session = session\n",
    "        print(login_session)\n",
    "    case e:\n",
    "        assert False, f\"{e}\""
   ]
  },
  {
   "cell_type": "code",
   "execution_count": 7,
   "metadata": {},
   "outputs": [
    {
     "data": {
      "text/plain": [
       "Err('Permission denied')"
      ]
     },
     "execution_count": 7,
     "metadata": {},
     "output_type": "execute_result"
    }
   ],
   "source": [
    "admin = AdminService(MySqlGetMember(),MySqlEditMember(),MySqlLoadSession())\n",
    "key = \"5ccf7676a51d467aad4d8ce7711421e1\"  #log_session-buyer\n",
    "role = \"seller\"\n",
    "id = \"d9829809c9cd4636a405e8e628378377\"  #snddjk234\n",
    "admin.change_role(key, role, id)\n"
   ]
  },
  {
   "cell_type": "code",
   "execution_count": 4,
   "metadata": {},
   "outputs": [
    {
     "data": {
      "text/plain": [
       "Ok(MemberID(uuid=UUID('d9829809-c9cd-4636-a405-e8e628378377'), sequence=-1))"
      ]
     },
     "execution_count": 4,
     "metadata": {},
     "output_type": "execute_result"
    }
   ],
   "source": [
    "admin = AdminService(MySqlGetMember(),MySqlEditMember(),MySqlLoadSession())\n",
    "role = \"seller\"\n",
    "id = \"d9829809c9cd4636a405e8e628378377\"\n",
    "admin.change_role(login_session.get_id(), role, id)"
   ]
  }
 ],
 "metadata": {
  "kernelspec": {
   "display_name": "Python 3",
   "language": "python",
   "name": "python3"
  },
  "language_info": {
   "codemirror_mode": {
    "name": "ipython",
    "version": 3
   },
   "file_extension": ".py",
   "mimetype": "text/x-python",
   "name": "python",
   "nbconvert_exporter": "python",
   "pygments_lexer": "ipython3",
   "version": "3.12.0"
  }
 },
 "nbformat": 4,
 "nbformat_minor": 2
}
