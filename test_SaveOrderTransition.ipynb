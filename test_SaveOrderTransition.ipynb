{
 "cells": [
  {
   "cell_type": "code",
   "execution_count": 1,
   "metadata": {},
   "outputs": [],
   "source": [
    "import __init__\n",
    "from abc import ABCMeta, abstractmethod\n",
    "from typing import Optional\n",
    "from result import Result, Err, Ok\n",
    "\n",
    "from Domains.Members import *\n",
    "from Domains.Sessions import *\n",
    "from Repositories.Members import *\n",
    "from Repositories.Sessions import *\n",
    "from Builders.Members import *\n",
    "from Repositories.Sessions import ISaveableOrderTransition\n",
    "from Storages.Sessions.SaveOrderTransition import SaveOrderTransition\n",
    "from uuid import UUID\n",
    "\n",
    "import pymysql\n",
    "\n",
    "from icecream import ic"
   ]
  },
  {
   "cell_type": "code",
   "execution_count": 4,
   "metadata": {},
   "outputs": [
    {
     "data": {
      "text/plain": [
       "Ok(OrderTransitionSession(key=UUID('16a7ae54-8ab7-42dd-be33-47ea53aa1ea4'), order=Order(id=OrderID(uuid=UUID('69a85130-37cb-4ddc-a057-585a2a6cd1b3'), sequence=-1), product_id=ProductID(uuid=UUID('bc22729c-8da9-4415-bad1-56fb3fffa01a'), sequence=-1), buyer_id=MemberID(uuid=UUID('b91b6d56-3edf-4668-8c7e-358cad8ba8a3'), sequence=-1), recipient_name='김지희', recipient_phone='01012345678', recipient_address='서울시 동작구', product_name='dump', product_img_path='dump', buy_count=2, total_price=340000, order_date=datetime.datetime(2024, 3, 1, 21, 17, 32, 661943)), is_success=None))"
      ]
     },
     "execution_count": 4,
     "metadata": {},
     "output_type": "execute_result"
    }
   ],
   "source": [
    "temp = SaveOrderTransition()\n",
    "temp.save_order_transition(OrderTransitionBuilder().set_key().set_buyer_id(\"b91b6d563edf46688c7e358cad8ba8a3\").set_recipient_name(\"김지희\").set_recipient_phone(\"01012345678\").set_recipient_address(\"서울시 동작구\").set_product_id(\"bc22729c8da94415bad156fb3fffa01a\").set_count(2).set_total_price(340000).build())"
   ]
  },
  {
   "cell_type": "code",
   "execution_count": 3,
   "metadata": {},
   "outputs": [
    {
     "data": {
      "text/plain": [
       "Ok(OrderTransitionSession(key=UUID('93daff5f-715d-4d1b-a201-cecd88777381'), order=Order(id=OrderID(uuid=UUID('35761ea0-e0aa-4fc4-8f95-66bee6a1c10c'), sequence=-1), product_id=ProductID(uuid=UUID('d22f810c-aaea-4bbc-9f81-e8b0bc0f54f7'), sequence=-1), buyer_id=MemberID(uuid=UUID('b91b6d56-3edf-4668-8c7e-358cad8ba8a3'), sequence=-1), recipient_name='이지연', recipient_phone='01098765431', recipient_address='서울시 광진구', product_name='dump', product_img_path='dump', buy_count=2, total_price=340000, order_date=datetime.datetime(2024, 3, 1, 21, 17, 31, 240766)), is_success=None))"
      ]
     },
     "execution_count": 3,
     "metadata": {},
     "output_type": "execute_result"
    }
   ],
   "source": [
    "temp = SaveOrderTransition()\n",
    "temp.save_order_transition(OrderTransitionBuilder().set_key().set_buyer_id(\"b91b6d563edf46688c7e358cad8ba8a3\").set_recipient_name(\"이지연\").set_recipient_phone(\"01098765431\").set_recipient_address(\"서울시 광진구\").set_product_id(\"d22f810caaea4bbc9f81e8b0bc0f54f7\").set_count(2).set_total_price(340000).build())"
   ]
  },
  {
   "cell_type": "code",
   "execution_count": 2,
   "metadata": {},
   "outputs": [
    {
     "data": {
      "text/plain": [
       "Ok(OrderTransitionSession(key=UUID('93daff5f-715d-4d1b-a201-cecd88777381'), order=Order(id=OrderID(uuid=UUID('966c90b0-6c67-4337-bda5-1262310a0a8f'), sequence=-1), product_id=ProductID(uuid=UUID('d22f810c-aaea-4bbc-9f81-e8b0bc0f54f7'), sequence=-1), buyer_id=MemberID(uuid=UUID('b91b6d56-3edf-4668-8c7e-358cad8ba8a3'), sequence=-1), recipient_name='이지연', recipient_phone='01098765431', recipient_address='서울시 광진구', product_name='dump', product_img_path='dump', buy_count=2, total_price=340000, order_date=datetime.datetime(2024, 3, 1, 21, 44, 1, 617707)), is_success=None))"
      ]
     },
     "execution_count": 2,
     "metadata": {},
     "output_type": "execute_result"
    }
   ],
   "source": [
    "temp = SaveOrderTransition()\n",
    "temp.update_order_transition(OrderTransitionBuilder().set_key(\"93daff5f715d4d1ba201cecd88777381\").set_buyer_id(\"b91b6d563edf46688c7e358cad8ba8a3\").set_recipient_name(\"이지연\").set_recipient_phone(\"01098765431\").set_recipient_address(\"서울시 광진구\").set_product_id(\"d22f810caaea4bbc9f81e8b0bc0f54f7\").set_count(2).set_total_price(340000).build())"
   ]
  },
  {
   "cell_type": "code",
   "execution_count": 3,
   "metadata": {},
   "outputs": [
    {
     "data": {
      "text/plain": [
       "Ok(OrderTransitionSession(key=UUID('2227ae54-8ab7-42dd-be33-47ea53aa1ea4'), order=Order(id=OrderID(uuid=UUID('c234044e-4b47-4dca-bbcd-980c5bd218bf'), sequence=-1), product_id=ProductID(uuid=UUID('bc22729c-8da9-4415-bad1-56fb3fffa01a'), sequence=-1), buyer_id=MemberID(uuid=UUID('b91b6d56-3edf-4668-8c7e-358cad8ba8a3'), sequence=-1), recipient_name='김지희', recipient_phone='01012345678', recipient_address='서울시 동작구', product_name='dump', product_img_path='dump', buy_count=2, total_price=340000, order_date=datetime.datetime(2024, 3, 1, 21, 44, 21, 279765)), is_success=None))"
      ]
     },
     "execution_count": 3,
     "metadata": {},
     "output_type": "execute_result"
    }
   ],
   "source": [
    "temp = SaveOrderTransition()\n",
    "temp.update_order_transition(OrderTransitionBuilder().set_key(\"2227ae548ab742ddbe3347ea53aa1ea4\").set_buyer_id(\"b91b6d563edf46688c7e358cad8ba8a3\").set_recipient_name(\"김지희\").set_recipient_phone(\"01012345678\").set_recipient_address(\"서울시 동작구\").set_product_id(\"bc22729c8da94415bad156fb3fffa01a\").set_count(2).set_total_price(340000).build())"
   ]
  }
 ],
 "metadata": {
  "kernelspec": {
   "display_name": "Python 3",
   "language": "python",
   "name": "python3"
  },
  "language_info": {
   "codemirror_mode": {
    "name": "ipython",
    "version": 3
   },
   "file_extension": ".py",
   "mimetype": "text/x-python",
   "name": "python",
   "nbconvert_exporter": "python",
   "pygments_lexer": "ipython3",
   "version": "3.12.0"
  }
 },
 "nbformat": 4,
 "nbformat_minor": 2
}
