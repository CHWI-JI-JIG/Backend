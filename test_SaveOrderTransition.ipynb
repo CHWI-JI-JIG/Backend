{
 "cells": [
  {
   "cell_type": "code",
   "execution_count": 1,
   "metadata": {},
   "outputs": [],
   "source": [
    "import __init__\n",
    "from abc import ABCMeta, abstractmethod\n",
    "from typing import Optional\n",
    "from result import Result, Err, Ok\n",
    "\n",
    "from Domains.Members import *\n",
    "from Domains.Sessions import *\n",
    "from Repositories.Members import *\n",
    "from Repositories.Sessions import *\n",
    "from Builders.Members import *\n",
    "from Repositories.Sessions import ISaveableOrderTransition\n",
    "from Storages.Sessions.SaveOrderTransition import SaveOrderTransition\n",
    "from uuid import UUID\n",
    "\n",
    "import pymysql\n",
    "\n",
    "from icecream import ic"
   ]
  },
  {
   "cell_type": "code",
   "execution_count": 16,
   "metadata": {},
   "outputs": [
    {
     "data": {
      "text/plain": [
       "Ok(OrderTransitionSession(key=UUID('34a7e5b3-4e1c-43e6-8002-8a361000f887'), order=Order(id=OrderID(uuid=UUID('c0051bfb-52d5-4b7c-8d84-4cd0e07a99ef'), sequence=-1), product_id=ProductID(uuid=UUID('bc22729c-8da9-4415-bad1-56fb3fffa01a'), sequence=-1), buyer_id=MemberID(uuid=UUID('b91b6d56-3edf-4668-8c7e-358cad8ba8a3'), sequence=-1), recipient_name='김지희', recipient_phone='01012345678', recipient_address='서울시 동작구', product_name='dump', product_img_path='dump', buy_count=2, total_price=340000, order_date=datetime.datetime(2024, 3, 1, 20, 21, 10, 286420))))"
      ]
     },
     "execution_count": 16,
     "metadata": {},
     "output_type": "execute_result"
    }
   ],
   "source": [
    "temp = SaveOrderTransition()\n",
    "temp.save_order_transition(OrderTransitionBuilder().set_key().set_buyer_id(\"b91b6d563edf46688c7e358cad8ba8a3\").set_recipient_name(\"김지희\").set_recipient_phone(\"01012345678\").set_recipient_address(\"서울시 동작구\").set_product_id(\"bc22729c8da94415bad156fb3fffa01a\").set_count(2).set_total_price(340000).build())"
   ]
  },
  {
   "cell_type": "code",
   "execution_count": 17,
   "metadata": {},
   "outputs": [
    {
     "data": {
      "text/plain": [
       "Ok(OrderTransitionSession(key=UUID('b83702c1-ed59-4e17-b460-2804bf24f6e0'), order=Order(id=OrderID(uuid=UUID('535f274d-4a4c-4da2-b0bd-80e73ccc3bb2'), sequence=-1), product_id=ProductID(uuid=UUID('d22f810c-aaea-4bbc-9f81-e8b0bc0f54f7'), sequence=-1), buyer_id=MemberID(uuid=UUID('b91b6d56-3edf-4668-8c7e-358cad8ba8a3'), sequence=-1), recipient_name='이지연', recipient_phone='01098765431', recipient_address='서울시 광진구', product_name='dump', product_img_path='dump', buy_count=2, total_price=340000, order_date=datetime.datetime(2024, 3, 1, 20, 33, 1, 662498))))"
      ]
     },
     "execution_count": 17,
     "metadata": {},
     "output_type": "execute_result"
    }
   ],
   "source": [
    "temp = SaveOrderTransition()\n",
    "temp.save_order_transition(OrderTransitionBuilder().set_key().set_buyer_id(\"b91b6d563edf46688c7e358cad8ba8a3\").set_recipient_name(\"이지연\").set_recipient_phone(\"01098765431\").set_recipient_address(\"서울시 광진구\").set_product_id(\"d22f810caaea4bbc9f81e8b0bc0f54f7\").set_count(2).set_total_price(340000).build())"
   ]
  }
 ],
 "metadata": {
  "kernelspec": {
   "display_name": "Python 3",
   "language": "python",
   "name": "python3"
  },
  "language_info": {
   "codemirror_mode": {
    "name": "ipython",
    "version": 3
   },
   "file_extension": ".py",
   "mimetype": "text/x-python",
   "name": "python",
   "nbconvert_exporter": "python",
   "pygments_lexer": "ipython3",
   "version": "3.12.0"
  }
 },
 "nbformat": 4,
 "nbformat_minor": 2
}
