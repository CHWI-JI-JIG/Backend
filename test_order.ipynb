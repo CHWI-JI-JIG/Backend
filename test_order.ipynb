{
 "cells": [
  {
   "cell_type": "code",
   "execution_count": 1,
   "metadata": {},
   "outputs": [],
   "source": [
    "import __init__\n",
    "from get_config_data import get_db_padding\n",
    "from Migrations import MySqlCreateOrder\n",
    "from Storages.Orders import MySqlSaveOrder, MySqlGetOrder\n",
    "from Builders.Orders import *\n",
    "from Builders.Members import *\n",
    "from Builders.Products import *\n",
    "from Repositories.Orders import *\n",
    "from Domains.Orders import *\n",
    "\n",
    "from result import Result,Ok,Err\n",
    "\n",
    "from datetime import datetime\n",
    "\n",
    "from icecream import ic"
   ]
  },
  {
   "cell_type": "code",
   "execution_count": 8,
   "metadata": {},
   "outputs": [],
   "source": [
    "sql=MySqlCreateOrder(get_db_padding())"
   ]
  },
  {
   "cell_type": "code",
   "execution_count": 11,
   "metadata": {},
   "outputs": [],
   "source": [
    "sql.create_order()"
   ]
  },
  {
   "cell_type": "code",
   "execution_count": 12,
   "metadata": {},
   "outputs": [
    {
     "data": {
      "text/plain": [
       "True"
      ]
     },
     "execution_count": 12,
     "metadata": {},
     "output_type": "execute_result"
    }
   ],
   "source": [
    "sql.check_exist_order()"
   ]
  },
  {
   "cell_type": "code",
   "execution_count": 9,
   "metadata": {},
   "outputs": [],
   "source": [
    "sql.delete_order()"
   ]
  },
  {
   "cell_type": "code",
   "execution_count": 13,
   "metadata": {},
   "outputs": [
    {
     "name": "stderr",
     "output_type": "stream",
     "text": [
      "ic| uid: ProductID(uuid=UUID('12d8c129-2afb-4e79-92a9-5b4cc10ac5cd'), sequence=1)\n",
      "ic| id: OrderID(uuid=UUID('f65004d5-6218-4440-b64b-27f255afe112'), sequence=1)\n"
     ]
    },
    {
     "data": {
      "text/plain": [
       "OrderID(uuid=UUID('f65004d5-6218-4440-b64b-27f255afe112'), sequence=1)"
      ]
     },
     "execution_count": 13,
     "metadata": {},
     "output_type": "execute_result"
    }
   ],
   "source": [
    "id = (OrderIDBuilder().set_uuid().set_seqence(1).build())\n",
    "uid = (ProductIDBuilder().set_uuid(\"12d8c1292afb4e7992a95b4cc10ac5cd\").set_seqence(1).build())  # product_id\n",
    "mid = (MemberIDBuilder().set_uuid(\"2bac0d9ea48c4d2aa354129768b2354e\").build())  # buyer_id\n",
    "ic(uid)\n",
    "\n",
    "order = Order(\n",
    "    id=id,\n",
    "    product_id = uid,\n",
    "    buyer_id=mid,\n",
    "    buyer_account=\"\",\n",
    "    buyer_phone=\"\",\n",
    "    buyer_address=\"\",\n",
    "    product_name=\"\",\n",
    "    product_img_path=\"\",\n",
    "    buy_count = \"2\",\n",
    "    total_price = \"340000\",\n",
    "    order_date = datetime.now(),\n",
    ")\n",
    "\n",
    "ic(id)"
   ]
  },
  {
   "cell_type": "code",
   "execution_count": 15,
   "metadata": {},
   "outputs": [
    {
     "name": "stderr",
     "output_type": "stream",
     "text": [
      "ic| uid: ProductID(uuid=UUID('74aba1d7-e997-43db-bde7-1dc5cd06daf2'), sequence=1)\n"
     ]
    }
   ],
   "source": [
    "id = (OrderIDBuilder().set_uuid().set_seqence(1).build())\n",
    "uid = (ProductIDBuilder().set_uuid(\"74aba1d7e99743dbbde71dc5cd06daf2\").set_seqence(1).build())  # product_id\n",
    "mid = (MemberIDBuilder().set_uuid(\"2bac0d9ea48c4d2aa354129768b2354e\").build())  # buyer_id\n",
    "ic(uid)\n",
    "\n",
    "order = Order(\n",
    "    id=id,\n",
    "    product_id = uid,\n",
    "    buyer_id=mid,\n",
    "    buyer_account=\"\",\n",
    "    buyer_phone=\"\",\n",
    "    buyer_address=\"\",\n",
    "    product_name=\"\",\n",
    "    product_img_path=\"\",\n",
    "    buy_count = \"2\",\n",
    "    total_price = \"340000\",\n",
    "    order_date = datetime.now(),\n",
    ")"
   ]
  },
  {
   "cell_type": "code",
   "execution_count": 17,
   "metadata": {},
   "outputs": [
    {
     "name": "stderr",
     "output_type": "stream",
     "text": [
      "ic| uid: ProductID(uuid=UUID('c990fc5d-9506-4f97-9135-c41ffe32954d'), sequence=1)\n"
     ]
    }
   ],
   "source": [
    "id = (OrderIDBuilder().set_uuid().set_seqence(1).build())\n",
    "uid = (ProductIDBuilder().set_uuid(\"c990fc5d95064f979135c41ffe32954d\").set_seqence(1).build())  # product_id\n",
    "mid = (MemberIDBuilder().set_uuid(\"360d8ccde8ba4664845e71023a2510d7\").build())  # buyer_id\n",
    "ic(uid)\n",
    "\n",
    "order = Order(\n",
    "    id=id,\n",
    "    product_id = uid,\n",
    "    buyer_id=mid,\n",
    "    buyer_account=\"\",\n",
    "    buyer_phone=\"\",\n",
    "    buyer_address=\"\",\n",
    "    product_name=\"\",\n",
    "    product_img_path=\"\",\n",
    "    buy_count = \"2\",\n",
    "    total_price = \"340000\",\n",
    "    order_date = datetime.now(),\n",
    ")"
   ]
  },
  {
   "cell_type": "code",
   "execution_count": 19,
   "metadata": {},
   "outputs": [
    {
     "name": "stderr",
     "output_type": "stream",
     "text": [
      "ic| uid: ProductID(uuid=UUID('aab39651-47f2-4e0a-8d41-1772411fc97d'), sequence=1)\n"
     ]
    }
   ],
   "source": [
    "id = (OrderIDBuilder().set_uuid().set_seqence(1).build())\n",
    "uid = (ProductIDBuilder().set_uuid(\"aab3965147f24e0a8d411772411fc97d\").set_seqence(1).build())  # product_id\n",
    "mid = (MemberIDBuilder().set_uuid(\"360d8ccde8ba4664845e71023a2510d7\").build())  # buyer_id\n",
    "ic(uid)\n",
    "\n",
    "order = Order(\n",
    "    id=id,\n",
    "    product_id = uid,\n",
    "    buyer_id=mid,\n",
    "    buyer_account=\"\",\n",
    "    buyer_phone=\"\",\n",
    "    buyer_address=\"\",\n",
    "    product_name=\"\",\n",
    "    product_img_path=\"\",\n",
    "    buy_count = \"2\",\n",
    "    total_price = \"340000\",\n",
    "    order_date = datetime.now(),\n",
    ")"
   ]
  },
  {
   "cell_type": "code",
   "execution_count": 20,
   "metadata": {},
   "outputs": [
    {
     "data": {
      "text/plain": [
       "Ok(UUID('fee2cf06-3639-4f53-b6c9-b1c95e28609c'))"
      ]
     },
     "execution_count": 20,
     "metadata": {},
     "output_type": "execute_result"
    }
   ],
   "source": [
    "create=MySqlSaveOrder(get_db_padding())\n",
    "create.save_order(order)"
   ]
  },
  {
   "cell_type": "code",
   "execution_count": 3,
   "metadata": {},
   "outputs": [
    {
     "data": {
      "text/plain": [
       "Ok((3, [Order(id=OrderID(uuid=UUID('fee2cf06-3639-4f53-b6c9-b1c95e28609c'), sequence=-1), product_id='aab3965147f24e0a8d411772411fc97d', buyer_id='360d8ccde8ba4664845e71023a2510d7', buyer_account='zxcv', buyer_phone='01067541234', buyer_address='전라북도 익산', product_name='식기건조기', product_img_path='/path/to/image10.jpg', buy_count=2, total_price=340000, order_date=datetime.datetime(2024, 2, 28, 9, 44, 18)), Order(id=OrderID(uuid=UUID('55565124-b1f0-427f-bc3e-53b8a0dc67c8'), sequence=-1), product_id='74aba1d7e99743dbbde71dc5cd06daf2', buyer_id='2bac0d9ea48c4d2aa354129768b2354e', buyer_account='abrst', buyer_phone='01036574774', buyer_address='서울시 구로구', product_name='오븐', product_img_path='/path/to/image10.jpg', buy_count=2, total_price=340000, order_date=datetime.datetime(2024, 2, 28, 9, 44, 3)), Order(id=OrderID(uuid=UUID('f65004d5-6218-4440-b64b-27f255afe112'), sequence=-1), product_id='12d8c1292afb4e7992a95b4cc10ac5cd', buyer_id='2bac0d9ea48c4d2aa354129768b2354e', buyer_account='abrst', buyer_phone='01036574774', buyer_address='서울시 구로구', product_name='포크', product_img_path='/path/to/image10.jpg', buy_count=2, total_price=340000, order_date=datetime.datetime(2024, 2, 28, 9, 43, 49))]))"
      ]
     },
     "execution_count": 3,
     "metadata": {},
     "output_type": "execute_result"
    }
   ],
   "source": [
    "get=MySqlGetOrder(get_db_padding())\n",
    "get.get_orders_by_seller_id(MemberIDBuilder().set_uuid(\"95156d4c13b6440abd567fcae5a94259\").build()) # seller_id"
   ]
  },
  {
   "cell_type": "code",
   "execution_count": 2,
   "metadata": {},
   "outputs": [
    {
     "data": {
      "text/plain": [
       "Ok((2, [Order(id=OrderID(uuid=UUID('55565124-b1f0-427f-bc3e-53b8a0dc67c8'), sequence=-1), product_id='74aba1d7e99743dbbde71dc5cd06daf2', buyer_id='2bac0d9ea48c4d2aa354129768b2354e', buyer_account='abrst', buyer_phone='01036574774', buyer_address='서울시 구로구', product_name='오븐', product_img_path='/path/to/image10.jpg', buy_count=2, total_price=340000, order_date=datetime.datetime(2024, 2, 28, 9, 44, 3)), Order(id=OrderID(uuid=UUID('f65004d5-6218-4440-b64b-27f255afe112'), sequence=-1), product_id='12d8c1292afb4e7992a95b4cc10ac5cd', buyer_id='2bac0d9ea48c4d2aa354129768b2354e', buyer_account='abrst', buyer_phone='01036574774', buyer_address='서울시 구로구', product_name='포크', product_img_path='/path/to/image10.jpg', buy_count=2, total_price=340000, order_date=datetime.datetime(2024, 2, 28, 9, 43, 49))]))"
      ]
     },
     "execution_count": 2,
     "metadata": {},
     "output_type": "execute_result"
    }
   ],
   "source": [
    "get=MySqlGetOrder(get_db_padding())\n",
    "get.get_orders_by_buyer_id(MemberIDBuilder().set_uuid(\"2bac0d9ea48c4d2aa354129768b2354e\").build())"
   ]
  }
 ],
 "metadata": {
  "kernelspec": {
   "display_name": "Python 3",
   "language": "python",
   "name": "python3"
  },
  "language_info": {
   "codemirror_mode": {
    "name": "ipython",
    "version": 3
   },
   "file_extension": ".py",
   "mimetype": "text/x-python",
   "name": "python",
   "nbconvert_exporter": "python",
   "pygments_lexer": "ipython3",
   "version": "3.12.0"
  }
 },
 "nbformat": 4,
 "nbformat_minor": 2
}
