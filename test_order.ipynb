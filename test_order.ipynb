{
 "cells": [
  {
   "cell_type": "code",
   "execution_count": 2,
   "metadata": {},
   "outputs": [],
   "source": [
    "\n",
    "import __init__\n",
    "from get_config_data import get_db_padding\n",
    "from Migrations import MySqlCreateOrder\n",
    "from Storages.Orders import MySqlSaveOrder, MySqlGetOrder\n",
    "from Builders.Orders import *\n",
    "from Builders.Members import *\n",
    "from Builders.Products import *\n",
    "from Repositories.Orders import *\n",
    "from Repositories.Sessions import *\n",
    "from Repositories.Products import *\n",
    "from Domains.Orders import *\n",
    "from Applications.Orders import *\n",
    "\n",
    "from Storages.Sessions import *\n",
    "from Storages.Products import *\n",
    "from Storages.Members import *\n",
    "from Applications.Members import *\n",
    "\n",
    "from result import Result,Ok,Err\n",
    "\n",
    "from datetime import datetime\n",
    "\n",
    "from icecream import ic"
   ]
  },
  {
   "cell_type": "code",
   "execution_count": 2,
   "metadata": {},
   "outputs": [],
   "source": [
    "sql=MySqlCreateOrder(get_db_padding())"
   ]
  },
  {
   "cell_type": "code",
   "execution_count": 9,
   "metadata": {},
   "outputs": [],
   "source": [
    "sql.create_order()"
   ]
  },
  {
   "cell_type": "code",
   "execution_count": 3,
   "metadata": {},
   "outputs": [
    {
     "data": {
      "text/plain": [
       "True"
      ]
     },
     "execution_count": 3,
     "metadata": {},
     "output_type": "execute_result"
    }
   ],
   "source": [
    "sql.check_exist_order()"
   ]
  },
  {
   "cell_type": "code",
   "execution_count": 5,
   "metadata": {},
   "outputs": [],
   "source": [
    "sql.delete_order()"
   ]
  },
  {
   "cell_type": "code",
   "execution_count": 13,
   "metadata": {},
   "outputs": [
    {
     "name": "stderr",
     "output_type": "stream",
     "text": [
      "ic| uid: ProductID(uuid=UUID('12d8c129-2afb-4e79-92a9-5b4cc10ac5cd'), sequence=1)\n",
      "ic| id: OrderID(uuid=UUID('f65004d5-6218-4440-b64b-27f255afe112'), sequence=1)\n"
     ]
    },
    {
     "data": {
      "text/plain": [
       "OrderID(uuid=UUID('f65004d5-6218-4440-b64b-27f255afe112'), sequence=1)"
      ]
     },
     "execution_count": 13,
     "metadata": {},
     "output_type": "execute_result"
    }
   ],
   "source": [
    "id = (OrderIDBuilder().set_uuid().set_seqence(1).build())\n",
    "uid = (ProductIDBuilder().set_uuid(\"12d8c1292afb4e7992a95b4cc10ac5cd\").set_seqence(1).build())  # product_id\n",
    "mid = (MemberIDBuilder().set_uuid(\"2bac0d9ea48c4d2aa354129768b2354e\").build())  # buyer_id\n",
    "ic(uid)\n",
    "\n",
    "order = Order(\n",
    "    id=id,\n",
    "    product_id = uid,\n",
    "    buyer_id=mid,\n",
    "    buyer_account=\"\",\n",
    "    buyer_phone=\"\",\n",
    "    buyer_address=\"\",\n",
    "    product_name=\"\",\n",
    "    product_img_path=\"\",\n",
    "    buy_count = \"2\",\n",
    "    total_price = \"340000\",\n",
    "    order_date = datetime.now(),\n",
    ")\n",
    "\n",
    "ic(id)"
   ]
  },
  {
   "cell_type": "code",
   "execution_count": 15,
   "metadata": {},
   "outputs": [
    {
     "name": "stderr",
     "output_type": "stream",
     "text": [
      "ic| uid: ProductID(uuid=UUID('74aba1d7-e997-43db-bde7-1dc5cd06daf2'), sequence=1)\n"
     ]
    }
   ],
   "source": [
    "id = (OrderIDBuilder().set_uuid().set_seqence(1).build())\n",
    "uid = (ProductIDBuilder().set_uuid(\"74aba1d7e99743dbbde71dc5cd06daf2\").set_seqence(1).build())  # product_id\n",
    "mid = (MemberIDBuilder().set_uuid(\"2bac0d9ea48c4d2aa354129768b2354e\").build())  # buyer_id\n",
    "ic(uid)\n",
    "\n",
    "order = Order(\n",
    "    id=id,\n",
    "    product_id = uid,\n",
    "    buyer_id=mid,\n",
    "    buyer_account=\"\",\n",
    "    buyer_phone=\"\",\n",
    "    buyer_address=\"\",\n",
    "    product_name=\"\",\n",
    "    product_img_path=\"\",\n",
    "    buy_count = \"2\",\n",
    "    total_price = \"340000\",\n",
    "    order_date = datetime.now(),\n",
    ")"
   ]
  },
  {
   "cell_type": "code",
   "execution_count": 17,
   "metadata": {},
   "outputs": [
    {
     "name": "stderr",
     "output_type": "stream",
     "text": [
      "ic| uid: ProductID(uuid=UUID('c990fc5d-9506-4f97-9135-c41ffe32954d'), sequence=1)\n"
     ]
    }
   ],
   "source": [
    "id = (OrderIDBuilder().set_uuid().set_seqence(1).build())\n",
    "uid = (ProductIDBuilder().set_uuid(\"c990fc5d95064f979135c41ffe32954d\").set_seqence(1).build())  # product_id\n",
    "mid = (MemberIDBuilder().set_uuid(\"360d8ccde8ba4664845e71023a2510d7\").build())  # buyer_id\n",
    "ic(uid)\n",
    "\n",
    "order = Order(\n",
    "    id=id,\n",
    "    product_id = uid,\n",
    "    buyer_id=mid,\n",
    "    buyer_account=\"\",\n",
    "    buyer_phone=\"\",\n",
    "    buyer_address=\"\",\n",
    "    product_name=\"\",\n",
    "    product_img_path=\"\",\n",
    "    buy_count = \"2\",\n",
    "    total_price = \"340000\",\n",
    "    order_date = datetime.now(),\n",
    ")"
   ]
  },
  {
   "cell_type": "code",
   "execution_count": 5,
   "metadata": {},
   "outputs": [
    {
     "name": "stderr",
     "output_type": "stream",
     "text": [
      "ic| uid: ProductID(uuid=UUID('995c4f9a-20ef-41f8-8288-c7dd9abf68f6'), sequence=-1)\n"
     ]
    }
   ],
   "source": [
    "id = (OrderIDBuilder().set_uuid().unwrap().build())\n",
    "uid = (ProductIDBuilder().set_uuid(\"995c4f9a20ef41f88288c7dd9abf68f6\").unwrap().build())  # product_id\n",
    "mid = (MemberIDBuilder().set_uuid(\"5cae0c92f95e4e7093db2a5967a26017\").unwrap().build())  # buyer_id\n",
    "ic(uid)\n",
    "\n",
    "order = Order(\n",
    "    id=id,\n",
    "    product_id = uid,\n",
    "    buyer_id=mid,\n",
    "    recipient_name=\"김지희\",\n",
    "    recipient_phone=\"01012345678\",\n",
    "    recipient_address=\"서울시 동작구\",\n",
    "    product_name=\"\",\n",
    "    product_img_path=\"\",\n",
    "    buy_count = \"2\",\n",
    "    total_price = \"340000\",\n",
    "    order_date = datetime.now(),\n",
    ")"
   ]
  },
  {
   "cell_type": "code",
   "execution_count": 6,
   "metadata": {},
   "outputs": [
    {
     "data": {
      "text/plain": [
       "Ok(OrderID(uuid=UUID('309a4339-da97-43a1-890f-091ea71b53d4'), sequence=-1))"
      ]
     },
     "execution_count": 6,
     "metadata": {},
     "output_type": "execute_result"
    }
   ],
   "source": [
    "create=MySqlSaveOrder(get_db_padding())\n",
    "create.save_order(order)"
   ]
  },
  {
   "cell_type": "code",
   "execution_count": 7,
   "metadata": {},
   "outputs": [
    {
     "data": {
      "text/plain": [
       "Ok((11, [Order(id=OrderID(uuid=UUID('c27cc371-bf0e-4bc6-b9cc-5c0fd9643174'), sequence=-1), product_id='ddee9ead34254638b6e83e2853fcde18', buyer_id='1dd226115a3048698ab4abc351dc6d50', recipient_name='박주혁', recipient_phone='01077654432', recipient_address='서울시 양천구', product_name='공식 쿠쿠 CRP-N0680SSM 6인용 열판 전기압력밥솥', product_img_path='img11.png', buy_count=2, total_price=340000, order_date=datetime.datetime(2024, 3, 1, 15, 30, 43)), Order(id=OrderID(uuid=UUID('8e5de0b8-7e88-4c2c-8611-89d6a6e24eaa'), sequence=-1), product_id='399ae5838899441ba6caf82f842329b8', buyer_id='1dd226115a3048698ab4abc351dc6d50', recipient_name='강지민', recipient_phone='01033678823', recipient_address='서울시 금천구', product_name='쿠쿠 전기보온밥솥 6인용 CR-0671V', product_img_path='img10.png', buy_count=2, total_price=340000, order_date=datetime.datetime(2024, 3, 1, 15, 30, 43)), Order(id=OrderID(uuid=UUID('c5fabcc1-03bf-416f-a0c7-2e4a5fb0f6c1'), sequence=-1), product_id='445fccdb254a4bb3941ae4da9aeb3d1b', buyer_id='1dd226115a3048698ab4abc351dc6d50', recipient_name='강지호', recipient_phone='01047456669', recipient_address='광주광역시 서구 상일로', product_name='3~4인용 5분 바로밥 누룽지 압력 가마솥 압력솥 돌솥 밥솥 밥 [나무받침 주걱 포함] 효도선물 신혼부부선물 추천 3) 4~5인용(1.6L)', product_img_path='img09.png', buy_count=2, total_price=340000, order_date=datetime.datetime(2024, 3, 1, 15, 30, 43)), Order(id=OrderID(uuid=UUID('84ac1dde-4b8b-4b87-9894-0e5ab1f394fe'), sequence=-1), product_id='f0f943a926c84649aaa4a54a60806fbc', buyer_id='1dd226115a3048698ab4abc351dc6d50', recipient_name='박종서', recipient_phone='01085569112', recipient_address='경기도 수원시', product_name='쿠쿠 전기압력밥솥 10인용 CRP-P104FB', product_img_path='img08.png', buy_count=2, total_price=340000, order_date=datetime.datetime(2024, 3, 1, 15, 30, 43)), Order(id=OrderID(uuid=UUID('56fb3d52-2615-4689-ae8d-8940e72fa0da'), sequence=-1), product_id='d66215f0a9734a39a6d17eb15e7efd10', buyer_id='1dd226115a3048698ab4abc351dc6d50', recipient_name='Kim jihee', recipient_phone='01036124774', recipient_address='서울시 성동구', product_name='쿠쿠 10인용 전기압력밥솥 CRP-QS1020FGM', product_img_path='img07.png', buy_count=2, total_price=340000, order_date=datetime.datetime(2024, 3, 1, 15, 30, 43)), Order(id=OrderID(uuid=UUID('2f1d74c2-eab6-463c-8106-d3495c2746c3'), sequence=-1), product_id='ca5a4859b18845639d6f2519d40278ea', buyer_id='1dd226115a3048698ab4abc351dc6d50', recipient_name='류교서', recipient_phone='01077548965', recipient_address='서울시 용산구', product_name='맘쿡 전기보온 밥솥 DMC-280 17인용', product_img_path='img06.png', buy_count=2, total_price=340000, order_date=datetime.datetime(2024, 3, 1, 15, 30, 43)), Order(id=OrderID(uuid=UUID('a1b8817b-85d1-4686-9b81-f50f4893123e'), sequence=-1), product_id='e66264ef09804e8d9937d9941558505a', buyer_id='e72880a5b6fa45579a437de476a88d18', recipient_name='김효진', recipient_phone='01022456698', recipient_address='서울시 은평구', product_name='쿠첸 업소용밥솥 WM-3503 35인용', product_img_path='img05.png', buy_count=2, total_price=340000, order_date=datetime.datetime(2024, 3, 1, 15, 30, 43)), Order(id=OrderID(uuid=UUID('387727ad-8ddd-4517-968d-8df60645ea70'), sequence=-1), product_id='eb5a5493b91c435ca8afb38fb88962dc', buyer_id='e72880a5b6fa45579a437de476a88d18', recipient_name='장예서', recipient_phone='01067541234', recipient_address='전라북도 익산', product_name='쿠쿠 전기압력밥솥 6인용 CRP-P0620FDM', product_img_path='img04.png', buy_count=2, total_price=340000, order_date=datetime.datetime(2024, 3, 1, 15, 30, 43)), Order(id=OrderID(uuid=UUID('6b0bb6f5-b38c-4d56-bfe0-9cf3009b54c0'), sequence=-1), product_id='fb16453491e642c792c9e3d5f0b3b1ce', buyer_id='e72880a5b6fa45579a437de476a88d18', recipient_name='Lee Takgun', recipient_phone='01036574774', recipient_address='서울시 구로구', product_name='제벤 디지털 마카롱 밥솥 민트 2~3인용 EURO-RM300K', product_img_path='img03.png', buy_count=2, total_price=340000, order_date=datetime.datetime(2024, 3, 1, 15, 30, 43)), Order(id=OrderID(uuid=UUID('55be0420-3b55-424e-ade3-f85eeae441f4'), sequence=-1), product_id='0b0d346d161c47ef8165a1859f375f68', buyer_id='e72880a5b6fa45579a437de476a88d18', recipient_name='이지연', recipient_phone='01098765431', recipient_address='서울시 광진구', product_name='쿠쿠 전기보온 에그밥솥 6인용 CR-0675FW', product_img_path='img02.png', buy_count=2, total_price=340000, order_date=datetime.datetime(2024, 3, 1, 15, 30, 43))]))"
      ]
     },
     "execution_count": 7,
     "metadata": {},
     "output_type": "execute_result"
    }
   ],
   "source": [
    "get=MySqlGetOrder(get_db_padding())\n",
    "get.get_orders_by_seller_id(MemberIDBuilder().set_uuid(\"a6dcad8293e74a15bb6e3f39f958c660\").build()) # seller_id"
   ]
  },
  {
   "cell_type": "code",
   "execution_count": 4,
   "metadata": {},
   "outputs": [
    {
     "data": {
      "text/plain": [
       "Ok((3, [Order(id=OrderID(uuid=UUID('13bc53d8-e063-48e8-ae5b-6f6b0f2e79d2'), sequence=-1), product_id=ProductID(uuid=UUID('93225437-d68d-4db7-8d32-15cbe794136f'), sequence=-1), buyer_id=MemberID(uuid=UUID('30e66768-df31-46c9-a02a-baeebdd8f6eb'), sequence=-1), recipient_name='김지희', recipient_phone='01012345678', recipient_address='서울시 동작구', product_name='제벤 디지털 마카롱 밥솥 민트 2~3인용 EURO-RM300K', product_img_path='img03.png', buy_count=2, total_price=340000, order_date=datetime.datetime(2024, 3, 22, 19, 16, 18)), Order(id=OrderID(uuid=UUID('52344584-c47d-4887-a013-a70ff80ef9ff'), sequence=-1), product_id=ProductID(uuid=UUID('dcadab5a-e928-4fa0-ae65-8496a27a9872'), sequence=-1), buyer_id=MemberID(uuid=UUID('30e66768-df31-46c9-a02a-baeebdd8f6eb'), sequence=-1), recipient_name='김지희', recipient_phone='01052545077', recipient_address='대구광역시 수성구 달구벌대로 144', product_name='잔망루피X쿠첸 1.5인용 전기밥솥 미니밥솥 CRM-E0101P', product_img_path='0020540466__CRM-E0101P__M_640_640.jpg', buy_count=1, total_price=100, order_date=datetime.datetime(2024, 3, 22, 15, 58, 42)), Order(id=OrderID(uuid=UUID('8cfe0517-552b-4bca-8ff0-47e4b3b59d82'), sequence=-1), product_id=ProductID(uuid=UUID('dcadab5a-e928-4fa0-ae65-8496a27a9872'), sequence=-1), buyer_id=MemberID(uuid=UUID('30e66768-df31-46c9-a02a-baeebdd8f6eb'), sequence=-1), recipient_name='김지희', recipient_phone='01052545077', recipient_address='대구광역시 수성구 달구벌대로 144', product_name='잔망루피X쿠첸 1.5인용 전기밥솥 미니밥솥 CRM-E0101P', product_img_path='0020540466__CRM-E0101P__M_640_640.jpg', buy_count=1, total_price=79000, order_date=datetime.datetime(2024, 3, 22, 15, 52, 32))]))"
      ]
     },
     "execution_count": 4,
     "metadata": {},
     "output_type": "execute_result"
    }
   ],
   "source": [
    "get=MySqlGetOrder(get_db_padding())\n",
    "get.get_orders_by_buyer_id(MemberIDBuilder().set_uuid(\"30e66768df3146c9a02abaeebdd8f6eb\").unwrap().build())"
   ]
  },
  {
   "cell_type": "code",
   "execution_count": null,
   "metadata": {},
   "outputs": [],
   "source": []
  },
  {
   "cell_type": "code",
   "execution_count": 17,
   "metadata": {},
   "outputs": [],
   "source": [
    "pay = OrderPaymentService(MySqlSaveOrder(),MySqlSaveOrderTransition(),MySqlLoadSession(),MySqlGetProduct())\n",
    "#read.get_order_data_for_seller_page(key)"
   ]
  },
  {
   "cell_type": "code",
   "execution_count": 3,
   "metadata": {},
   "outputs": [],
   "source": [
    "login_service = AuthenticationMemberService(\n",
    "            auth_member_repo=MySqlLoginAuthentication(get_db_padding()),\n",
    "            session_repo=MySqlMakeSaveMemberSession(get_db_padding()),\n",
    "        )\n",
    "match login_service.login(\"dfdf\", \"123\"):\n",
    "            case Ok(session):\n",
    "                member_session = session\n",
    "            case e:\n",
    "                assert False, f\"{e}\""
   ]
  },
  {
   "cell_type": "code",
   "execution_count": 18,
   "metadata": {},
   "outputs": [
    {
     "name": "stderr",
     "output_type": "stream",
     "text": [
      "ic| OrderPaymentService.py:92 in publish_order_transition() at 14:49:53.649\n"
     ]
    },
    {
     "data": {
      "text/plain": [
       "Ok(OrderTransitionSession(key=UUID('1d92d3ff-ba8e-45fc-9c78-abbbb659143b'), owner_id=UUID('aaea93af-38e3-4a4c-a23e-41d270117c62'), create_time=datetime.datetime(2024, 3, 25, 14, 49, 53), use_count=0, order=Order(id=OrderID(uuid=UUID('72e848ef-38f7-4c93-bc55-d520c7a45193'), sequence=-1), product_id=ProductID(uuid=UUID('b71281be-f788-4f83-9ef5-336f998096e0'), sequence=-1), buyer_id=MemberID(uuid=UUID('40d3c795-e02d-4a26-82e4-0de2981fea0f'), sequence=-1), recipient_name='김지희', recipient_phone='01012341234', recipient_address='서울시 성동구', product_name='dump', product_img_path='dump', buy_count=2, total_price=89100, order_date=datetime.datetime(2024, 3, 25, 14, 49, 53, 665753)), is_success=None))"
      ]
     },
     "execution_count": 18,
     "metadata": {},
     "output_type": "execute_result"
    }
   ],
   "source": [
    "pay.publish_order_transition(\n",
    "    recipient_name=\"김지희\",\n",
    "    recipient_phone=\"01012341234\",\n",
    "    recipient_address=\"서울시 성동구\",\n",
    "    product_id=\"b71281bef7884f839ef5336f998096e0\",\n",
    "    buy_count= 2,\n",
    "    user_session_key= member_session.serialize_key()\n",
    "    )"
   ]
  },
  {
   "cell_type": "code",
   "execution_count": 19,
   "metadata": {},
   "outputs": [
    {
     "data": {
      "text/plain": [
       "Ok(OrderID(uuid=UUID('583813cd-d65e-4ce4-bd35-b754de5cb21f'), sequence=-1))"
      ]
     },
     "execution_count": 19,
     "metadata": {},
     "output_type": "execute_result"
    }
   ],
   "source": [
    "pay.payment_and_approval_order(\n",
    "    order_transition_session=\"1d92d3ffba8e45fc9c78abbbb659143b\",\n",
    "    payment_success = True\n",
    ")"
   ]
  }
 ],
 "metadata": {
  "kernelspec": {
   "display_name": "Python 3",
   "language": "python",
   "name": "python3"
  },
  "language_info": {
   "codemirror_mode": {
    "name": "ipython",
    "version": 3
   },
   "file_extension": ".py",
   "mimetype": "text/x-python",
   "name": "python",
   "nbconvert_exporter": "python",
   "pygments_lexer": "ipython3",
   "version": "3.12.0"
  }
 },
 "nbformat": 4,
 "nbformat_minor": 2
}
