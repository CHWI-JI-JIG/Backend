{
 "cells": [
  {
   "cell_type": "code",
   "execution_count": 4,
   "metadata": {},
   "outputs": [],
   "source": [
    "import __init__\n",
    "from get_config_data import get_db_padding\n",
    "from Migrations import MySqlCreateOrder\n",
    "from Storages.Orders.MySqlSaveOrder import MySqlSaveOrder\n",
    "from Builders.Orders import *\n",
    "from Builders.Members import *\n",
    "from Builders.Products import *\n",
    "from Repositories.Orders import *\n",
    "from Domains.Orders import *\n",
    "\n",
    "from result import Result,Ok,Err\n",
    "\n",
    "from datetime import datetime\n",
    "\n",
    "from icecream import ic"
   ]
  },
  {
   "cell_type": "code",
   "execution_count": 5,
   "metadata": {},
   "outputs": [],
   "source": [
    "sql=MySqlCreateOrder(get_db_padding())"
   ]
  },
  {
   "cell_type": "code",
   "execution_count": 6,
   "metadata": {},
   "outputs": [],
   "source": [
    "sql.create_order()"
   ]
  },
  {
   "cell_type": "code",
   "execution_count": 7,
   "metadata": {},
   "outputs": [
    {
     "data": {
      "text/plain": [
       "True"
      ]
     },
     "execution_count": 7,
     "metadata": {},
     "output_type": "execute_result"
    }
   ],
   "source": [
    "sql.check_exist_order()"
   ]
  },
  {
   "cell_type": "code",
   "execution_count": 3,
   "metadata": {},
   "outputs": [],
   "source": [
    "sql.delete_order()"
   ]
  },
  {
   "cell_type": "code",
   "execution_count": 8,
   "metadata": {},
   "outputs": [
    {
     "name": "stderr",
     "output_type": "stream",
     "text": [
      "ic| uid: ProductID(uuid=UUID('12d8c129-2afb-4e79-92a9-5b4cc10ac5cd'), sequence=1)\n",
      "ic| id: OrderID(uuid=UUID('210bc560-b5de-40d7-9d15-a78f17229e98'), sequence=1)\n"
     ]
    },
    {
     "data": {
      "text/plain": [
       "OrderID(uuid=UUID('210bc560-b5de-40d7-9d15-a78f17229e98'), sequence=1)"
      ]
     },
     "execution_count": 8,
     "metadata": {},
     "output_type": "execute_result"
    }
   ],
   "source": [
    "id = (OrderIDBuilder().set_uuid().set_seqence(1).build())\n",
    "uid = (ProductIDBuilder().set_uuid(\"12d8c1292afb4e7992a95b4cc10ac5cd\").set_seqence(1).build())\n",
    "mid = (MemberIDBuilder().set_uuid(\"2bac0d9ea48c4d2aa354129768b2354e\").build())\n",
    "ic(uid)\n",
    "\n",
    "order = Order(\n",
    "    id=id,\n",
    "    product_id = uid,\n",
    "    buyer_id=mid,\n",
    "    buyer_account=\"\",\n",
    "    buyer_phone=\"\",\n",
    "    buyer_address=\"\",\n",
    "    product_name=\"\",\n",
    "    product_img_path=\"\",\n",
    "    buy_count = \"2\",\n",
    "    total_price = \"340000\",\n",
    "    order_date = datetime.now(),\n",
    ")\n",
    "\n",
    "ic(id)"
   ]
  },
  {
   "cell_type": "code",
   "execution_count": 9,
   "metadata": {},
   "outputs": [
    {
     "data": {
      "text/plain": [
       "Ok(UUID('210bc560-b5de-40d7-9d15-a78f17229e98'))"
      ]
     },
     "execution_count": 9,
     "metadata": {},
     "output_type": "execute_result"
    }
   ],
   "source": [
    "create=MySqlSaveOrder(get_db_padding())\n",
    "create.save_order(order)"
   ]
  }
 ],
 "metadata": {
  "kernelspec": {
   "display_name": "Python 3",
   "language": "python",
   "name": "python3"
  },
  "language_info": {
   "codemirror_mode": {
    "name": "ipython",
    "version": 3
   },
   "file_extension": ".py",
   "mimetype": "text/x-python",
   "name": "python",
   "nbconvert_exporter": "python",
   "pygments_lexer": "ipython3",
   "version": "3.12.0"
  }
 },
 "nbformat": 4,
 "nbformat_minor": 2
}
