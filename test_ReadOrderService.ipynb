{
 "cells": [
  {
   "cell_type": "code",
   "execution_count": 11,
   "metadata": {},
   "outputs": [],
   "source": [
    "\n",
    "import __init__\n",
    "from abc import ABCMeta, abstractmethod\n",
    "from typing import Optional, Tuple, List\n",
    "from result import Result, Ok, Err\n",
    "from datetime import datetime, timedelta\n",
    "\n",
    "from uuid import uuid4, UUID\n",
    "\n",
    "from Commons.helpers import check_hex_string\n",
    "from Domains.Members import *\n",
    "from Domains.Orders import *\n",
    "from Domains.Sessions import *\n",
    "from Domains.Products import *\n",
    "from Builders.Members import *\n",
    "from Builders.Products import *\n",
    "\n",
    "\n",
    "from Repositories.Members import *\n",
    "from Repositories.Products import IGetableProduct\n",
    "from Repositories.Orders import *\n",
    "from Repositories.Sessions import ILoadableSession\n",
    "\n",
    "from Applications.Orders import *\n",
    "from Applications.Members import *\n",
    "\n",
    "from Storages.Orders import *\n",
    "from Storages.Sessions import *\n",
    "from Storages.Members import *\n",
    "\n",
    "\n",
    "from icecream import ic"
   ]
  },
  {
   "cell_type": "code",
   "execution_count": 6,
   "metadata": {},
   "outputs": [],
   "source": [
    "login = AuthenticationMemberService(\n",
    "    auth_member_repo=LoginVerifiableAuthentication(),\n",
    "    session_repo=MakeSaveMemberSession(),\n",
    ")\n",
    "match login.login(\"zxcv\", \"1qq1\"):\n",
    "    case Ok(auth):\n",
    "        user_id = auth.member_id\n",
    "        key = auth.get_id()\n",
    "    case _:\n",
    "        assert False, \"fail\""
   ]
  },
  {
   "cell_type": "code",
   "execution_count": 7,
   "metadata": {},
   "outputs": [
    {
     "name": "stderr",
     "output_type": "stream",
     "text": [
      "ic| Error: Failed to access the underlying source code for analysis. Was ic() invoked in a REPL (e.g. from the command line), a frozen application (e.g. packaged with PyInstaller), or did the underlying source code change during execution?\n",
      "ic| Error: Failed to access the underlying source code for analysis. Was ic() invoked in a REPL (e.g. from the command line), a frozen application (e.g. packaged with PyInstaller), or did the underlying source code change during execution?\n",
      "ic| Error: Failed to access the underlying source code for analysis. Was ic() invoked in a REPL (e.g. from the command line), a frozen application (e.g. packaged with PyInstaller), or did the underlying source code change during execution?\n",
      "ic| Error: Failed to access the underlying source code for analysis. Was ic() invoked in a REPL (e.g. from the command line), a frozen application (e.g. packaged with PyInstaller), or did the underlying source code change during execution?\n"
     ]
    },
    {
     "data": {
      "text/plain": [
       "Ok((6, [Order(id=OrderID(uuid=UUID('b68d25ab-ed96-4254-8de3-d644438f751e'), sequence=-1), product_id='254425385aa047d58d12a18d44b8a1bf', buyer_id='fbf7495c88cc4b52b7a836d841083082', buyer_account='zxcv', buyer_phone='01067541234', buyer_address='전라북도 익산', product_name='오븐', product_img_path='/path/to/image11.jpg', buy_count=2, total_price=340000, order_date=datetime.datetime(2024, 2, 29, 16, 37, 8)), Order(id=OrderID(uuid=UUID('37afb1bb-8dae-428f-ae29-d248d80e4b70'), sequence=-1), product_id='fb67761d91ea4e449e12c52f69a62755', buyer_id='fbf7495c88cc4b52b7a836d841083082', buyer_account='zxcv', buyer_phone='01067541234', buyer_address='전라북도 익산', product_name='식기건조기', product_img_path='/path/to/image10.jpg', buy_count=2, total_price=340000, order_date=datetime.datetime(2024, 2, 29, 16, 37, 8)), Order(id=OrderID(uuid=UUID('ff9ccafa-dcef-4fa6-96e4-d4dc04eef5c4'), sequence=-1), product_id='8a7968d27c904dc1a9a0b72405b37828', buyer_id='fbf7495c88cc4b52b7a836d841083082', buyer_account='zxcv', buyer_phone='01067541234', buyer_address='전라북도 익산', product_name='밥공기', product_img_path='/path/to/image9.jpg', buy_count=2, total_price=340000, order_date=datetime.datetime(2024, 2, 29, 16, 37, 8)), Order(id=OrderID(uuid=UUID('1edfdc06-bdd7-401f-8699-b2602a3aa50e'), sequence=-1), product_id='fd75f9b4c4ea409eaf47835e45a949c3', buyer_id='fbf7495c88cc4b52b7a836d841083082', buyer_account='zxcv', buyer_phone='01067541234', buyer_address='전라북도 익산', product_name='식탁', product_img_path='/path/to/image8.jpg', buy_count=2, total_price=340000, order_date=datetime.datetime(2024, 2, 29, 16, 37, 8)), Order(id=OrderID(uuid=UUID('cfe65cfb-a895-47de-810c-c7a8d491271d'), sequence=-1), product_id='7dd0201d872b4ff496fb1cec65beb4f9', buyer_id='fbf7495c88cc4b52b7a836d841083082', buyer_account='zxcv', buyer_phone='01067541234', buyer_address='전라북도 익산', product_name='컵', product_img_path='/path/to/image7.jpg', buy_count=2, total_price=340000, order_date=datetime.datetime(2024, 2, 29, 16, 37, 8)), Order(id=OrderID(uuid=UUID('157c19ba-335c-46dc-9ec4-3b3ac93b8e5e'), sequence=-1), product_id='4ca91ef635e64cd49d5ecb484c2ba268', buyer_id='fbf7495c88cc4b52b7a836d841083082', buyer_account='zxcv', buyer_phone='01067541234', buyer_address='전라북도 익산', product_name='숟가락', product_img_path='/path/to/image6.jpg', buy_count=2, total_price=340000, order_date=datetime.datetime(2024, 2, 29, 16, 37, 8))]))"
      ]
     },
     "execution_count": 7,
     "metadata": {},
     "output_type": "execute_result"
    }
   ],
   "source": [
    "read = ReadOrderService(MySqlGetOrder(),MySqlLoadSession())\n",
    "read.get_order_data_for_buyer_page(key)"
   ]
  },
  {
   "cell_type": "code",
   "execution_count": 13,
   "metadata": {},
   "outputs": [],
   "source": [
    "login = AuthenticationMemberService(\n",
    "    auth_member_repo=LoginVerifiableAuthentication(),\n",
    "    session_repo=MakeSaveMemberSession(),\n",
    ")\n",
    "match login.login(\"vbvb\", \"12\"):\n",
    "    case Ok(auth):\n",
    "        user_id = auth.member_id\n",
    "        key = auth.get_id()\n",
    "    case _:\n",
    "        assert False, \"fail\""
   ]
  },
  {
   "cell_type": "code",
   "execution_count": 14,
   "metadata": {},
   "outputs": [
    {
     "name": "stderr",
     "output_type": "stream",
     "text": [
      "ic| ReadOrderService.py:102 in get_order_data_for_seller_page() at 17:25:26.714\n",
      "ic| ReadOrderService.py:108 in get_order_data_for_seller_page() at 17:25:26.732\n",
      "ic| ReadOrderService.py:110 in get_order_data_for_seller_page() at 17:25:26.743\n"
     ]
    },
    {
     "data": {
      "text/plain": [
       "Ok((5, [Order(id=OrderID(uuid=UUID('b68d25ab-ed96-4254-8de3-d644438f751e'), sequence=-1), product_id='254425385aa047d58d12a18d44b8a1bf', buyer_id='fbf7495c88cc4b52b7a836d841083082', buyer_account='zxcv', buyer_phone='01067541234', buyer_address='전라북도 익산', product_name='오븐', product_img_path='/path/to/image11.jpg', buy_count=2, total_price=340000, order_date=datetime.datetime(2024, 2, 29, 16, 37, 8)), Order(id=OrderID(uuid=UUID('ff9ccafa-dcef-4fa6-96e4-d4dc04eef5c4'), sequence=-1), product_id='8a7968d27c904dc1a9a0b72405b37828', buyer_id='fbf7495c88cc4b52b7a836d841083082', buyer_account='zxcv', buyer_phone='01067541234', buyer_address='전라북도 익산', product_name='밥공기', product_img_path='/path/to/image9.jpg', buy_count=2, total_price=340000, order_date=datetime.datetime(2024, 2, 29, 16, 37, 8)), Order(id=OrderID(uuid=UUID('af0723f7-d51a-4a19-977a-58c73cd8cab7'), sequence=-1), product_id='b0a6a28c317e46fba0b23f84ed0efe57', buyer_id='11472dff2d60412aa28a85995adc691b', buyer_account='asdf', buyer_phone='01036574774', buyer_address='서울시 구로구', product_name='식기건조대', product_img_path='/path/to/image.5jpg', buy_count=2, total_price=340000, order_date=datetime.datetime(2024, 2, 29, 16, 37, 8)), Order(id=OrderID(uuid=UUID('5678a0b2-cb10-47ab-9bc7-7ece5b09b840'), sequence=-1), product_id='150928ecdfa94c048eae78a167ae1e49', buyer_id='11472dff2d60412aa28a85995adc691b', buyer_account='asdf', buyer_phone='01036574774', buyer_address='서울시 구로구', product_name='전기포트', product_img_path='/path/to/image3.jpg', buy_count=2, total_price=340000, order_date=datetime.datetime(2024, 2, 29, 16, 37, 8)), Order(id=OrderID(uuid=UUID('c3371ab6-39b8-4179-838f-9409e1536ba9'), sequence=-1), product_id='5ae05cef8b594d16bcfdb36984f3a9f4', buyer_id='11472dff2d60412aa28a85995adc691b', buyer_account='asdf', buyer_phone='01036574774', buyer_address='서울시 구로구', product_name='전기밥솥', product_img_path='/path/to/image1.jpg', buy_count=2, total_price=340000, order_date=datetime.datetime(2024, 2, 29, 16, 37, 7))]))"
      ]
     },
     "execution_count": 14,
     "metadata": {},
     "output_type": "execute_result"
    }
   ],
   "source": [
    "read = ReadOrderService(MySqlGetOrder(),MySqlLoadSession())\n",
    "read.get_order_data_for_seller_page(key)"
   ]
  }
 ],
 "metadata": {
  "kernelspec": {
   "display_name": "Python 3",
   "language": "python",
   "name": "python3"
  },
  "language_info": {
   "codemirror_mode": {
    "name": "ipython",
    "version": 3
   },
   "file_extension": ".py",
   "mimetype": "text/x-python",
   "name": "python",
   "nbconvert_exporter": "python",
   "pygments_lexer": "ipython3",
   "version": "3.12.0"
  }
 },
 "nbformat": 4,
 "nbformat_minor": 2
}
