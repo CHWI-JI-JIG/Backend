{
 "cells": [
  {
   "cell_type": "code",
   "execution_count": 1,
   "metadata": {},
   "outputs": [],
   "source": [
    "import __init__\n",
    "from abc import ABCMeta, abstractmethod\n",
    "from typing import Optional, Tuple, List\n",
    "from result import Result, Ok, Err\n",
    "from datetime import datetime, timedelta\n",
    "\n",
    "from uuid import uuid4, UUID\n",
    "\n",
    "from Commons.helpers import check_hex_string\n",
    "from Domains.Members import *\n",
    "from Domains.Orders import *\n",
    "from Domains.Sessions import *\n",
    "from Domains.Products import *\n",
    "from Builders.Members import *\n",
    "from Builders.Products import *\n",
    "from Applications.Members.ExtentionMethod import hashing_passwd\n",
    "from Repositories.Members import *\n",
    "from Repositories.Products import IGetableProduct\n",
    "from Repositories.Orders import *\n",
    "from Repositories.Sessions import ILoadableSession\n",
    "from Repositories.Orders import IGetableOrder\n",
    "from Applications.Orders import *\n",
    "\n",
    "from Storages.Orders import MySqlGetOrder\n",
    "from Storages.Sessions import MySqlLoadSession\n",
    "\n",
    "from icecream import ic"
   ]
  },
  {
   "cell_type": "code",
   "execution_count": 2,
   "metadata": {},
   "outputs": [
    {
     "name": "stderr",
     "output_type": "stream",
     "text": [
      "ic| ReadOrderService.py:61 in get_order_data_for_buyer_page() at 15:40:22.483\n",
      "ic| ReadOrderService.py:67 in get_order_data_for_buyer_page() at 15:40:22.530\n",
      "ic| ReadOrderService.py:69 in get_order_data_for_buyer_page() at 15:40:22.548\n",
      "ic| ReadOrderService.py:76 in get_order_data_for_buyer_page() at 15:40:22.561\n"
     ]
    },
    {
     "data": {
      "text/plain": [
       "Ok((0, []))"
      ]
     },
     "execution_count": 2,
     "metadata": {},
     "output_type": "execute_result"
    }
   ],
   "source": [
    "read = ReadOrderService(MySqlGetOrder(),MySqlLoadSession())\n",
    "read.get_order_data_for_buyer_page(\"b843797a48d5432d944de482d7b67c59\")"
   ]
  },
  {
   "cell_type": "code",
   "execution_count": null,
   "metadata": {},
   "outputs": [],
   "source": []
  }
 ],
 "metadata": {
  "kernelspec": {
   "display_name": "Python 3",
   "language": "python",
   "name": "python3"
  },
  "language_info": {
   "codemirror_mode": {
    "name": "ipython",
    "version": 3
   },
   "file_extension": ".py",
   "mimetype": "text/x-python",
   "name": "python",
   "nbconvert_exporter": "python",
   "pygments_lexer": "ipython3",
   "version": "3.12.0"
  }
 },
 "nbformat": 4,
 "nbformat_minor": 2
}
