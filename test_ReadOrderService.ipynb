{
 "cells": [
  {
   "cell_type": "code",
   "execution_count": 2,
   "metadata": {},
   "outputs": [],
   "source": [
    "\n",
    "import __init__\n",
    "from abc import ABCMeta, abstractmethod\n",
    "from typing import Optional, Tuple, List\n",
    "from result import Result, Ok, Err\n",
    "from datetime import datetime, timedelta\n",
    "\n",
    "from uuid import uuid4, UUID\n",
    "\n",
    "from Commons.helpers import check_hex_string\n",
    "from Domains.Members import *\n",
    "from Domains.Orders import *\n",
    "from Domains.Sessions import *\n",
    "from Domains.Products import *\n",
    "from Builders.Members import *\n",
    "from Builders.Products import *\n",
    "\n",
    "\n",
    "from Repositories.Members import *\n",
    "from Repositories.Products import IGetableProduct\n",
    "from Repositories.Orders import *\n",
    "from Repositories.Sessions import ILoadableSession\n",
    "\n",
    "from Applications.Orders import *\n",
    "from Applications.Members import *\n",
    "\n",
    "from Storages.Orders import *\n",
    "from Storages.Sessions import *\n",
    "from Storages.Members import *\n",
    "\n",
    "\n",
    "from icecream import ic"
   ]
  },
  {
   "cell_type": "code",
   "execution_count": 3,
   "metadata": {},
   "outputs": [],
   "source": [
    "login = AuthenticationMemberService(\n",
    "    auth_member_repo=LoginVerifiableAuthentication(),\n",
    "    session_repo=MakeSaveMemberSession(),\n",
    ")\n",
    "match login.login(\"zxcv\", \"1qq1\"):\n",
    "    case Ok(auth):\n",
    "        user_id = auth.member_id\n",
    "        key = auth.get_id()\n",
    "    case _:\n",
    "        assert False, \"fail\""
   ]
  },
  {
   "cell_type": "code",
   "execution_count": 4,
   "metadata": {},
   "outputs": [
    {
     "data": {
      "text/plain": [
       "Ok((6, [Order(id=OrderID(uuid=UUID('08f8c29b-396d-480d-aee8-6948730590b6'), sequence=-1), product_id='ccb5fb8a610b452798d7a12ad372ec1a', buyer_id='0343b2342f8047899212cd0d52e43b15', recipient_name='박주혁', recipient_phone='01077654432', recipient_address='서울시 양천구', product_name='공식 쿠쿠 CRP-N0680SSM 6인용 열판 전기압력밥솥', product_img_path='img11.png', buy_count=2, total_price=340000, order_date=datetime.datetime(2024, 3, 1, 15, 56, 59)), Order(id=OrderID(uuid=UUID('04bbee72-017e-434b-a5a2-593fa39c2c63'), sequence=-1), product_id='2b836d92d5cd42f187012899f6ace300', buyer_id='0343b2342f8047899212cd0d52e43b15', recipient_name='강지민', recipient_phone='01033678823', recipient_address='서울시 금천구', product_name='쿠쿠 전기보온밥솥 6인용 CR-0671V', product_img_path='img10.png', buy_count=2, total_price=340000, order_date=datetime.datetime(2024, 3, 1, 15, 56, 59)), Order(id=OrderID(uuid=UUID('f52c1d56-d501-43a4-b707-b4c54a6607bb'), sequence=-1), product_id='3fcc180fef744f6f883e8aa42f5a45f9', buyer_id='0343b2342f8047899212cd0d52e43b15', recipient_name='강지호', recipient_phone='01047456669', recipient_address='광주광역시 서구 상일로', product_name='3~4인용 5분 바로밥 누룽지 압력 가마솥 압력솥 돌솥 밥솥 밥 [나무받침 주걱 포함] 효도선물 신혼부부선물 추천 3) 4~5인용(1.6L)', product_img_path='img09.png', buy_count=2, total_price=340000, order_date=datetime.datetime(2024, 3, 1, 15, 56, 59)), Order(id=OrderID(uuid=UUID('ef50f0a0-e786-495e-8518-8691cbcb106d'), sequence=-1), product_id='b2ba4301658e489c9e8ecccc499ca0d9', buyer_id='0343b2342f8047899212cd0d52e43b15', recipient_name='박종서', recipient_phone='01085569112', recipient_address='경기도 수원시', product_name='쿠쿠 전기압력밥솥 10인용 CRP-P104FB', product_img_path='img08.png', buy_count=2, total_price=340000, order_date=datetime.datetime(2024, 3, 1, 15, 56, 59)), Order(id=OrderID(uuid=UUID('2cdea47a-197e-4bbd-8601-7e56bb8088ff'), sequence=-1), product_id='135fc46b63da449f9930593808da7213', buyer_id='0343b2342f8047899212cd0d52e43b15', recipient_name='Kim jihee', recipient_phone='01036124774', recipient_address='서울시 성동구', product_name='쿠쿠 10인용 전기압력밥솥 CRP-QS1020FGM', product_img_path='img07.png', buy_count=2, total_price=340000, order_date=datetime.datetime(2024, 3, 1, 15, 56, 59)), Order(id=OrderID(uuid=UUID('3b148a64-46bd-4f81-bb12-aad115fcea78'), sequence=-1), product_id='2858643e0118499fbaffbe1860e1c5bc', buyer_id='0343b2342f8047899212cd0d52e43b15', recipient_name='류교서', recipient_phone='01077548965', recipient_address='서울시 용산구', product_name='맘쿡 전기보온 밥솥 DMC-280 17인용', product_img_path='img06.png', buy_count=2, total_price=340000, order_date=datetime.datetime(2024, 3, 1, 15, 56, 59))]))"
      ]
     },
     "execution_count": 4,
     "metadata": {},
     "output_type": "execute_result"
    }
   ],
   "source": [
    "read = ReadOrderService(MySqlGetOrder(),MySqlLoadSession())\n",
    "read.get_order_data_for_buyer_page(key)"
   ]
  },
  {
   "cell_type": "code",
   "execution_count": 7,
   "metadata": {},
   "outputs": [],
   "source": [
    "login = AuthenticationMemberService(\n",
    "    auth_member_repo=LoginVerifiableAuthentication(),\n",
    "    session_repo=MakeSaveMemberSession(),\n",
    ")\n",
    "match login.login(\"1q2w\", \"123\"):\n",
    "    case Ok(auth):\n",
    "        user_id = auth.member_id\n",
    "        key = auth.get_id()\n",
    "    case _:\n",
    "        assert False, \"fail\""
   ]
  },
  {
   "cell_type": "code",
   "execution_count": 8,
   "metadata": {},
   "outputs": [
    {
     "data": {
      "text/plain": [
       "Ok((11, [Order(id=OrderID(uuid=UUID('08f8c29b-396d-480d-aee8-6948730590b6'), sequence=-1), product_id='ccb5fb8a610b452798d7a12ad372ec1a', buyer_id='0343b2342f8047899212cd0d52e43b15', recipient_name='박주혁', recipient_phone='01077654432', recipient_address='서울시 양천구', product_name='공식 쿠쿠 CRP-N0680SSM 6인용 열판 전기압력밥솥', product_img_path='img11.png', buy_count=2, total_price=340000, order_date=datetime.datetime(2024, 3, 1, 15, 56, 59)), Order(id=OrderID(uuid=UUID('04bbee72-017e-434b-a5a2-593fa39c2c63'), sequence=-1), product_id='2b836d92d5cd42f187012899f6ace300', buyer_id='0343b2342f8047899212cd0d52e43b15', recipient_name='강지민', recipient_phone='01033678823', recipient_address='서울시 금천구', product_name='쿠쿠 전기보온밥솥 6인용 CR-0671V', product_img_path='img10.png', buy_count=2, total_price=340000, order_date=datetime.datetime(2024, 3, 1, 15, 56, 59)), Order(id=OrderID(uuid=UUID('f52c1d56-d501-43a4-b707-b4c54a6607bb'), sequence=-1), product_id='3fcc180fef744f6f883e8aa42f5a45f9', buyer_id='0343b2342f8047899212cd0d52e43b15', recipient_name='강지호', recipient_phone='01047456669', recipient_address='광주광역시 서구 상일로', product_name='3~4인용 5분 바로밥 누룽지 압력 가마솥 압력솥 돌솥 밥솥 밥 [나무받침 주걱 포함] 효도선물 신혼부부선물 추천 3) 4~5인용(1.6L)', product_img_path='img09.png', buy_count=2, total_price=340000, order_date=datetime.datetime(2024, 3, 1, 15, 56, 59)), Order(id=OrderID(uuid=UUID('ef50f0a0-e786-495e-8518-8691cbcb106d'), sequence=-1), product_id='b2ba4301658e489c9e8ecccc499ca0d9', buyer_id='0343b2342f8047899212cd0d52e43b15', recipient_name='박종서', recipient_phone='01085569112', recipient_address='경기도 수원시', product_name='쿠쿠 전기압력밥솥 10인용 CRP-P104FB', product_img_path='img08.png', buy_count=2, total_price=340000, order_date=datetime.datetime(2024, 3, 1, 15, 56, 59)), Order(id=OrderID(uuid=UUID('2cdea47a-197e-4bbd-8601-7e56bb8088ff'), sequence=-1), product_id='135fc46b63da449f9930593808da7213', buyer_id='0343b2342f8047899212cd0d52e43b15', recipient_name='Kim jihee', recipient_phone='01036124774', recipient_address='서울시 성동구', product_name='쿠쿠 10인용 전기압력밥솥 CRP-QS1020FGM', product_img_path='img07.png', buy_count=2, total_price=340000, order_date=datetime.datetime(2024, 3, 1, 15, 56, 59)), Order(id=OrderID(uuid=UUID('3b148a64-46bd-4f81-bb12-aad115fcea78'), sequence=-1), product_id='2858643e0118499fbaffbe1860e1c5bc', buyer_id='0343b2342f8047899212cd0d52e43b15', recipient_name='류교서', recipient_phone='01077548965', recipient_address='서울시 용산구', product_name='맘쿡 전기보온 밥솥 DMC-280 17인용', product_img_path='img06.png', buy_count=2, total_price=340000, order_date=datetime.datetime(2024, 3, 1, 15, 56, 59)), Order(id=OrderID(uuid=UUID('9dda0abb-fb9d-4db0-be1e-f7f5e71708d7'), sequence=-1), product_id='0879c4ce60364509ba95c019a8ba734d', buyer_id='b91b6d563edf46688c7e358cad8ba8a3', recipient_name='김효진', recipient_phone='01022456698', recipient_address='서울시 은평구', product_name='쿠첸 업소용밥솥 WM-3503 35인용', product_img_path='img05.png', buy_count=2, total_price=340000, order_date=datetime.datetime(2024, 3, 1, 15, 56, 59)), Order(id=OrderID(uuid=UUID('9dbc04d0-04e6-4dad-b0ca-35167e752435'), sequence=-1), product_id='206b865e058d4a93862eaf9688b3240c', buyer_id='b91b6d563edf46688c7e358cad8ba8a3', recipient_name='장예서', recipient_phone='01067541234', recipient_address='전라북도 익산', product_name='쿠쿠 전기압력밥솥 6인용 CRP-P0620FDM', product_img_path='img04.png', buy_count=2, total_price=340000, order_date=datetime.datetime(2024, 3, 1, 15, 56, 59)), Order(id=OrderID(uuid=UUID('32bd5769-60d6-4bd4-b78f-b2cd292ea98a'), sequence=-1), product_id='5f0ee397956349a498a9f38002288090', buyer_id='b91b6d563edf46688c7e358cad8ba8a3', recipient_name='Lee Takgun', recipient_phone='01036574774', recipient_address='서울시 구로구', product_name='제벤 디지털 마카롱 밥솥 민트 2~3인용 EURO-RM300K', product_img_path='img03.png', buy_count=2, total_price=340000, order_date=datetime.datetime(2024, 3, 1, 15, 56, 59)), Order(id=OrderID(uuid=UUID('4c3b3a07-0787-4a2a-8a35-f9ce993c666f'), sequence=-1), product_id='d22f810caaea4bbc9f81e8b0bc0f54f7', buyer_id='b91b6d563edf46688c7e358cad8ba8a3', recipient_name='이지연', recipient_phone='01098765431', recipient_address='서울시 광진구', product_name='쿠쿠 전기보온 에그밥솥 6인용 CR-0675FW', product_img_path='img02.png', buy_count=2, total_price=340000, order_date=datetime.datetime(2024, 3, 1, 15, 56, 59))]))"
      ]
     },
     "execution_count": 8,
     "metadata": {},
     "output_type": "execute_result"
    }
   ],
   "source": [
    "read = ReadOrderService(MySqlGetOrder(),MySqlLoadSession())\n",
    "read.get_order_data_for_seller_page(key)"
   ]
  }
 ],
 "metadata": {
  "kernelspec": {
   "display_name": "Python 3",
   "language": "python",
   "name": "python3"
  },
  "language_info": {
   "codemirror_mode": {
    "name": "ipython",
    "version": 3
   },
   "file_extension": ".py",
   "mimetype": "text/x-python",
   "name": "python",
   "nbconvert_exporter": "python",
   "pygments_lexer": "ipython3",
   "version": "3.12.0"
  }
 },
 "nbformat": 4,
 "nbformat_minor": 2
}
