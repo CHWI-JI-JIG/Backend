{
 "cells": [
  {
   "cell_type": "code",
   "execution_count": 1,
   "metadata": {},
   "outputs": [],
   "source": [
    "import __init__\n",
    "from abc import ABCMeta, abstractmethod\n",
    "from typing import Optional, Tuple, List\n",
    "from result import Result, Ok, Err\n",
    "from datetime import datetime, timedelta\n",
    "\n",
    "from uuid import uuid4, UUID\n",
    "\n",
    "from Domains.Members import *\n",
    "from Domains.Products import *\n",
    "from Domains.Sessions import *\n",
    "from Builders.Members import *\n",
    "from Builders.Products import *\n",
    "from Repositories.Members import *\n",
    "from Repositories.Products import *\n",
    "from Repositories.Sessions import *\n",
    "\n",
    "from Storages.Sessions.MySqlLoadSession import MySqlLoadSession\n",
    "from Storages.Members.MySqlGetMember import MySqlGetMember\n",
    "from Storages.Members.MySqlEditMember import MySqlEditMember\n",
    "\n",
    "from Applications.Members import AdminService\n",
    "\n",
    "from icecream import ic"
   ]
  },
  {
   "cell_type": "code",
   "execution_count": 6,
   "metadata": {},
   "outputs": [
    {
     "data": {
      "text/plain": [
       "Ok((4, [Member(id=MemberID(uuid=UUID('fbf7495c-88cc-4b52-b7a8-36d841083082'), sequence=-1), account='zxcv', role='buyer', passwd=None), Member(id=MemberID(uuid=UUID('11472dff-2d60-412a-a28a-85995adc691b'), sequence=-1), account='asdf', role='buyer', passwd=None), Member(id=MemberID(uuid=UUID('29acd0c0-b25c-477f-8f3f-e83f78d11b8e'), sequence=-1), account='vbvb', role='seller', passwd=None), Member(id=MemberID(uuid=UUID('f161118a-977e-4232-bd09-11724e47d21a'), sequence=-1), account='1q2w', role='seller', passwd=None)]))"
      ]
     },
     "execution_count": 6,
     "metadata": {},
     "output_type": "execute_result"
    }
   ],
   "source": [
    "admin = AdminService(MySqlGetMember(),MySqlEditMember(),MySqlLoadSession())\n",
    "admin.read_members()"
   ]
  },
  {
   "cell_type": "code",
   "execution_count": 5,
   "metadata": {},
   "outputs": [
    {
     "ename": "TypeError",
     "evalue": "Member.__init__() missing 3 required positional arguments: 'id', 'account', and 'role'",
     "output_type": "error",
     "traceback": [
      "\u001b[1;31m---------------------------------------------------------------------------\u001b[0m",
      "\u001b[1;31mTypeError\u001b[0m                                 Traceback (most recent call last)",
      "Cell \u001b[1;32mIn[5], line 3\u001b[0m\n\u001b[0;32m      1\u001b[0m admin \u001b[38;5;241m=\u001b[39m AdminService(MySqlGetMember(),MySqlEditMember(),MySqlLoadSession())\n\u001b[0;32m      2\u001b[0m \u001b[38;5;28mid\u001b[39m \u001b[38;5;241m=\u001b[39m MemberIDBuilder()\u001b[38;5;241m.\u001b[39mset_uuid(\u001b[38;5;124m\"\u001b[39m\u001b[38;5;124m8a9c60d70da449d7bbd02bd3ade7b6f5\u001b[39m\u001b[38;5;124m\"\u001b[39m)\u001b[38;5;241m.\u001b[39mbuild()\n\u001b[1;32m----> 3\u001b[0m role \u001b[38;5;241m=\u001b[39m \u001b[43mMember\u001b[49m\u001b[43m(\u001b[49m\u001b[43m)\u001b[49m\u001b[38;5;241m.\u001b[39mrole(\u001b[38;5;124m\"\u001b[39m\u001b[38;5;124m8a9c60d70da449d7bbd02bd3ade7b6f5\u001b[39m\u001b[38;5;124m\"\u001b[39m)\n\u001b[0;32m      4\u001b[0m admin\u001b[38;5;241m.\u001b[39mchange_role(role, \u001b[38;5;28mid\u001b[39m)\n",
      "\u001b[1;31mTypeError\u001b[0m: Member.__init__() missing 3 required positional arguments: 'id', 'account', and 'role'"
     ]
    }
   ],
   "source": [
    "admin = AdminService(MySqlGetMember(),MySqlEditMember(),MySqlLoadSession())\n",
    "id = MemberIDBuilder().set_uuid(\"8a9c60d70da449d7bbd02bd3ade7b6f5\").build()\n",
    "role = Member().role(\"8a9c60d70da449d7bbd02bd3ade7b6f5\")\n",
    "admin.change_role(role, id)"
   ]
  }
 ],
 "metadata": {
  "kernelspec": {
   "display_name": "Python 3",
   "language": "python",
   "name": "python3"
  },
  "language_info": {
   "codemirror_mode": {
    "name": "ipython",
    "version": 3
   },
   "file_extension": ".py",
   "mimetype": "text/x-python",
   "name": "python",
   "nbconvert_exporter": "python",
   "pygments_lexer": "ipython3",
   "version": "3.12.0"
  }
 },
 "nbformat": 4,
 "nbformat_minor": 2
}
