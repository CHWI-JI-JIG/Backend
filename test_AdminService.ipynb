{
 "cells": [
  {
   "cell_type": "code",
   "execution_count": 1,
   "metadata": {},
   "outputs": [],
   "source": [
    "import __init__\n",
    "from abc import ABCMeta, abstractmethod\n",
    "from typing import Optional, Tuple, List\n",
    "from result import Result, Ok, Err\n",
    "from datetime import datetime, timedelta\n",
    "\n",
    "from uuid import uuid4, UUID\n",
    "\n",
    "from Domains.Members import *\n",
    "from Domains.Products import *\n",
    "from Domains.Sessions import *\n",
    "from Builders.Members import *\n",
    "from Builders.Products import *\n",
    "from Repositories.Members import *\n",
    "from Repositories.Products import *\n",
    "from Repositories.Sessions import *\n",
    "\n",
    "from Storages.Sessions.MySqlLoadSession import MySqlLoadSession\n",
    "from Storages.Members.MySqlGetMember import MySqlGetMember\n",
    "from Storages.Members.MySqlEditMember import MySqlEditMember\n",
    "\n",
    "from Applications.Members import AdminService\n",
    "\n",
    "from icecream import ic"
   ]
  },
  {
   "cell_type": "code",
   "execution_count": 2,
   "metadata": {},
   "outputs": [
    {
     "data": {
      "text/plain": [
       "Ok((4, [Member(id=MemberID(uuid=UUID('0343b234-2f80-4789-9212-cd0d52e43b15'), sequence=-1), account='zxcv', role='seller', passwd=None), Member(id=MemberID(uuid=UUID('b91b6d56-3edf-4668-8c7e-358cad8ba8a3'), sequence=-1), account='asdf', role='buyer', passwd=None), Member(id=MemberID(uuid=UUID('02d48473-428f-4fd0-89cc-04bafcb4174e'), sequence=-1), account='vbvb', role='seller', passwd=None), Member(id=MemberID(uuid=UUID('515a5554-fc13-46f2-b348-3ece7b08db7f'), sequence=-1), account='1q2w', role='seller', passwd=None)]))"
      ]
     },
     "execution_count": 2,
     "metadata": {},
     "output_type": "execute_result"
    }
   ],
   "source": [
    "admin = AdminService(MySqlGetMember(),MySqlEditMember())\n",
    "admin.read_members()"
   ]
  },
  {
   "cell_type": "code",
   "execution_count": 2,
   "metadata": {},
   "outputs": [
    {
     "data": {
      "text/plain": [
       "Err('Invalid role type')"
      ]
     },
     "execution_count": 2,
     "metadata": {},
     "output_type": "execute_result"
    }
   ],
   "source": [
    "admin = AdminService(MySqlGetMember(),MySqlEditMember())\n",
    "id = MemberIDBuilder().set_uuid(\"0343b2342f8047899212cd0d52e43b15\").build()\n",
    "role = \"custom\"\n",
    "admin.change_role(role, id)"
   ]
  }
 ],
 "metadata": {
  "kernelspec": {
   "display_name": "Python 3",
   "language": "python",
   "name": "python3"
  },
  "language_info": {
   "codemirror_mode": {
    "name": "ipython",
    "version": 3
   },
   "file_extension": ".py",
   "mimetype": "text/x-python",
   "name": "python",
   "nbconvert_exporter": "python",
   "pygments_lexer": "ipython3",
   "version": "3.12.0"
  }
 },
 "nbformat": 4,
 "nbformat_minor": 2
}
